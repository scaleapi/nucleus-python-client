{
 "cells": [
  {
   "cell_type": "markdown",
   "id": "0f03a885",
   "metadata": {
    "tags": []
   },
   "source": [
    "# Getting Started With 3D Data in Scale Nucleus\n",
    "\n",
    "---\n",
    "\n",
    "\n",
    "\n",
    "In this tutorial, we'll walk through a demo of how to upload 3D Scenes to Nucleus using the open source PandaSet dataset.\n",
    "\n",
    "### Step 1: Install dependencies"
   ]
  },
  {
   "cell_type": "code",
   "execution_count": 1,
   "id": "54e70898",
   "metadata": {
    "collapsed": true,
    "jupyter": {
     "outputs_hidden": true
    },
    "tags": []
   },
   "outputs": [
    {
     "name": "stdout",
     "output_type": "stream",
     "text": [
      "Requirement already satisfied: scale-nucleus in /Users/drewkaul/Library/Caches/pypoetry/virtualenvs/scale-nucleus-nqXix_D8-py3.8/lib/python3.8/site-packages (0.1.10)\n",
      "Requirement already satisfied: aiohttp<4.0.0,>=3.7.4 in /Users/drewkaul/Library/Caches/pypoetry/virtualenvs/scale-nucleus-nqXix_D8-py3.8/lib/python3.8/site-packages (from scale-nucleus) (3.7.4.post0)\n",
      "Requirement already satisfied: tqdm<5.0.0,>=4.41.0 in /Users/drewkaul/Library/Caches/pypoetry/virtualenvs/scale-nucleus-nqXix_D8-py3.8/lib/python3.8/site-packages (from scale-nucleus) (4.61.1)\n",
      "Requirement already satisfied: requests<3.0.0,>=2.23.0 in /Users/drewkaul/Library/Caches/pypoetry/virtualenvs/scale-nucleus-nqXix_D8-py3.8/lib/python3.8/site-packages (from scale-nucleus) (2.25.1)\n",
      "Requirement already satisfied: chardet<5.0,>=2.0 in /Users/drewkaul/Library/Caches/pypoetry/virtualenvs/scale-nucleus-nqXix_D8-py3.8/lib/python3.8/site-packages (from aiohttp<4.0.0,>=3.7.4->scale-nucleus) (4.0.0)\n",
      "Requirement already satisfied: yarl<2.0,>=1.0 in /Users/drewkaul/Library/Caches/pypoetry/virtualenvs/scale-nucleus-nqXix_D8-py3.8/lib/python3.8/site-packages (from aiohttp<4.0.0,>=3.7.4->scale-nucleus) (1.6.3)\n",
      "Requirement already satisfied: typing-extensions>=3.6.5 in /Users/drewkaul/Library/Caches/pypoetry/virtualenvs/scale-nucleus-nqXix_D8-py3.8/lib/python3.8/site-packages (from aiohttp<4.0.0,>=3.7.4->scale-nucleus) (3.10.0.0)\n",
      "Requirement already satisfied: async-timeout<4.0,>=3.0 in /Users/drewkaul/Library/Caches/pypoetry/virtualenvs/scale-nucleus-nqXix_D8-py3.8/lib/python3.8/site-packages (from aiohttp<4.0.0,>=3.7.4->scale-nucleus) (3.0.1)\n",
      "Requirement already satisfied: multidict<7.0,>=4.5 in /Users/drewkaul/Library/Caches/pypoetry/virtualenvs/scale-nucleus-nqXix_D8-py3.8/lib/python3.8/site-packages (from aiohttp<4.0.0,>=3.7.4->scale-nucleus) (5.1.0)\n",
      "Requirement already satisfied: attrs>=17.3.0 in /Users/drewkaul/Library/Caches/pypoetry/virtualenvs/scale-nucleus-nqXix_D8-py3.8/lib/python3.8/site-packages (from aiohttp<4.0.0,>=3.7.4->scale-nucleus) (21.2.0)\n",
      "Requirement already satisfied: urllib3<1.27,>=1.21.1 in /Users/drewkaul/Library/Caches/pypoetry/virtualenvs/scale-nucleus-nqXix_D8-py3.8/lib/python3.8/site-packages (from requests<3.0.0,>=2.23.0->scale-nucleus) (1.26.5)\n",
      "Requirement already satisfied: idna<3,>=2.5 in /Users/drewkaul/Library/Caches/pypoetry/virtualenvs/scale-nucleus-nqXix_D8-py3.8/lib/python3.8/site-packages (from requests<3.0.0,>=2.23.0->scale-nucleus) (2.10)\n",
      "Requirement already satisfied: certifi>=2017.4.17 in /Users/drewkaul/Library/Caches/pypoetry/virtualenvs/scale-nucleus-nqXix_D8-py3.8/lib/python3.8/site-packages (from requests<3.0.0,>=2.23.0->scale-nucleus) (2021.5.30)\n",
      "Requirement already satisfied: boto3 in /Users/drewkaul/Library/Caches/pypoetry/virtualenvs/scale-nucleus-nqXix_D8-py3.8/lib/python3.8/site-packages (1.18.19)\n",
      "Requirement already satisfied: jmespath<1.0.0,>=0.7.1 in /Users/drewkaul/Library/Caches/pypoetry/virtualenvs/scale-nucleus-nqXix_D8-py3.8/lib/python3.8/site-packages (from boto3) (0.10.0)\n",
      "Requirement already satisfied: botocore<1.22.0,>=1.21.19 in /Users/drewkaul/Library/Caches/pypoetry/virtualenvs/scale-nucleus-nqXix_D8-py3.8/lib/python3.8/site-packages (from boto3) (1.21.19)\n",
      "Requirement already satisfied: s3transfer<0.6.0,>=0.5.0 in /Users/drewkaul/Library/Caches/pypoetry/virtualenvs/scale-nucleus-nqXix_D8-py3.8/lib/python3.8/site-packages (from boto3) (0.5.0)\n",
      "Requirement already satisfied: python-dateutil<3.0.0,>=2.1 in /Users/drewkaul/Library/Caches/pypoetry/virtualenvs/scale-nucleus-nqXix_D8-py3.8/lib/python3.8/site-packages (from botocore<1.22.0,>=1.21.19->boto3) (2.8.2)\n",
      "Requirement already satisfied: urllib3<1.27,>=1.25.4 in /Users/drewkaul/Library/Caches/pypoetry/virtualenvs/scale-nucleus-nqXix_D8-py3.8/lib/python3.8/site-packages (from botocore<1.22.0,>=1.21.19->boto3) (1.26.5)\n",
      "Requirement already satisfied: six>=1.5 in /Users/drewkaul/Library/Caches/pypoetry/virtualenvs/scale-nucleus-nqXix_D8-py3.8/lib/python3.8/site-packages (from python-dateutil<3.0.0,>=2.1->botocore<1.22.0,>=1.21.19->boto3) (1.16.0)\n",
      "Requirement already satisfied: botocore in /Users/drewkaul/Library/Caches/pypoetry/virtualenvs/scale-nucleus-nqXix_D8-py3.8/lib/python3.8/site-packages (1.21.19)\n",
      "Requirement already satisfied: python-dateutil<3.0.0,>=2.1 in /Users/drewkaul/Library/Caches/pypoetry/virtualenvs/scale-nucleus-nqXix_D8-py3.8/lib/python3.8/site-packages (from botocore) (2.8.2)\n",
      "Requirement already satisfied: urllib3<1.27,>=1.25.4 in /Users/drewkaul/Library/Caches/pypoetry/virtualenvs/scale-nucleus-nqXix_D8-py3.8/lib/python3.8/site-packages (from botocore) (1.26.5)\n",
      "Requirement already satisfied: jmespath<1.0.0,>=0.7.1 in /Users/drewkaul/Library/Caches/pypoetry/virtualenvs/scale-nucleus-nqXix_D8-py3.8/lib/python3.8/site-packages (from botocore) (0.10.0)\n",
      "Requirement already satisfied: six>=1.5 in /Users/drewkaul/Library/Caches/pypoetry/virtualenvs/scale-nucleus-nqXix_D8-py3.8/lib/python3.8/site-packages (from python-dateutil<3.0.0,>=2.1->botocore) (1.16.0)\n"
     ]
    },
    {
     "name": "stderr",
     "output_type": "stream",
     "text": [
      "WARNING: You are using pip version 21.1.2; however, version 21.2.4 is available.\n",
      "You should consider upgrading via the '/Users/drewkaul/Library/Caches/pypoetry/virtualenvs/scale-nucleus-nqXix_D8-py3.8/bin/python -m pip install --upgrade pip' command.\n",
      "WARNING: You are using pip version 21.1.2; however, version 21.2.4 is available.\n",
      "You should consider upgrading via the '/Users/drewkaul/Library/Caches/pypoetry/virtualenvs/scale-nucleus-nqXix_D8-py3.8/bin/python -m pip install --upgrade pip' command.\n",
      "WARNING: You are using pip version 21.1.2; however, version 21.2.4 is available.\n",
      "You should consider upgrading via the '/Users/drewkaul/Library/Caches/pypoetry/virtualenvs/scale-nucleus-nqXix_D8-py3.8/bin/python -m pip install --upgrade pip' command.\n"
     ]
    }
   ],
   "source": [
    "%%bash\n",
    "pip install scale-nucleus\n",
    "pip install boto3\n",
    "pip install botocore"
   ]
  },
  {
   "cell_type": "markdown",
   "id": "26659864",
   "metadata": {},
   "source": [
    "### Step 2: Read PandaSet files from S3\n",
    "\n",
    "More information about PandaSet can be found at: https://scale.com/open-datasets/pandaset\n",
    "\n",
    "For the purposes of this demo, we've pre-processed the PandaSet dataset into a more convenient form and made it accessible via a public S3 bucket. PandaSet is licensed under the following terms of use: https://scale.com/legal/pandaset-terms-of-use"
   ]
  },
  {
   "cell_type": "code",
   "execution_count": 2,
   "id": "f9bfbf5a",
   "metadata": {},
   "outputs": [],
   "source": [
    "import os\n",
    "import re\n",
    "import json\n",
    "import boto3\n",
    "from typing import List\n",
    "from botocore import UNSIGNED\n",
    "from botocore.client import Config\n",
    "import nucleus\n",
    "from nucleus import NucleusClient, DatasetItem, Frame, LidarScene, CuboidAnnotation, Point3D"
   ]
  },
  {
   "cell_type": "code",
   "execution_count": 3,
   "id": "044bb13c-9bbf-4b58-90d8-63b16a914752",
   "metadata": {},
   "outputs": [],
   "source": [
    "PUBLIC_PANDASET_BUCKET = \"pandaset-public\"\n",
    "\n",
    "s3 = boto3.client('s3', config=Config(signature_version=UNSIGNED))\n",
    "paginator = s3.get_paginator('list_objects_v2')\n",
    "result = paginator.paginate(Bucket=PUBLIC_PANDASET_BUCKET)"
   ]
  },
  {
   "cell_type": "code",
   "execution_count": 59,
   "id": "f5aa42b9",
   "metadata": {},
   "outputs": [],
   "source": [
    "# Get paths for all S3 objects\n",
    "object_paths = []\n",
    "for page in result:\n",
    "    if \"Contents\" in page:\n",
    "        for key in page[\"Contents\"]:\n",
    "            object_path = key[\"Key\"]\n",
    "            object_paths.append(object_path)"
   ]
  },
  {
   "cell_type": "markdown",
   "id": "a41480b8",
   "metadata": {},
   "source": [
    "## Data Exploration\n",
    "\n",
    "Here's how our dataset is structured in S3. At the outermost level, we have scenes (`001`, `002`, etc). Within each scene, we have the directories `camera`, `lidar`, and `annotations`. Within camera, we have directories for different sensors (i.e. `front_camera`, `back_camera`, etc). At the innermost level, we have files containing images (jpg), pointclouds (json), or cuboid annotations (json) corresponding to a given frame.\n",
    "    \n",
    "```\n",
    "001/\n",
    "  lidar/\n",
    "    00.json\n",
    "    01.json\n",
    "        ...\n",
    "    79.json\n",
    "  camera/\n",
    "    back_camera/\n",
    "        00.jpg\n",
    "        01.jpg\n",
    "        ...\n",
    "        79.jpg\n",
    "    front_camera/\n",
    "        00.jpg\n",
    "        01.jpg\n",
    "        ...\n",
    "        79.jpg\n",
    "    ...\n",
    "  annotations/\n",
    "    cuboids/\n",
    "        00.json\n",
    "        01.json\n",
    "            ...\n",
    "        79.json\n",
    "002/\n",
    "  ...\n",
    "```"
   ]
  },
  {
   "cell_type": "code",
   "execution_count": 49,
   "id": "453bf680",
   "metadata": {},
   "outputs": [],
   "source": [
    "# Define some helper functions\n",
    "\n",
    "def is_image_path(object_path: str):\n",
    "    return \"camera/\" in object_path and \".jpg\" in object_path\n",
    "\n",
    "def is_pointcloud_path(object_path: str):\n",
    "    return \"lidar/\" in object_path and \".json\" in object_path\n",
    "  \n",
    "def is_cuboid_path(object_path: str):\n",
    "    return \"cuboids/\" in object_path and \".json\" in object_path\n",
    "\n",
    "def read_json(path: str):\n",
    "    s3 = boto3.resource('s3', config=Config(signature_version=UNSIGNED))\n",
    "    content_object = s3.Object(BUCKET, path)\n",
    "    file_content = content_object.get()['Body'].read().decode('utf-8')\n",
    "    return json.loads(file_content)"
   ]
  },
  {
   "cell_type": "code",
   "execution_count": 48,
   "id": "817b4e90",
   "metadata": {},
   "outputs": [],
   "source": [
    "image_paths = []\n",
    "pointcloud_paths = []\n",
    "cuboid_paths = []\n",
    "\n",
    "# Get paths for all images, pointclouds, and annotations in S3\n",
    "for path in object_paths:\n",
    "    if is_image_path(path):\n",
    "        image_paths.append(path)\n",
    "    elif is_pointcloud_path(path):\n",
    "        pointcloud_paths.append(path)\n",
    "    elif is_cuboid_path(path):\n",
    "        cuboid_paths.append(path)"
   ]
  },
  {
   "cell_type": "code",
   "execution_count": 7,
   "id": "c988e1e2",
   "metadata": {
    "collapsed": true,
    "jupyter": {
     "outputs_hidden": true
    },
    "tags": []
   },
   "outputs": [
    {
     "name": "stdout",
     "output_type": "stream",
     "text": [
      "['pandaset_0/001/camera/back_camera/00.jpg', 'pandaset_0/001/camera/back_camera/01.jpg', 'pandaset_0/001/camera/back_camera/02.jpg', 'pandaset_0/001/camera/back_camera/03.jpg', 'pandaset_0/001/camera/back_camera/04.jpg', 'pandaset_0/001/camera/back_camera/05.jpg', 'pandaset_0/001/camera/back_camera/06.jpg', 'pandaset_0/001/camera/back_camera/07.jpg', 'pandaset_0/001/camera/back_camera/08.jpg', 'pandaset_0/001/camera/back_camera/09.jpg', 'pandaset_0/001/camera/back_camera/10.jpg', 'pandaset_0/001/camera/back_camera/11.jpg', 'pandaset_0/001/camera/back_camera/12.jpg', 'pandaset_0/001/camera/back_camera/13.jpg', 'pandaset_0/001/camera/back_camera/14.jpg', 'pandaset_0/001/camera/back_camera/15.jpg', 'pandaset_0/001/camera/back_camera/16.jpg', 'pandaset_0/001/camera/back_camera/17.jpg', 'pandaset_0/001/camera/back_camera/18.jpg', 'pandaset_0/001/camera/back_camera/19.jpg', 'pandaset_0/001/camera/back_camera/20.jpg', 'pandaset_0/001/camera/back_camera/21.jpg', 'pandaset_0/001/camera/back_camera/22.jpg', 'pandaset_0/001/camera/back_camera/23.jpg', 'pandaset_0/001/camera/back_camera/24.jpg', 'pandaset_0/001/camera/back_camera/25.jpg', 'pandaset_0/001/camera/back_camera/26.jpg', 'pandaset_0/001/camera/back_camera/27.jpg', 'pandaset_0/001/camera/back_camera/28.jpg', 'pandaset_0/001/camera/back_camera/29.jpg', 'pandaset_0/001/camera/back_camera/30.jpg', 'pandaset_0/001/camera/back_camera/31.jpg', 'pandaset_0/001/camera/back_camera/32.jpg', 'pandaset_0/001/camera/back_camera/33.jpg', 'pandaset_0/001/camera/back_camera/34.jpg', 'pandaset_0/001/camera/back_camera/35.jpg', 'pandaset_0/001/camera/back_camera/36.jpg', 'pandaset_0/001/camera/back_camera/37.jpg', 'pandaset_0/001/camera/back_camera/38.jpg', 'pandaset_0/001/camera/back_camera/39.jpg', 'pandaset_0/001/camera/back_camera/40.jpg', 'pandaset_0/001/camera/back_camera/41.jpg', 'pandaset_0/001/camera/back_camera/42.jpg', 'pandaset_0/001/camera/back_camera/43.jpg', 'pandaset_0/001/camera/back_camera/44.jpg', 'pandaset_0/001/camera/back_camera/45.jpg', 'pandaset_0/001/camera/back_camera/46.jpg', 'pandaset_0/001/camera/back_camera/47.jpg', 'pandaset_0/001/camera/back_camera/48.jpg', 'pandaset_0/001/camera/back_camera/49.jpg', 'pandaset_0/001/camera/back_camera/50.jpg', 'pandaset_0/001/camera/back_camera/51.jpg', 'pandaset_0/001/camera/back_camera/52.jpg', 'pandaset_0/001/camera/back_camera/53.jpg', 'pandaset_0/001/camera/back_camera/54.jpg', 'pandaset_0/001/camera/back_camera/55.jpg', 'pandaset_0/001/camera/back_camera/56.jpg', 'pandaset_0/001/camera/back_camera/57.jpg', 'pandaset_0/001/camera/back_camera/58.jpg', 'pandaset_0/001/camera/back_camera/59.jpg', 'pandaset_0/001/camera/back_camera/60.jpg', 'pandaset_0/001/camera/back_camera/61.jpg', 'pandaset_0/001/camera/back_camera/62.jpg', 'pandaset_0/001/camera/back_camera/63.jpg', 'pandaset_0/001/camera/back_camera/64.jpg', 'pandaset_0/001/camera/back_camera/65.jpg', 'pandaset_0/001/camera/back_camera/66.jpg', 'pandaset_0/001/camera/back_camera/67.jpg', 'pandaset_0/001/camera/back_camera/68.jpg', 'pandaset_0/001/camera/back_camera/69.jpg', 'pandaset_0/001/camera/back_camera/70.jpg', 'pandaset_0/001/camera/back_camera/71.jpg', 'pandaset_0/001/camera/back_camera/72.jpg', 'pandaset_0/001/camera/back_camera/73.jpg', 'pandaset_0/001/camera/back_camera/74.jpg', 'pandaset_0/001/camera/back_camera/75.jpg', 'pandaset_0/001/camera/back_camera/76.jpg', 'pandaset_0/001/camera/back_camera/77.jpg', 'pandaset_0/001/camera/back_camera/78.jpg', 'pandaset_0/001/camera/back_camera/79.jpg', 'pandaset_0/001/camera/front_camera/00.jpg', 'pandaset_0/001/camera/front_camera/01.jpg', 'pandaset_0/001/camera/front_camera/02.jpg', 'pandaset_0/001/camera/front_camera/03.jpg', 'pandaset_0/001/camera/front_camera/04.jpg', 'pandaset_0/001/camera/front_camera/05.jpg', 'pandaset_0/001/camera/front_camera/06.jpg', 'pandaset_0/001/camera/front_camera/07.jpg', 'pandaset_0/001/camera/front_camera/08.jpg', 'pandaset_0/001/camera/front_camera/09.jpg', 'pandaset_0/001/camera/front_camera/10.jpg', 'pandaset_0/001/camera/front_camera/11.jpg', 'pandaset_0/001/camera/front_camera/12.jpg', 'pandaset_0/001/camera/front_camera/13.jpg', 'pandaset_0/001/camera/front_camera/14.jpg', 'pandaset_0/001/camera/front_camera/15.jpg', 'pandaset_0/001/camera/front_camera/16.jpg', 'pandaset_0/001/camera/front_camera/17.jpg', 'pandaset_0/001/camera/front_camera/18.jpg', 'pandaset_0/001/camera/front_camera/19.jpg', 'pandaset_0/001/camera/front_camera/20.jpg', 'pandaset_0/001/camera/front_camera/21.jpg', 'pandaset_0/001/camera/front_camera/22.jpg', 'pandaset_0/001/camera/front_camera/23.jpg', 'pandaset_0/001/camera/front_camera/24.jpg', 'pandaset_0/001/camera/front_camera/25.jpg', 'pandaset_0/001/camera/front_camera/26.jpg', 'pandaset_0/001/camera/front_camera/27.jpg', 'pandaset_0/001/camera/front_camera/28.jpg', 'pandaset_0/001/camera/front_camera/29.jpg', 'pandaset_0/001/camera/front_camera/30.jpg', 'pandaset_0/001/camera/front_camera/31.jpg', 'pandaset_0/001/camera/front_camera/32.jpg', 'pandaset_0/001/camera/front_camera/33.jpg', 'pandaset_0/001/camera/front_camera/34.jpg', 'pandaset_0/001/camera/front_camera/35.jpg', 'pandaset_0/001/camera/front_camera/36.jpg', 'pandaset_0/001/camera/front_camera/37.jpg', 'pandaset_0/001/camera/front_camera/38.jpg', 'pandaset_0/001/camera/front_camera/39.jpg', 'pandaset_0/001/camera/front_camera/40.jpg', 'pandaset_0/001/camera/front_camera/41.jpg', 'pandaset_0/001/camera/front_camera/42.jpg', 'pandaset_0/001/camera/front_camera/43.jpg', 'pandaset_0/001/camera/front_camera/44.jpg', 'pandaset_0/001/camera/front_camera/45.jpg', 'pandaset_0/001/camera/front_camera/46.jpg', 'pandaset_0/001/camera/front_camera/47.jpg', 'pandaset_0/001/camera/front_camera/48.jpg', 'pandaset_0/001/camera/front_camera/49.jpg', 'pandaset_0/001/camera/front_camera/50.jpg', 'pandaset_0/001/camera/front_camera/51.jpg', 'pandaset_0/001/camera/front_camera/52.jpg', 'pandaset_0/001/camera/front_camera/53.jpg', 'pandaset_0/001/camera/front_camera/54.jpg', 'pandaset_0/001/camera/front_camera/55.jpg', 'pandaset_0/001/camera/front_camera/56.jpg', 'pandaset_0/001/camera/front_camera/57.jpg', 'pandaset_0/001/camera/front_camera/58.jpg', 'pandaset_0/001/camera/front_camera/59.jpg', 'pandaset_0/001/camera/front_camera/60.jpg', 'pandaset_0/001/camera/front_camera/61.jpg', 'pandaset_0/001/camera/front_camera/62.jpg', 'pandaset_0/001/camera/front_camera/63.jpg', 'pandaset_0/001/camera/front_camera/64.jpg', 'pandaset_0/001/camera/front_camera/65.jpg', 'pandaset_0/001/camera/front_camera/66.jpg', 'pandaset_0/001/camera/front_camera/67.jpg', 'pandaset_0/001/camera/front_camera/68.jpg', 'pandaset_0/001/camera/front_camera/69.jpg', 'pandaset_0/001/camera/front_camera/70.jpg', 'pandaset_0/001/camera/front_camera/71.jpg', 'pandaset_0/001/camera/front_camera/72.jpg', 'pandaset_0/001/camera/front_camera/73.jpg', 'pandaset_0/001/camera/front_camera/74.jpg', 'pandaset_0/001/camera/front_camera/75.jpg', 'pandaset_0/001/camera/front_camera/76.jpg', 'pandaset_0/001/camera/front_camera/77.jpg', 'pandaset_0/001/camera/front_camera/78.jpg', 'pandaset_0/001/camera/front_camera/79.jpg', 'pandaset_0/001/camera/front_left_camera/00.jpg', 'pandaset_0/001/camera/front_left_camera/01.jpg', 'pandaset_0/001/camera/front_left_camera/02.jpg', 'pandaset_0/001/camera/front_left_camera/03.jpg', 'pandaset_0/001/camera/front_left_camera/04.jpg', 'pandaset_0/001/camera/front_left_camera/05.jpg', 'pandaset_0/001/camera/front_left_camera/06.jpg', 'pandaset_0/001/camera/front_left_camera/07.jpg', 'pandaset_0/001/camera/front_left_camera/08.jpg', 'pandaset_0/001/camera/front_left_camera/09.jpg', 'pandaset_0/001/camera/front_left_camera/10.jpg', 'pandaset_0/001/camera/front_left_camera/11.jpg', 'pandaset_0/001/camera/front_left_camera/12.jpg', 'pandaset_0/001/camera/front_left_camera/13.jpg', 'pandaset_0/001/camera/front_left_camera/14.jpg', 'pandaset_0/001/camera/front_left_camera/15.jpg', 'pandaset_0/001/camera/front_left_camera/16.jpg', 'pandaset_0/001/camera/front_left_camera/17.jpg', 'pandaset_0/001/camera/front_left_camera/18.jpg', 'pandaset_0/001/camera/front_left_camera/19.jpg', 'pandaset_0/001/camera/front_left_camera/20.jpg', 'pandaset_0/001/camera/front_left_camera/21.jpg', 'pandaset_0/001/camera/front_left_camera/22.jpg', 'pandaset_0/001/camera/front_left_camera/23.jpg', 'pandaset_0/001/camera/front_left_camera/24.jpg', 'pandaset_0/001/camera/front_left_camera/25.jpg', 'pandaset_0/001/camera/front_left_camera/26.jpg', 'pandaset_0/001/camera/front_left_camera/27.jpg', 'pandaset_0/001/camera/front_left_camera/28.jpg', 'pandaset_0/001/camera/front_left_camera/29.jpg', 'pandaset_0/001/camera/front_left_camera/30.jpg', 'pandaset_0/001/camera/front_left_camera/31.jpg', 'pandaset_0/001/camera/front_left_camera/32.jpg', 'pandaset_0/001/camera/front_left_camera/33.jpg', 'pandaset_0/001/camera/front_left_camera/34.jpg', 'pandaset_0/001/camera/front_left_camera/35.jpg', 'pandaset_0/001/camera/front_left_camera/36.jpg', 'pandaset_0/001/camera/front_left_camera/37.jpg', 'pandaset_0/001/camera/front_left_camera/38.jpg', 'pandaset_0/001/camera/front_left_camera/39.jpg', 'pandaset_0/001/camera/front_left_camera/40.jpg', 'pandaset_0/001/camera/front_left_camera/41.jpg', 'pandaset_0/001/camera/front_left_camera/42.jpg', 'pandaset_0/001/camera/front_left_camera/43.jpg', 'pandaset_0/001/camera/front_left_camera/44.jpg', 'pandaset_0/001/camera/front_left_camera/45.jpg', 'pandaset_0/001/camera/front_left_camera/46.jpg', 'pandaset_0/001/camera/front_left_camera/47.jpg', 'pandaset_0/001/camera/front_left_camera/48.jpg', 'pandaset_0/001/camera/front_left_camera/49.jpg', 'pandaset_0/001/camera/front_left_camera/50.jpg', 'pandaset_0/001/camera/front_left_camera/51.jpg', 'pandaset_0/001/camera/front_left_camera/52.jpg', 'pandaset_0/001/camera/front_left_camera/53.jpg', 'pandaset_0/001/camera/front_left_camera/54.jpg', 'pandaset_0/001/camera/front_left_camera/55.jpg', 'pandaset_0/001/camera/front_left_camera/56.jpg', 'pandaset_0/001/camera/front_left_camera/57.jpg', 'pandaset_0/001/camera/front_left_camera/58.jpg', 'pandaset_0/001/camera/front_left_camera/59.jpg', 'pandaset_0/001/camera/front_left_camera/60.jpg', 'pandaset_0/001/camera/front_left_camera/61.jpg', 'pandaset_0/001/camera/front_left_camera/62.jpg', 'pandaset_0/001/camera/front_left_camera/63.jpg', 'pandaset_0/001/camera/front_left_camera/64.jpg', 'pandaset_0/001/camera/front_left_camera/65.jpg', 'pandaset_0/001/camera/front_left_camera/66.jpg', 'pandaset_0/001/camera/front_left_camera/67.jpg', 'pandaset_0/001/camera/front_left_camera/68.jpg', 'pandaset_0/001/camera/front_left_camera/69.jpg', 'pandaset_0/001/camera/front_left_camera/70.jpg', 'pandaset_0/001/camera/front_left_camera/71.jpg', 'pandaset_0/001/camera/front_left_camera/72.jpg', 'pandaset_0/001/camera/front_left_camera/73.jpg', 'pandaset_0/001/camera/front_left_camera/74.jpg', 'pandaset_0/001/camera/front_left_camera/75.jpg', 'pandaset_0/001/camera/front_left_camera/76.jpg', 'pandaset_0/001/camera/front_left_camera/77.jpg', 'pandaset_0/001/camera/front_left_camera/78.jpg', 'pandaset_0/001/camera/front_left_camera/79.jpg', 'pandaset_0/001/camera/front_right_camera/00.jpg', 'pandaset_0/001/camera/front_right_camera/01.jpg', 'pandaset_0/001/camera/front_right_camera/02.jpg', 'pandaset_0/001/camera/front_right_camera/03.jpg', 'pandaset_0/001/camera/front_right_camera/04.jpg', 'pandaset_0/001/camera/front_right_camera/05.jpg', 'pandaset_0/001/camera/front_right_camera/06.jpg', 'pandaset_0/001/camera/front_right_camera/07.jpg', 'pandaset_0/001/camera/front_right_camera/08.jpg', 'pandaset_0/001/camera/front_right_camera/09.jpg', 'pandaset_0/001/camera/front_right_camera/10.jpg', 'pandaset_0/001/camera/front_right_camera/11.jpg', 'pandaset_0/001/camera/front_right_camera/12.jpg', 'pandaset_0/001/camera/front_right_camera/13.jpg', 'pandaset_0/001/camera/front_right_camera/14.jpg', 'pandaset_0/001/camera/front_right_camera/15.jpg', 'pandaset_0/001/camera/front_right_camera/16.jpg', 'pandaset_0/001/camera/front_right_camera/17.jpg', 'pandaset_0/001/camera/front_right_camera/18.jpg', 'pandaset_0/001/camera/front_right_camera/19.jpg', 'pandaset_0/001/camera/front_right_camera/20.jpg', 'pandaset_0/001/camera/front_right_camera/21.jpg', 'pandaset_0/001/camera/front_right_camera/22.jpg', 'pandaset_0/001/camera/front_right_camera/23.jpg', 'pandaset_0/001/camera/front_right_camera/24.jpg', 'pandaset_0/001/camera/front_right_camera/25.jpg', 'pandaset_0/001/camera/front_right_camera/26.jpg', 'pandaset_0/001/camera/front_right_camera/27.jpg', 'pandaset_0/001/camera/front_right_camera/28.jpg', 'pandaset_0/001/camera/front_right_camera/29.jpg', 'pandaset_0/001/camera/front_right_camera/30.jpg', 'pandaset_0/001/camera/front_right_camera/31.jpg', 'pandaset_0/001/camera/front_right_camera/32.jpg', 'pandaset_0/001/camera/front_right_camera/33.jpg', 'pandaset_0/001/camera/front_right_camera/34.jpg', 'pandaset_0/001/camera/front_right_camera/35.jpg', 'pandaset_0/001/camera/front_right_camera/36.jpg', 'pandaset_0/001/camera/front_right_camera/37.jpg', 'pandaset_0/001/camera/front_right_camera/38.jpg', 'pandaset_0/001/camera/front_right_camera/39.jpg', 'pandaset_0/001/camera/front_right_camera/40.jpg', 'pandaset_0/001/camera/front_right_camera/41.jpg', 'pandaset_0/001/camera/front_right_camera/42.jpg', 'pandaset_0/001/camera/front_right_camera/43.jpg', 'pandaset_0/001/camera/front_right_camera/44.jpg', 'pandaset_0/001/camera/front_right_camera/45.jpg', 'pandaset_0/001/camera/front_right_camera/46.jpg', 'pandaset_0/001/camera/front_right_camera/47.jpg', 'pandaset_0/001/camera/front_right_camera/48.jpg', 'pandaset_0/001/camera/front_right_camera/49.jpg', 'pandaset_0/001/camera/front_right_camera/50.jpg', 'pandaset_0/001/camera/front_right_camera/51.jpg', 'pandaset_0/001/camera/front_right_camera/52.jpg', 'pandaset_0/001/camera/front_right_camera/53.jpg', 'pandaset_0/001/camera/front_right_camera/54.jpg', 'pandaset_0/001/camera/front_right_camera/55.jpg', 'pandaset_0/001/camera/front_right_camera/56.jpg', 'pandaset_0/001/camera/front_right_camera/57.jpg', 'pandaset_0/001/camera/front_right_camera/58.jpg', 'pandaset_0/001/camera/front_right_camera/59.jpg', 'pandaset_0/001/camera/front_right_camera/60.jpg', 'pandaset_0/001/camera/front_right_camera/61.jpg', 'pandaset_0/001/camera/front_right_camera/62.jpg', 'pandaset_0/001/camera/front_right_camera/63.jpg', 'pandaset_0/001/camera/front_right_camera/64.jpg', 'pandaset_0/001/camera/front_right_camera/65.jpg', 'pandaset_0/001/camera/front_right_camera/66.jpg', 'pandaset_0/001/camera/front_right_camera/67.jpg', 'pandaset_0/001/camera/front_right_camera/68.jpg', 'pandaset_0/001/camera/front_right_camera/69.jpg', 'pandaset_0/001/camera/front_right_camera/70.jpg', 'pandaset_0/001/camera/front_right_camera/71.jpg', 'pandaset_0/001/camera/front_right_camera/72.jpg', 'pandaset_0/001/camera/front_right_camera/73.jpg', 'pandaset_0/001/camera/front_right_camera/74.jpg', 'pandaset_0/001/camera/front_right_camera/75.jpg', 'pandaset_0/001/camera/front_right_camera/76.jpg', 'pandaset_0/001/camera/front_right_camera/77.jpg', 'pandaset_0/001/camera/front_right_camera/78.jpg', 'pandaset_0/001/camera/front_right_camera/79.jpg', 'pandaset_0/001/camera/left_camera/00.jpg', 'pandaset_0/001/camera/left_camera/01.jpg', 'pandaset_0/001/camera/left_camera/02.jpg', 'pandaset_0/001/camera/left_camera/03.jpg', 'pandaset_0/001/camera/left_camera/04.jpg', 'pandaset_0/001/camera/left_camera/05.jpg', 'pandaset_0/001/camera/left_camera/06.jpg', 'pandaset_0/001/camera/left_camera/07.jpg', 'pandaset_0/001/camera/left_camera/08.jpg', 'pandaset_0/001/camera/left_camera/09.jpg', 'pandaset_0/001/camera/left_camera/10.jpg', 'pandaset_0/001/camera/left_camera/11.jpg', 'pandaset_0/001/camera/left_camera/12.jpg', 'pandaset_0/001/camera/left_camera/13.jpg', 'pandaset_0/001/camera/left_camera/14.jpg', 'pandaset_0/001/camera/left_camera/15.jpg', 'pandaset_0/001/camera/left_camera/16.jpg', 'pandaset_0/001/camera/left_camera/17.jpg', 'pandaset_0/001/camera/left_camera/18.jpg', 'pandaset_0/001/camera/left_camera/19.jpg', 'pandaset_0/001/camera/left_camera/20.jpg', 'pandaset_0/001/camera/left_camera/21.jpg', 'pandaset_0/001/camera/left_camera/22.jpg', 'pandaset_0/001/camera/left_camera/23.jpg', 'pandaset_0/001/camera/left_camera/24.jpg', 'pandaset_0/001/camera/left_camera/25.jpg', 'pandaset_0/001/camera/left_camera/26.jpg', 'pandaset_0/001/camera/left_camera/27.jpg', 'pandaset_0/001/camera/left_camera/28.jpg', 'pandaset_0/001/camera/left_camera/29.jpg', 'pandaset_0/001/camera/left_camera/30.jpg', 'pandaset_0/001/camera/left_camera/31.jpg', 'pandaset_0/001/camera/left_camera/32.jpg', 'pandaset_0/001/camera/left_camera/33.jpg', 'pandaset_0/001/camera/left_camera/34.jpg', 'pandaset_0/001/camera/left_camera/35.jpg', 'pandaset_0/001/camera/left_camera/36.jpg', 'pandaset_0/001/camera/left_camera/37.jpg', 'pandaset_0/001/camera/left_camera/38.jpg', 'pandaset_0/001/camera/left_camera/39.jpg', 'pandaset_0/001/camera/left_camera/40.jpg', 'pandaset_0/001/camera/left_camera/41.jpg', 'pandaset_0/001/camera/left_camera/42.jpg', 'pandaset_0/001/camera/left_camera/43.jpg', 'pandaset_0/001/camera/left_camera/44.jpg', 'pandaset_0/001/camera/left_camera/45.jpg', 'pandaset_0/001/camera/left_camera/46.jpg', 'pandaset_0/001/camera/left_camera/47.jpg', 'pandaset_0/001/camera/left_camera/48.jpg', 'pandaset_0/001/camera/left_camera/49.jpg', 'pandaset_0/001/camera/left_camera/50.jpg', 'pandaset_0/001/camera/left_camera/51.jpg', 'pandaset_0/001/camera/left_camera/52.jpg', 'pandaset_0/001/camera/left_camera/53.jpg', 'pandaset_0/001/camera/left_camera/54.jpg', 'pandaset_0/001/camera/left_camera/55.jpg', 'pandaset_0/001/camera/left_camera/56.jpg', 'pandaset_0/001/camera/left_camera/57.jpg', 'pandaset_0/001/camera/left_camera/58.jpg', 'pandaset_0/001/camera/left_camera/59.jpg', 'pandaset_0/001/camera/left_camera/60.jpg', 'pandaset_0/001/camera/left_camera/61.jpg', 'pandaset_0/001/camera/left_camera/62.jpg', 'pandaset_0/001/camera/left_camera/63.jpg', 'pandaset_0/001/camera/left_camera/64.jpg', 'pandaset_0/001/camera/left_camera/65.jpg', 'pandaset_0/001/camera/left_camera/66.jpg', 'pandaset_0/001/camera/left_camera/67.jpg', 'pandaset_0/001/camera/left_camera/68.jpg', 'pandaset_0/001/camera/left_camera/69.jpg', 'pandaset_0/001/camera/left_camera/70.jpg', 'pandaset_0/001/camera/left_camera/71.jpg', 'pandaset_0/001/camera/left_camera/72.jpg', 'pandaset_0/001/camera/left_camera/73.jpg', 'pandaset_0/001/camera/left_camera/74.jpg', 'pandaset_0/001/camera/left_camera/75.jpg', 'pandaset_0/001/camera/left_camera/76.jpg', 'pandaset_0/001/camera/left_camera/77.jpg', 'pandaset_0/001/camera/left_camera/78.jpg', 'pandaset_0/001/camera/left_camera/79.jpg', 'pandaset_0/001/camera/right_camera/00.jpg', 'pandaset_0/001/camera/right_camera/01.jpg', 'pandaset_0/001/camera/right_camera/02.jpg', 'pandaset_0/001/camera/right_camera/03.jpg', 'pandaset_0/001/camera/right_camera/04.jpg', 'pandaset_0/001/camera/right_camera/05.jpg', 'pandaset_0/001/camera/right_camera/06.jpg', 'pandaset_0/001/camera/right_camera/07.jpg', 'pandaset_0/001/camera/right_camera/08.jpg', 'pandaset_0/001/camera/right_camera/09.jpg', 'pandaset_0/001/camera/right_camera/10.jpg', 'pandaset_0/001/camera/right_camera/11.jpg', 'pandaset_0/001/camera/right_camera/12.jpg', 'pandaset_0/001/camera/right_camera/13.jpg', 'pandaset_0/001/camera/right_camera/14.jpg', 'pandaset_0/001/camera/right_camera/15.jpg', 'pandaset_0/001/camera/right_camera/16.jpg', 'pandaset_0/001/camera/right_camera/17.jpg', 'pandaset_0/001/camera/right_camera/18.jpg', 'pandaset_0/001/camera/right_camera/19.jpg', 'pandaset_0/001/camera/right_camera/20.jpg', 'pandaset_0/001/camera/right_camera/21.jpg', 'pandaset_0/001/camera/right_camera/22.jpg', 'pandaset_0/001/camera/right_camera/23.jpg', 'pandaset_0/001/camera/right_camera/24.jpg', 'pandaset_0/001/camera/right_camera/25.jpg', 'pandaset_0/001/camera/right_camera/26.jpg', 'pandaset_0/001/camera/right_camera/27.jpg', 'pandaset_0/001/camera/right_camera/28.jpg', 'pandaset_0/001/camera/right_camera/29.jpg', 'pandaset_0/001/camera/right_camera/30.jpg', 'pandaset_0/001/camera/right_camera/31.jpg', 'pandaset_0/001/camera/right_camera/32.jpg', 'pandaset_0/001/camera/right_camera/33.jpg', 'pandaset_0/001/camera/right_camera/34.jpg', 'pandaset_0/001/camera/right_camera/35.jpg', 'pandaset_0/001/camera/right_camera/36.jpg', 'pandaset_0/001/camera/right_camera/37.jpg', 'pandaset_0/001/camera/right_camera/38.jpg', 'pandaset_0/001/camera/right_camera/39.jpg', 'pandaset_0/001/camera/right_camera/40.jpg', 'pandaset_0/001/camera/right_camera/41.jpg', 'pandaset_0/001/camera/right_camera/42.jpg', 'pandaset_0/001/camera/right_camera/43.jpg', 'pandaset_0/001/camera/right_camera/44.jpg', 'pandaset_0/001/camera/right_camera/45.jpg', 'pandaset_0/001/camera/right_camera/46.jpg', 'pandaset_0/001/camera/right_camera/47.jpg', 'pandaset_0/001/camera/right_camera/48.jpg', 'pandaset_0/001/camera/right_camera/49.jpg', 'pandaset_0/001/camera/right_camera/50.jpg', 'pandaset_0/001/camera/right_camera/51.jpg', 'pandaset_0/001/camera/right_camera/52.jpg', 'pandaset_0/001/camera/right_camera/53.jpg', 'pandaset_0/001/camera/right_camera/54.jpg', 'pandaset_0/001/camera/right_camera/55.jpg', 'pandaset_0/001/camera/right_camera/56.jpg', 'pandaset_0/001/camera/right_camera/57.jpg', 'pandaset_0/001/camera/right_camera/58.jpg', 'pandaset_0/001/camera/right_camera/59.jpg', 'pandaset_0/001/camera/right_camera/60.jpg', 'pandaset_0/001/camera/right_camera/61.jpg', 'pandaset_0/001/camera/right_camera/62.jpg', 'pandaset_0/001/camera/right_camera/63.jpg', 'pandaset_0/001/camera/right_camera/64.jpg', 'pandaset_0/001/camera/right_camera/65.jpg', 'pandaset_0/001/camera/right_camera/66.jpg', 'pandaset_0/001/camera/right_camera/67.jpg', 'pandaset_0/001/camera/right_camera/68.jpg', 'pandaset_0/001/camera/right_camera/69.jpg', 'pandaset_0/001/camera/right_camera/70.jpg', 'pandaset_0/001/camera/right_camera/71.jpg', 'pandaset_0/001/camera/right_camera/72.jpg', 'pandaset_0/001/camera/right_camera/73.jpg', 'pandaset_0/001/camera/right_camera/74.jpg', 'pandaset_0/001/camera/right_camera/75.jpg', 'pandaset_0/001/camera/right_camera/76.jpg', 'pandaset_0/001/camera/right_camera/77.jpg', 'pandaset_0/001/camera/right_camera/78.jpg', 'pandaset_0/001/camera/right_camera/79.jpg', 'pandaset_0/006/camera/back_camera/00.jpg', 'pandaset_0/006/camera/back_camera/01.jpg', 'pandaset_0/006/camera/back_camera/02.jpg', 'pandaset_0/006/camera/back_camera/03.jpg', 'pandaset_0/006/camera/back_camera/04.jpg', 'pandaset_0/006/camera/back_camera/05.jpg', 'pandaset_0/006/camera/back_camera/06.jpg', 'pandaset_0/006/camera/back_camera/07.jpg', 'pandaset_0/006/camera/back_camera/08.jpg', 'pandaset_0/006/camera/back_camera/09.jpg', 'pandaset_0/006/camera/back_camera/10.jpg', 'pandaset_0/006/camera/back_camera/11.jpg', 'pandaset_0/006/camera/back_camera/12.jpg', 'pandaset_0/006/camera/back_camera/13.jpg', 'pandaset_0/006/camera/back_camera/14.jpg', 'pandaset_0/006/camera/back_camera/15.jpg', 'pandaset_0/006/camera/back_camera/16.jpg', 'pandaset_0/006/camera/back_camera/17.jpg', 'pandaset_0/006/camera/back_camera/18.jpg', 'pandaset_0/006/camera/back_camera/19.jpg', 'pandaset_0/006/camera/back_camera/20.jpg', 'pandaset_0/006/camera/back_camera/21.jpg', 'pandaset_0/006/camera/back_camera/22.jpg', 'pandaset_0/006/camera/back_camera/23.jpg', 'pandaset_0/006/camera/back_camera/24.jpg', 'pandaset_0/006/camera/back_camera/25.jpg', 'pandaset_0/006/camera/back_camera/26.jpg', 'pandaset_0/006/camera/back_camera/27.jpg', 'pandaset_0/006/camera/back_camera/28.jpg', 'pandaset_0/006/camera/back_camera/29.jpg', 'pandaset_0/006/camera/back_camera/30.jpg', 'pandaset_0/006/camera/back_camera/31.jpg', 'pandaset_0/006/camera/back_camera/32.jpg', 'pandaset_0/006/camera/back_camera/33.jpg', 'pandaset_0/006/camera/back_camera/34.jpg', 'pandaset_0/006/camera/back_camera/35.jpg', 'pandaset_0/006/camera/back_camera/36.jpg', 'pandaset_0/006/camera/back_camera/37.jpg', 'pandaset_0/006/camera/back_camera/38.jpg', 'pandaset_0/006/camera/back_camera/39.jpg', 'pandaset_0/006/camera/back_camera/40.jpg', 'pandaset_0/006/camera/back_camera/41.jpg', 'pandaset_0/006/camera/back_camera/42.jpg', 'pandaset_0/006/camera/back_camera/43.jpg', 'pandaset_0/006/camera/back_camera/44.jpg', 'pandaset_0/006/camera/back_camera/45.jpg', 'pandaset_0/006/camera/back_camera/46.jpg', 'pandaset_0/006/camera/back_camera/47.jpg', 'pandaset_0/006/camera/back_camera/48.jpg', 'pandaset_0/006/camera/back_camera/49.jpg', 'pandaset_0/006/camera/back_camera/50.jpg', 'pandaset_0/006/camera/back_camera/51.jpg', 'pandaset_0/006/camera/back_camera/52.jpg', 'pandaset_0/006/camera/back_camera/53.jpg', 'pandaset_0/006/camera/back_camera/54.jpg', 'pandaset_0/006/camera/back_camera/55.jpg', 'pandaset_0/006/camera/back_camera/56.jpg', 'pandaset_0/006/camera/back_camera/57.jpg', 'pandaset_0/006/camera/back_camera/58.jpg', 'pandaset_0/006/camera/back_camera/59.jpg', 'pandaset_0/006/camera/back_camera/60.jpg', 'pandaset_0/006/camera/back_camera/61.jpg', 'pandaset_0/006/camera/back_camera/62.jpg', 'pandaset_0/006/camera/back_camera/63.jpg', 'pandaset_0/006/camera/back_camera/64.jpg', 'pandaset_0/006/camera/back_camera/65.jpg', 'pandaset_0/006/camera/back_camera/66.jpg', 'pandaset_0/006/camera/back_camera/67.jpg', 'pandaset_0/006/camera/back_camera/68.jpg', 'pandaset_0/006/camera/back_camera/69.jpg', 'pandaset_0/006/camera/back_camera/70.jpg', 'pandaset_0/006/camera/back_camera/71.jpg', 'pandaset_0/006/camera/back_camera/72.jpg', 'pandaset_0/006/camera/back_camera/73.jpg', 'pandaset_0/006/camera/back_camera/74.jpg', 'pandaset_0/006/camera/back_camera/75.jpg', 'pandaset_0/006/camera/back_camera/76.jpg', 'pandaset_0/006/camera/back_camera/77.jpg', 'pandaset_0/006/camera/back_camera/78.jpg', 'pandaset_0/006/camera/back_camera/79.jpg', 'pandaset_0/006/camera/front_camera/00.jpg', 'pandaset_0/006/camera/front_camera/01.jpg', 'pandaset_0/006/camera/front_camera/02.jpg', 'pandaset_0/006/camera/front_camera/03.jpg', 'pandaset_0/006/camera/front_camera/04.jpg', 'pandaset_0/006/camera/front_camera/05.jpg', 'pandaset_0/006/camera/front_camera/06.jpg', 'pandaset_0/006/camera/front_camera/07.jpg', 'pandaset_0/006/camera/front_camera/08.jpg', 'pandaset_0/006/camera/front_camera/09.jpg', 'pandaset_0/006/camera/front_camera/10.jpg', 'pandaset_0/006/camera/front_camera/11.jpg', 'pandaset_0/006/camera/front_camera/12.jpg', 'pandaset_0/006/camera/front_camera/13.jpg', 'pandaset_0/006/camera/front_camera/14.jpg', 'pandaset_0/006/camera/front_camera/15.jpg', 'pandaset_0/006/camera/front_camera/16.jpg', 'pandaset_0/006/camera/front_camera/17.jpg', 'pandaset_0/006/camera/front_camera/18.jpg', 'pandaset_0/006/camera/front_camera/19.jpg', 'pandaset_0/006/camera/front_camera/20.jpg', 'pandaset_0/006/camera/front_camera/21.jpg', 'pandaset_0/006/camera/front_camera/22.jpg', 'pandaset_0/006/camera/front_camera/23.jpg', 'pandaset_0/006/camera/front_camera/24.jpg', 'pandaset_0/006/camera/front_camera/25.jpg', 'pandaset_0/006/camera/front_camera/26.jpg', 'pandaset_0/006/camera/front_camera/27.jpg', 'pandaset_0/006/camera/front_camera/28.jpg', 'pandaset_0/006/camera/front_camera/29.jpg', 'pandaset_0/006/camera/front_camera/30.jpg', 'pandaset_0/006/camera/front_camera/31.jpg', 'pandaset_0/006/camera/front_camera/32.jpg', 'pandaset_0/006/camera/front_camera/33.jpg', 'pandaset_0/006/camera/front_camera/34.jpg', 'pandaset_0/006/camera/front_camera/35.jpg', 'pandaset_0/006/camera/front_camera/36.jpg', 'pandaset_0/006/camera/front_camera/37.jpg', 'pandaset_0/006/camera/front_camera/38.jpg', 'pandaset_0/006/camera/front_camera/39.jpg', 'pandaset_0/006/camera/front_camera/40.jpg', 'pandaset_0/006/camera/front_camera/41.jpg', 'pandaset_0/006/camera/front_camera/42.jpg', 'pandaset_0/006/camera/front_camera/43.jpg', 'pandaset_0/006/camera/front_camera/44.jpg', 'pandaset_0/006/camera/front_camera/45.jpg', 'pandaset_0/006/camera/front_camera/46.jpg', 'pandaset_0/006/camera/front_camera/47.jpg', 'pandaset_0/006/camera/front_camera/48.jpg', 'pandaset_0/006/camera/front_camera/49.jpg', 'pandaset_0/006/camera/front_camera/50.jpg', 'pandaset_0/006/camera/front_camera/51.jpg', 'pandaset_0/006/camera/front_camera/52.jpg', 'pandaset_0/006/camera/front_camera/53.jpg', 'pandaset_0/006/camera/front_camera/54.jpg', 'pandaset_0/006/camera/front_camera/55.jpg', 'pandaset_0/006/camera/front_camera/56.jpg', 'pandaset_0/006/camera/front_camera/57.jpg', 'pandaset_0/006/camera/front_camera/58.jpg', 'pandaset_0/006/camera/front_camera/59.jpg', 'pandaset_0/006/camera/front_camera/60.jpg', 'pandaset_0/006/camera/front_camera/61.jpg', 'pandaset_0/006/camera/front_camera/62.jpg', 'pandaset_0/006/camera/front_camera/63.jpg', 'pandaset_0/006/camera/front_camera/64.jpg', 'pandaset_0/006/camera/front_camera/65.jpg', 'pandaset_0/006/camera/front_camera/66.jpg', 'pandaset_0/006/camera/front_camera/67.jpg', 'pandaset_0/006/camera/front_camera/68.jpg', 'pandaset_0/006/camera/front_camera/69.jpg', 'pandaset_0/006/camera/front_camera/70.jpg', 'pandaset_0/006/camera/front_camera/71.jpg', 'pandaset_0/006/camera/front_camera/72.jpg', 'pandaset_0/006/camera/front_camera/73.jpg', 'pandaset_0/006/camera/front_camera/74.jpg', 'pandaset_0/006/camera/front_camera/75.jpg', 'pandaset_0/006/camera/front_camera/76.jpg', 'pandaset_0/006/camera/front_camera/77.jpg', 'pandaset_0/006/camera/front_camera/78.jpg', 'pandaset_0/006/camera/front_camera/79.jpg', 'pandaset_0/006/camera/front_left_camera/00.jpg', 'pandaset_0/006/camera/front_left_camera/01.jpg', 'pandaset_0/006/camera/front_left_camera/02.jpg', 'pandaset_0/006/camera/front_left_camera/03.jpg', 'pandaset_0/006/camera/front_left_camera/04.jpg', 'pandaset_0/006/camera/front_left_camera/05.jpg', 'pandaset_0/006/camera/front_left_camera/06.jpg', 'pandaset_0/006/camera/front_left_camera/07.jpg', 'pandaset_0/006/camera/front_left_camera/08.jpg', 'pandaset_0/006/camera/front_left_camera/09.jpg', 'pandaset_0/006/camera/front_left_camera/10.jpg', 'pandaset_0/006/camera/front_left_camera/11.jpg', 'pandaset_0/006/camera/front_left_camera/12.jpg', 'pandaset_0/006/camera/front_left_camera/13.jpg', 'pandaset_0/006/camera/front_left_camera/14.jpg', 'pandaset_0/006/camera/front_left_camera/15.jpg', 'pandaset_0/006/camera/front_left_camera/16.jpg', 'pandaset_0/006/camera/front_left_camera/17.jpg', 'pandaset_0/006/camera/front_left_camera/18.jpg', 'pandaset_0/006/camera/front_left_camera/19.jpg', 'pandaset_0/006/camera/front_left_camera/20.jpg', 'pandaset_0/006/camera/front_left_camera/21.jpg', 'pandaset_0/006/camera/front_left_camera/22.jpg', 'pandaset_0/006/camera/front_left_camera/23.jpg', 'pandaset_0/006/camera/front_left_camera/24.jpg', 'pandaset_0/006/camera/front_left_camera/25.jpg', 'pandaset_0/006/camera/front_left_camera/26.jpg', 'pandaset_0/006/camera/front_left_camera/27.jpg', 'pandaset_0/006/camera/front_left_camera/28.jpg', 'pandaset_0/006/camera/front_left_camera/29.jpg', 'pandaset_0/006/camera/front_left_camera/30.jpg', 'pandaset_0/006/camera/front_left_camera/31.jpg', 'pandaset_0/006/camera/front_left_camera/32.jpg', 'pandaset_0/006/camera/front_left_camera/33.jpg', 'pandaset_0/006/camera/front_left_camera/34.jpg', 'pandaset_0/006/camera/front_left_camera/35.jpg', 'pandaset_0/006/camera/front_left_camera/36.jpg', 'pandaset_0/006/camera/front_left_camera/37.jpg', 'pandaset_0/006/camera/front_left_camera/38.jpg', 'pandaset_0/006/camera/front_left_camera/39.jpg', 'pandaset_0/006/camera/front_left_camera/40.jpg', 'pandaset_0/006/camera/front_left_camera/41.jpg', 'pandaset_0/006/camera/front_left_camera/42.jpg', 'pandaset_0/006/camera/front_left_camera/43.jpg', 'pandaset_0/006/camera/front_left_camera/44.jpg', 'pandaset_0/006/camera/front_left_camera/45.jpg', 'pandaset_0/006/camera/front_left_camera/46.jpg', 'pandaset_0/006/camera/front_left_camera/47.jpg', 'pandaset_0/006/camera/front_left_camera/48.jpg', 'pandaset_0/006/camera/front_left_camera/49.jpg', 'pandaset_0/006/camera/front_left_camera/50.jpg', 'pandaset_0/006/camera/front_left_camera/51.jpg', 'pandaset_0/006/camera/front_left_camera/52.jpg', 'pandaset_0/006/camera/front_left_camera/53.jpg', 'pandaset_0/006/camera/front_left_camera/54.jpg', 'pandaset_0/006/camera/front_left_camera/55.jpg', 'pandaset_0/006/camera/front_left_camera/56.jpg', 'pandaset_0/006/camera/front_left_camera/57.jpg', 'pandaset_0/006/camera/front_left_camera/58.jpg', 'pandaset_0/006/camera/front_left_camera/59.jpg', 'pandaset_0/006/camera/front_left_camera/60.jpg', 'pandaset_0/006/camera/front_left_camera/61.jpg', 'pandaset_0/006/camera/front_left_camera/62.jpg', 'pandaset_0/006/camera/front_left_camera/63.jpg', 'pandaset_0/006/camera/front_left_camera/64.jpg', 'pandaset_0/006/camera/front_left_camera/65.jpg', 'pandaset_0/006/camera/front_left_camera/66.jpg', 'pandaset_0/006/camera/front_left_camera/67.jpg', 'pandaset_0/006/camera/front_left_camera/68.jpg', 'pandaset_0/006/camera/front_left_camera/69.jpg', 'pandaset_0/006/camera/front_left_camera/70.jpg', 'pandaset_0/006/camera/front_left_camera/71.jpg', 'pandaset_0/006/camera/front_left_camera/72.jpg', 'pandaset_0/006/camera/front_left_camera/73.jpg', 'pandaset_0/006/camera/front_left_camera/74.jpg', 'pandaset_0/006/camera/front_left_camera/75.jpg', 'pandaset_0/006/camera/front_left_camera/76.jpg', 'pandaset_0/006/camera/front_left_camera/77.jpg', 'pandaset_0/006/camera/front_left_camera/78.jpg', 'pandaset_0/006/camera/front_left_camera/79.jpg', 'pandaset_0/006/camera/front_right_camera/00.jpg', 'pandaset_0/006/camera/front_right_camera/01.jpg', 'pandaset_0/006/camera/front_right_camera/02.jpg', 'pandaset_0/006/camera/front_right_camera/03.jpg', 'pandaset_0/006/camera/front_right_camera/04.jpg', 'pandaset_0/006/camera/front_right_camera/05.jpg', 'pandaset_0/006/camera/front_right_camera/06.jpg', 'pandaset_0/006/camera/front_right_camera/07.jpg', 'pandaset_0/006/camera/front_right_camera/08.jpg', 'pandaset_0/006/camera/front_right_camera/09.jpg', 'pandaset_0/006/camera/front_right_camera/10.jpg', 'pandaset_0/006/camera/front_right_camera/11.jpg', 'pandaset_0/006/camera/front_right_camera/12.jpg', 'pandaset_0/006/camera/front_right_camera/13.jpg', 'pandaset_0/006/camera/front_right_camera/14.jpg', 'pandaset_0/006/camera/front_right_camera/15.jpg', 'pandaset_0/006/camera/front_right_camera/16.jpg', 'pandaset_0/006/camera/front_right_camera/17.jpg', 'pandaset_0/006/camera/front_right_camera/18.jpg', 'pandaset_0/006/camera/front_right_camera/19.jpg', 'pandaset_0/006/camera/front_right_camera/20.jpg', 'pandaset_0/006/camera/front_right_camera/21.jpg', 'pandaset_0/006/camera/front_right_camera/22.jpg', 'pandaset_0/006/camera/front_right_camera/23.jpg', 'pandaset_0/006/camera/front_right_camera/24.jpg', 'pandaset_0/006/camera/front_right_camera/25.jpg', 'pandaset_0/006/camera/front_right_camera/26.jpg', 'pandaset_0/006/camera/front_right_camera/27.jpg', 'pandaset_0/006/camera/front_right_camera/28.jpg', 'pandaset_0/006/camera/front_right_camera/29.jpg', 'pandaset_0/006/camera/front_right_camera/30.jpg', 'pandaset_0/006/camera/front_right_camera/31.jpg', 'pandaset_0/006/camera/front_right_camera/32.jpg', 'pandaset_0/006/camera/front_right_camera/33.jpg', 'pandaset_0/006/camera/front_right_camera/34.jpg', 'pandaset_0/006/camera/front_right_camera/35.jpg', 'pandaset_0/006/camera/front_right_camera/36.jpg', 'pandaset_0/006/camera/front_right_camera/37.jpg', 'pandaset_0/006/camera/front_right_camera/38.jpg', 'pandaset_0/006/camera/front_right_camera/39.jpg', 'pandaset_0/006/camera/front_right_camera/40.jpg', 'pandaset_0/006/camera/front_right_camera/41.jpg', 'pandaset_0/006/camera/front_right_camera/42.jpg', 'pandaset_0/006/camera/front_right_camera/43.jpg', 'pandaset_0/006/camera/front_right_camera/44.jpg', 'pandaset_0/006/camera/front_right_camera/45.jpg', 'pandaset_0/006/camera/front_right_camera/46.jpg', 'pandaset_0/006/camera/front_right_camera/47.jpg', 'pandaset_0/006/camera/front_right_camera/48.jpg', 'pandaset_0/006/camera/front_right_camera/49.jpg', 'pandaset_0/006/camera/front_right_camera/50.jpg', 'pandaset_0/006/camera/front_right_camera/51.jpg', 'pandaset_0/006/camera/front_right_camera/52.jpg', 'pandaset_0/006/camera/front_right_camera/53.jpg', 'pandaset_0/006/camera/front_right_camera/54.jpg', 'pandaset_0/006/camera/front_right_camera/55.jpg', 'pandaset_0/006/camera/front_right_camera/56.jpg', 'pandaset_0/006/camera/front_right_camera/57.jpg', 'pandaset_0/006/camera/front_right_camera/58.jpg', 'pandaset_0/006/camera/front_right_camera/59.jpg', 'pandaset_0/006/camera/front_right_camera/60.jpg', 'pandaset_0/006/camera/front_right_camera/61.jpg', 'pandaset_0/006/camera/front_right_camera/62.jpg', 'pandaset_0/006/camera/front_right_camera/63.jpg', 'pandaset_0/006/camera/front_right_camera/64.jpg', 'pandaset_0/006/camera/front_right_camera/65.jpg', 'pandaset_0/006/camera/front_right_camera/66.jpg', 'pandaset_0/006/camera/front_right_camera/67.jpg', 'pandaset_0/006/camera/front_right_camera/68.jpg', 'pandaset_0/006/camera/front_right_camera/69.jpg', 'pandaset_0/006/camera/front_right_camera/70.jpg', 'pandaset_0/006/camera/front_right_camera/71.jpg', 'pandaset_0/006/camera/front_right_camera/72.jpg', 'pandaset_0/006/camera/front_right_camera/73.jpg', 'pandaset_0/006/camera/front_right_camera/74.jpg', 'pandaset_0/006/camera/front_right_camera/75.jpg', 'pandaset_0/006/camera/front_right_camera/76.jpg', 'pandaset_0/006/camera/front_right_camera/77.jpg', 'pandaset_0/006/camera/front_right_camera/78.jpg', 'pandaset_0/006/camera/front_right_camera/79.jpg', 'pandaset_0/006/camera/left_camera/00.jpg', 'pandaset_0/006/camera/left_camera/01.jpg', 'pandaset_0/006/camera/left_camera/02.jpg', 'pandaset_0/006/camera/left_camera/03.jpg', 'pandaset_0/006/camera/left_camera/04.jpg', 'pandaset_0/006/camera/left_camera/05.jpg', 'pandaset_0/006/camera/left_camera/06.jpg', 'pandaset_0/006/camera/left_camera/07.jpg', 'pandaset_0/006/camera/left_camera/08.jpg', 'pandaset_0/006/camera/left_camera/09.jpg', 'pandaset_0/006/camera/left_camera/10.jpg', 'pandaset_0/006/camera/left_camera/11.jpg', 'pandaset_0/006/camera/left_camera/12.jpg', 'pandaset_0/006/camera/left_camera/13.jpg', 'pandaset_0/006/camera/left_camera/14.jpg', 'pandaset_0/006/camera/left_camera/15.jpg', 'pandaset_0/006/camera/left_camera/16.jpg', 'pandaset_0/006/camera/left_camera/17.jpg', 'pandaset_0/006/camera/left_camera/18.jpg', 'pandaset_0/006/camera/left_camera/19.jpg', 'pandaset_0/006/camera/left_camera/20.jpg', 'pandaset_0/006/camera/left_camera/21.jpg', 'pandaset_0/006/camera/left_camera/22.jpg', 'pandaset_0/006/camera/left_camera/23.jpg', 'pandaset_0/006/camera/left_camera/24.jpg', 'pandaset_0/006/camera/left_camera/25.jpg', 'pandaset_0/006/camera/left_camera/26.jpg', 'pandaset_0/006/camera/left_camera/27.jpg', 'pandaset_0/006/camera/left_camera/28.jpg', 'pandaset_0/006/camera/left_camera/29.jpg', 'pandaset_0/006/camera/left_camera/30.jpg', 'pandaset_0/006/camera/left_camera/31.jpg', 'pandaset_0/006/camera/left_camera/32.jpg', 'pandaset_0/006/camera/left_camera/33.jpg', 'pandaset_0/006/camera/left_camera/34.jpg', 'pandaset_0/006/camera/left_camera/35.jpg', 'pandaset_0/006/camera/left_camera/36.jpg', 'pandaset_0/006/camera/left_camera/37.jpg', 'pandaset_0/006/camera/left_camera/38.jpg', 'pandaset_0/006/camera/left_camera/39.jpg', 'pandaset_0/006/camera/left_camera/40.jpg', 'pandaset_0/006/camera/left_camera/41.jpg', 'pandaset_0/006/camera/left_camera/42.jpg', 'pandaset_0/006/camera/left_camera/43.jpg', 'pandaset_0/006/camera/left_camera/44.jpg', 'pandaset_0/006/camera/left_camera/45.jpg', 'pandaset_0/006/camera/left_camera/46.jpg', 'pandaset_0/006/camera/left_camera/47.jpg', 'pandaset_0/006/camera/left_camera/48.jpg', 'pandaset_0/006/camera/left_camera/49.jpg', 'pandaset_0/006/camera/left_camera/50.jpg', 'pandaset_0/006/camera/left_camera/51.jpg', 'pandaset_0/006/camera/left_camera/52.jpg', 'pandaset_0/006/camera/left_camera/53.jpg', 'pandaset_0/006/camera/left_camera/54.jpg', 'pandaset_0/006/camera/left_camera/55.jpg', 'pandaset_0/006/camera/left_camera/56.jpg', 'pandaset_0/006/camera/left_camera/57.jpg', 'pandaset_0/006/camera/left_camera/58.jpg', 'pandaset_0/006/camera/left_camera/59.jpg', 'pandaset_0/006/camera/left_camera/60.jpg', 'pandaset_0/006/camera/left_camera/61.jpg', 'pandaset_0/006/camera/left_camera/62.jpg', 'pandaset_0/006/camera/left_camera/63.jpg', 'pandaset_0/006/camera/left_camera/64.jpg', 'pandaset_0/006/camera/left_camera/65.jpg', 'pandaset_0/006/camera/left_camera/66.jpg', 'pandaset_0/006/camera/left_camera/67.jpg', 'pandaset_0/006/camera/left_camera/68.jpg', 'pandaset_0/006/camera/left_camera/69.jpg', 'pandaset_0/006/camera/left_camera/70.jpg', 'pandaset_0/006/camera/left_camera/71.jpg', 'pandaset_0/006/camera/left_camera/72.jpg', 'pandaset_0/006/camera/left_camera/73.jpg', 'pandaset_0/006/camera/left_camera/74.jpg', 'pandaset_0/006/camera/left_camera/75.jpg', 'pandaset_0/006/camera/left_camera/76.jpg', 'pandaset_0/006/camera/left_camera/77.jpg', 'pandaset_0/006/camera/left_camera/78.jpg', 'pandaset_0/006/camera/left_camera/79.jpg', 'pandaset_0/006/camera/right_camera/00.jpg', 'pandaset_0/006/camera/right_camera/01.jpg', 'pandaset_0/006/camera/right_camera/02.jpg', 'pandaset_0/006/camera/right_camera/03.jpg', 'pandaset_0/006/camera/right_camera/04.jpg', 'pandaset_0/006/camera/right_camera/05.jpg', 'pandaset_0/006/camera/right_camera/06.jpg', 'pandaset_0/006/camera/right_camera/07.jpg', 'pandaset_0/006/camera/right_camera/08.jpg', 'pandaset_0/006/camera/right_camera/09.jpg', 'pandaset_0/006/camera/right_camera/10.jpg', 'pandaset_0/006/camera/right_camera/11.jpg', 'pandaset_0/006/camera/right_camera/12.jpg', 'pandaset_0/006/camera/right_camera/13.jpg', 'pandaset_0/006/camera/right_camera/14.jpg', 'pandaset_0/006/camera/right_camera/15.jpg', 'pandaset_0/006/camera/right_camera/16.jpg', 'pandaset_0/006/camera/right_camera/17.jpg', 'pandaset_0/006/camera/right_camera/18.jpg', 'pandaset_0/006/camera/right_camera/19.jpg', 'pandaset_0/006/camera/right_camera/20.jpg', 'pandaset_0/006/camera/right_camera/21.jpg', 'pandaset_0/006/camera/right_camera/22.jpg', 'pandaset_0/006/camera/right_camera/23.jpg', 'pandaset_0/006/camera/right_camera/24.jpg', 'pandaset_0/006/camera/right_camera/25.jpg', 'pandaset_0/006/camera/right_camera/26.jpg', 'pandaset_0/006/camera/right_camera/27.jpg', 'pandaset_0/006/camera/right_camera/28.jpg', 'pandaset_0/006/camera/right_camera/29.jpg', 'pandaset_0/006/camera/right_camera/30.jpg', 'pandaset_0/006/camera/right_camera/31.jpg', 'pandaset_0/006/camera/right_camera/32.jpg', 'pandaset_0/006/camera/right_camera/33.jpg', 'pandaset_0/006/camera/right_camera/34.jpg', 'pandaset_0/006/camera/right_camera/35.jpg', 'pandaset_0/006/camera/right_camera/36.jpg', 'pandaset_0/006/camera/right_camera/37.jpg', 'pandaset_0/006/camera/right_camera/38.jpg', 'pandaset_0/006/camera/right_camera/39.jpg', 'pandaset_0/006/camera/right_camera/40.jpg', 'pandaset_0/006/camera/right_camera/41.jpg', 'pandaset_0/006/camera/right_camera/42.jpg', 'pandaset_0/006/camera/right_camera/43.jpg', 'pandaset_0/006/camera/right_camera/44.jpg', 'pandaset_0/006/camera/right_camera/45.jpg', 'pandaset_0/006/camera/right_camera/46.jpg', 'pandaset_0/006/camera/right_camera/47.jpg', 'pandaset_0/006/camera/right_camera/48.jpg', 'pandaset_0/006/camera/right_camera/49.jpg', 'pandaset_0/006/camera/right_camera/50.jpg', 'pandaset_0/006/camera/right_camera/51.jpg', 'pandaset_0/006/camera/right_camera/52.jpg', 'pandaset_0/006/camera/right_camera/53.jpg', 'pandaset_0/006/camera/right_camera/54.jpg', 'pandaset_0/006/camera/right_camera/55.jpg', 'pandaset_0/006/camera/right_camera/56.jpg', 'pandaset_0/006/camera/right_camera/57.jpg', 'pandaset_0/006/camera/right_camera/58.jpg', 'pandaset_0/006/camera/right_camera/59.jpg', 'pandaset_0/006/camera/right_camera/60.jpg', 'pandaset_0/006/camera/right_camera/61.jpg', 'pandaset_0/006/camera/right_camera/62.jpg', 'pandaset_0/006/camera/right_camera/63.jpg', 'pandaset_0/006/camera/right_camera/64.jpg', 'pandaset_0/006/camera/right_camera/65.jpg', 'pandaset_0/006/camera/right_camera/66.jpg', 'pandaset_0/006/camera/right_camera/67.jpg', 'pandaset_0/006/camera/right_camera/68.jpg', 'pandaset_0/006/camera/right_camera/69.jpg', 'pandaset_0/006/camera/right_camera/70.jpg', 'pandaset_0/006/camera/right_camera/71.jpg', 'pandaset_0/006/camera/right_camera/72.jpg', 'pandaset_0/006/camera/right_camera/73.jpg', 'pandaset_0/006/camera/right_camera/74.jpg', 'pandaset_0/006/camera/right_camera/75.jpg', 'pandaset_0/006/camera/right_camera/76.jpg', 'pandaset_0/006/camera/right_camera/77.jpg', 'pandaset_0/006/camera/right_camera/78.jpg', 'pandaset_0/006/camera/right_camera/79.jpg', 'pandaset_0/023/camera/back_camera/00.jpg', 'pandaset_0/023/camera/back_camera/01.jpg', 'pandaset_0/023/camera/back_camera/02.jpg', 'pandaset_0/023/camera/back_camera/03.jpg', 'pandaset_0/023/camera/back_camera/04.jpg', 'pandaset_0/023/camera/back_camera/05.jpg', 'pandaset_0/023/camera/back_camera/06.jpg', 'pandaset_0/023/camera/back_camera/07.jpg', 'pandaset_0/023/camera/back_camera/08.jpg', 'pandaset_0/023/camera/back_camera/09.jpg', 'pandaset_0/023/camera/back_camera/10.jpg', 'pandaset_0/023/camera/back_camera/11.jpg', 'pandaset_0/023/camera/back_camera/12.jpg', 'pandaset_0/023/camera/back_camera/13.jpg', 'pandaset_0/023/camera/back_camera/14.jpg', 'pandaset_0/023/camera/back_camera/15.jpg', 'pandaset_0/023/camera/back_camera/16.jpg', 'pandaset_0/023/camera/back_camera/17.jpg', 'pandaset_0/023/camera/back_camera/18.jpg', 'pandaset_0/023/camera/back_camera/19.jpg', 'pandaset_0/023/camera/back_camera/20.jpg', 'pandaset_0/023/camera/back_camera/21.jpg', 'pandaset_0/023/camera/back_camera/22.jpg', 'pandaset_0/023/camera/back_camera/23.jpg', 'pandaset_0/023/camera/back_camera/24.jpg', 'pandaset_0/023/camera/back_camera/25.jpg', 'pandaset_0/023/camera/back_camera/26.jpg', 'pandaset_0/023/camera/back_camera/27.jpg', 'pandaset_0/023/camera/back_camera/28.jpg', 'pandaset_0/023/camera/back_camera/29.jpg', 'pandaset_0/023/camera/back_camera/30.jpg', 'pandaset_0/023/camera/back_camera/31.jpg', 'pandaset_0/023/camera/back_camera/32.jpg', 'pandaset_0/023/camera/back_camera/33.jpg', 'pandaset_0/023/camera/back_camera/34.jpg', 'pandaset_0/023/camera/back_camera/35.jpg', 'pandaset_0/023/camera/back_camera/36.jpg', 'pandaset_0/023/camera/back_camera/37.jpg', 'pandaset_0/023/camera/back_camera/38.jpg', 'pandaset_0/023/camera/back_camera/39.jpg', 'pandaset_0/023/camera/back_camera/40.jpg', 'pandaset_0/023/camera/back_camera/41.jpg', 'pandaset_0/023/camera/back_camera/42.jpg', 'pandaset_0/023/camera/back_camera/43.jpg', 'pandaset_0/023/camera/back_camera/44.jpg', 'pandaset_0/023/camera/back_camera/45.jpg', 'pandaset_0/023/camera/back_camera/46.jpg', 'pandaset_0/023/camera/back_camera/47.jpg', 'pandaset_0/023/camera/back_camera/48.jpg', 'pandaset_0/023/camera/back_camera/49.jpg', 'pandaset_0/023/camera/back_camera/50.jpg', 'pandaset_0/023/camera/back_camera/51.jpg', 'pandaset_0/023/camera/back_camera/52.jpg', 'pandaset_0/023/camera/back_camera/53.jpg', 'pandaset_0/023/camera/back_camera/54.jpg', 'pandaset_0/023/camera/back_camera/55.jpg', 'pandaset_0/023/camera/back_camera/56.jpg', 'pandaset_0/023/camera/back_camera/57.jpg', 'pandaset_0/023/camera/back_camera/58.jpg', 'pandaset_0/023/camera/back_camera/59.jpg', 'pandaset_0/023/camera/back_camera/60.jpg', 'pandaset_0/023/camera/back_camera/61.jpg', 'pandaset_0/023/camera/back_camera/62.jpg', 'pandaset_0/023/camera/back_camera/63.jpg', 'pandaset_0/023/camera/back_camera/64.jpg', 'pandaset_0/023/camera/back_camera/65.jpg', 'pandaset_0/023/camera/back_camera/66.jpg', 'pandaset_0/023/camera/back_camera/67.jpg', 'pandaset_0/023/camera/back_camera/68.jpg', 'pandaset_0/023/camera/back_camera/69.jpg', 'pandaset_0/023/camera/back_camera/70.jpg', 'pandaset_0/023/camera/back_camera/71.jpg', 'pandaset_0/023/camera/back_camera/72.jpg', 'pandaset_0/023/camera/back_camera/73.jpg', 'pandaset_0/023/camera/back_camera/74.jpg', 'pandaset_0/023/camera/back_camera/75.jpg', 'pandaset_0/023/camera/back_camera/76.jpg', 'pandaset_0/023/camera/back_camera/77.jpg', 'pandaset_0/023/camera/back_camera/78.jpg', 'pandaset_0/023/camera/back_camera/79.jpg', 'pandaset_0/023/camera/front_camera/00.jpg', 'pandaset_0/023/camera/front_camera/01.jpg', 'pandaset_0/023/camera/front_camera/02.jpg', 'pandaset_0/023/camera/front_camera/03.jpg', 'pandaset_0/023/camera/front_camera/04.jpg', 'pandaset_0/023/camera/front_camera/05.jpg', 'pandaset_0/023/camera/front_camera/06.jpg', 'pandaset_0/023/camera/front_camera/07.jpg', 'pandaset_0/023/camera/front_camera/08.jpg', 'pandaset_0/023/camera/front_camera/09.jpg', 'pandaset_0/023/camera/front_camera/10.jpg', 'pandaset_0/023/camera/front_camera/11.jpg', 'pandaset_0/023/camera/front_camera/12.jpg', 'pandaset_0/023/camera/front_camera/13.jpg', 'pandaset_0/023/camera/front_camera/14.jpg', 'pandaset_0/023/camera/front_camera/15.jpg', 'pandaset_0/023/camera/front_camera/16.jpg', 'pandaset_0/023/camera/front_camera/17.jpg', 'pandaset_0/023/camera/front_camera/18.jpg', 'pandaset_0/023/camera/front_camera/19.jpg', 'pandaset_0/023/camera/front_camera/20.jpg', 'pandaset_0/023/camera/front_camera/21.jpg', 'pandaset_0/023/camera/front_camera/22.jpg', 'pandaset_0/023/camera/front_camera/23.jpg', 'pandaset_0/023/camera/front_camera/24.jpg', 'pandaset_0/023/camera/front_camera/25.jpg', 'pandaset_0/023/camera/front_camera/26.jpg', 'pandaset_0/023/camera/front_camera/27.jpg', 'pandaset_0/023/camera/front_camera/28.jpg', 'pandaset_0/023/camera/front_camera/29.jpg', 'pandaset_0/023/camera/front_camera/30.jpg', 'pandaset_0/023/camera/front_camera/31.jpg', 'pandaset_0/023/camera/front_camera/32.jpg', 'pandaset_0/023/camera/front_camera/33.jpg', 'pandaset_0/023/camera/front_camera/34.jpg', 'pandaset_0/023/camera/front_camera/35.jpg', 'pandaset_0/023/camera/front_camera/36.jpg', 'pandaset_0/023/camera/front_camera/37.jpg', 'pandaset_0/023/camera/front_camera/38.jpg', 'pandaset_0/023/camera/front_camera/39.jpg', 'pandaset_0/023/camera/front_camera/40.jpg', 'pandaset_0/023/camera/front_camera/41.jpg', 'pandaset_0/023/camera/front_camera/42.jpg', 'pandaset_0/023/camera/front_camera/43.jpg', 'pandaset_0/023/camera/front_camera/44.jpg', 'pandaset_0/023/camera/front_camera/45.jpg', 'pandaset_0/023/camera/front_camera/46.jpg', 'pandaset_0/023/camera/front_camera/47.jpg', 'pandaset_0/023/camera/front_camera/48.jpg', 'pandaset_0/023/camera/front_camera/49.jpg', 'pandaset_0/023/camera/front_camera/50.jpg', 'pandaset_0/023/camera/front_camera/51.jpg', 'pandaset_0/023/camera/front_camera/52.jpg', 'pandaset_0/023/camera/front_camera/53.jpg', 'pandaset_0/023/camera/front_camera/54.jpg', 'pandaset_0/023/camera/front_camera/55.jpg', 'pandaset_0/023/camera/front_camera/56.jpg', 'pandaset_0/023/camera/front_camera/57.jpg', 'pandaset_0/023/camera/front_camera/58.jpg', 'pandaset_0/023/camera/front_camera/59.jpg', 'pandaset_0/023/camera/front_camera/60.jpg', 'pandaset_0/023/camera/front_camera/61.jpg', 'pandaset_0/023/camera/front_camera/62.jpg', 'pandaset_0/023/camera/front_camera/63.jpg', 'pandaset_0/023/camera/front_camera/64.jpg', 'pandaset_0/023/camera/front_camera/65.jpg', 'pandaset_0/023/camera/front_camera/66.jpg', 'pandaset_0/023/camera/front_camera/67.jpg', 'pandaset_0/023/camera/front_camera/68.jpg', 'pandaset_0/023/camera/front_camera/69.jpg', 'pandaset_0/023/camera/front_camera/70.jpg', 'pandaset_0/023/camera/front_camera/71.jpg', 'pandaset_0/023/camera/front_camera/72.jpg', 'pandaset_0/023/camera/front_camera/73.jpg', 'pandaset_0/023/camera/front_camera/74.jpg', 'pandaset_0/023/camera/front_camera/75.jpg', 'pandaset_0/023/camera/front_camera/76.jpg', 'pandaset_0/023/camera/front_camera/77.jpg', 'pandaset_0/023/camera/front_camera/78.jpg', 'pandaset_0/023/camera/front_camera/79.jpg', 'pandaset_0/023/camera/front_left_camera/00.jpg', 'pandaset_0/023/camera/front_left_camera/01.jpg', 'pandaset_0/023/camera/front_left_camera/02.jpg', 'pandaset_0/023/camera/front_left_camera/03.jpg', 'pandaset_0/023/camera/front_left_camera/04.jpg', 'pandaset_0/023/camera/front_left_camera/05.jpg', 'pandaset_0/023/camera/front_left_camera/06.jpg', 'pandaset_0/023/camera/front_left_camera/07.jpg', 'pandaset_0/023/camera/front_left_camera/08.jpg', 'pandaset_0/023/camera/front_left_camera/09.jpg', 'pandaset_0/023/camera/front_left_camera/10.jpg', 'pandaset_0/023/camera/front_left_camera/11.jpg', 'pandaset_0/023/camera/front_left_camera/12.jpg', 'pandaset_0/023/camera/front_left_camera/13.jpg', 'pandaset_0/023/camera/front_left_camera/14.jpg', 'pandaset_0/023/camera/front_left_camera/15.jpg', 'pandaset_0/023/camera/front_left_camera/16.jpg', 'pandaset_0/023/camera/front_left_camera/17.jpg', 'pandaset_0/023/camera/front_left_camera/18.jpg', 'pandaset_0/023/camera/front_left_camera/19.jpg', 'pandaset_0/023/camera/front_left_camera/20.jpg', 'pandaset_0/023/camera/front_left_camera/21.jpg', 'pandaset_0/023/camera/front_left_camera/22.jpg', 'pandaset_0/023/camera/front_left_camera/23.jpg', 'pandaset_0/023/camera/front_left_camera/24.jpg', 'pandaset_0/023/camera/front_left_camera/25.jpg', 'pandaset_0/023/camera/front_left_camera/26.jpg', 'pandaset_0/023/camera/front_left_camera/27.jpg', 'pandaset_0/023/camera/front_left_camera/28.jpg', 'pandaset_0/023/camera/front_left_camera/29.jpg', 'pandaset_0/023/camera/front_left_camera/30.jpg', 'pandaset_0/023/camera/front_left_camera/31.jpg', 'pandaset_0/023/camera/front_left_camera/32.jpg', 'pandaset_0/023/camera/front_left_camera/33.jpg', 'pandaset_0/023/camera/front_left_camera/34.jpg', 'pandaset_0/023/camera/front_left_camera/35.jpg', 'pandaset_0/023/camera/front_left_camera/36.jpg', 'pandaset_0/023/camera/front_left_camera/37.jpg', 'pandaset_0/023/camera/front_left_camera/38.jpg', 'pandaset_0/023/camera/front_left_camera/39.jpg', 'pandaset_0/023/camera/front_left_camera/40.jpg', 'pandaset_0/023/camera/front_left_camera/41.jpg', 'pandaset_0/023/camera/front_left_camera/42.jpg', 'pandaset_0/023/camera/front_left_camera/43.jpg', 'pandaset_0/023/camera/front_left_camera/44.jpg', 'pandaset_0/023/camera/front_left_camera/45.jpg', 'pandaset_0/023/camera/front_left_camera/46.jpg', 'pandaset_0/023/camera/front_left_camera/47.jpg', 'pandaset_0/023/camera/front_left_camera/48.jpg', 'pandaset_0/023/camera/front_left_camera/49.jpg', 'pandaset_0/023/camera/front_left_camera/50.jpg', 'pandaset_0/023/camera/front_left_camera/51.jpg', 'pandaset_0/023/camera/front_left_camera/52.jpg', 'pandaset_0/023/camera/front_left_camera/53.jpg', 'pandaset_0/023/camera/front_left_camera/54.jpg', 'pandaset_0/023/camera/front_left_camera/55.jpg', 'pandaset_0/023/camera/front_left_camera/56.jpg', 'pandaset_0/023/camera/front_left_camera/57.jpg', 'pandaset_0/023/camera/front_left_camera/58.jpg', 'pandaset_0/023/camera/front_left_camera/59.jpg', 'pandaset_0/023/camera/front_left_camera/60.jpg', 'pandaset_0/023/camera/front_left_camera/61.jpg', 'pandaset_0/023/camera/front_left_camera/62.jpg', 'pandaset_0/023/camera/front_left_camera/63.jpg', 'pandaset_0/023/camera/front_left_camera/64.jpg', 'pandaset_0/023/camera/front_left_camera/65.jpg', 'pandaset_0/023/camera/front_left_camera/66.jpg', 'pandaset_0/023/camera/front_left_camera/67.jpg', 'pandaset_0/023/camera/front_left_camera/68.jpg', 'pandaset_0/023/camera/front_left_camera/69.jpg', 'pandaset_0/023/camera/front_left_camera/70.jpg', 'pandaset_0/023/camera/front_left_camera/71.jpg', 'pandaset_0/023/camera/front_left_camera/72.jpg', 'pandaset_0/023/camera/front_left_camera/73.jpg', 'pandaset_0/023/camera/front_left_camera/74.jpg', 'pandaset_0/023/camera/front_left_camera/75.jpg', 'pandaset_0/023/camera/front_left_camera/76.jpg', 'pandaset_0/023/camera/front_left_camera/77.jpg', 'pandaset_0/023/camera/front_left_camera/78.jpg', 'pandaset_0/023/camera/front_left_camera/79.jpg', 'pandaset_0/023/camera/front_right_camera/00.jpg', 'pandaset_0/023/camera/front_right_camera/01.jpg', 'pandaset_0/023/camera/front_right_camera/02.jpg', 'pandaset_0/023/camera/front_right_camera/03.jpg', 'pandaset_0/023/camera/front_right_camera/04.jpg', 'pandaset_0/023/camera/front_right_camera/05.jpg', 'pandaset_0/023/camera/front_right_camera/06.jpg', 'pandaset_0/023/camera/front_right_camera/07.jpg', 'pandaset_0/023/camera/front_right_camera/08.jpg', 'pandaset_0/023/camera/front_right_camera/09.jpg', 'pandaset_0/023/camera/front_right_camera/10.jpg', 'pandaset_0/023/camera/front_right_camera/11.jpg', 'pandaset_0/023/camera/front_right_camera/12.jpg', 'pandaset_0/023/camera/front_right_camera/13.jpg', 'pandaset_0/023/camera/front_right_camera/14.jpg', 'pandaset_0/023/camera/front_right_camera/15.jpg', 'pandaset_0/023/camera/front_right_camera/16.jpg', 'pandaset_0/023/camera/front_right_camera/17.jpg', 'pandaset_0/023/camera/front_right_camera/18.jpg', 'pandaset_0/023/camera/front_right_camera/19.jpg', 'pandaset_0/023/camera/front_right_camera/20.jpg', 'pandaset_0/023/camera/front_right_camera/21.jpg', 'pandaset_0/023/camera/front_right_camera/22.jpg', 'pandaset_0/023/camera/front_right_camera/23.jpg', 'pandaset_0/023/camera/front_right_camera/24.jpg', 'pandaset_0/023/camera/front_right_camera/25.jpg', 'pandaset_0/023/camera/front_right_camera/26.jpg', 'pandaset_0/023/camera/front_right_camera/27.jpg', 'pandaset_0/023/camera/front_right_camera/28.jpg', 'pandaset_0/023/camera/front_right_camera/29.jpg', 'pandaset_0/023/camera/front_right_camera/30.jpg', 'pandaset_0/023/camera/front_right_camera/31.jpg', 'pandaset_0/023/camera/front_right_camera/32.jpg', 'pandaset_0/023/camera/front_right_camera/33.jpg', 'pandaset_0/023/camera/front_right_camera/34.jpg', 'pandaset_0/023/camera/front_right_camera/35.jpg', 'pandaset_0/023/camera/front_right_camera/36.jpg', 'pandaset_0/023/camera/front_right_camera/37.jpg', 'pandaset_0/023/camera/front_right_camera/38.jpg', 'pandaset_0/023/camera/front_right_camera/39.jpg', 'pandaset_0/023/camera/front_right_camera/40.jpg', 'pandaset_0/023/camera/front_right_camera/41.jpg', 'pandaset_0/023/camera/front_right_camera/42.jpg', 'pandaset_0/023/camera/front_right_camera/43.jpg', 'pandaset_0/023/camera/front_right_camera/44.jpg', 'pandaset_0/023/camera/front_right_camera/45.jpg', 'pandaset_0/023/camera/front_right_camera/46.jpg', 'pandaset_0/023/camera/front_right_camera/47.jpg', 'pandaset_0/023/camera/front_right_camera/48.jpg', 'pandaset_0/023/camera/front_right_camera/49.jpg', 'pandaset_0/023/camera/front_right_camera/50.jpg', 'pandaset_0/023/camera/front_right_camera/51.jpg', 'pandaset_0/023/camera/front_right_camera/52.jpg', 'pandaset_0/023/camera/front_right_camera/53.jpg', 'pandaset_0/023/camera/front_right_camera/54.jpg', 'pandaset_0/023/camera/front_right_camera/55.jpg', 'pandaset_0/023/camera/front_right_camera/56.jpg', 'pandaset_0/023/camera/front_right_camera/57.jpg', 'pandaset_0/023/camera/front_right_camera/58.jpg', 'pandaset_0/023/camera/front_right_camera/59.jpg', 'pandaset_0/023/camera/front_right_camera/60.jpg', 'pandaset_0/023/camera/front_right_camera/61.jpg', 'pandaset_0/023/camera/front_right_camera/62.jpg', 'pandaset_0/023/camera/front_right_camera/63.jpg', 'pandaset_0/023/camera/front_right_camera/64.jpg', 'pandaset_0/023/camera/front_right_camera/65.jpg', 'pandaset_0/023/camera/front_right_camera/66.jpg', 'pandaset_0/023/camera/front_right_camera/67.jpg', 'pandaset_0/023/camera/front_right_camera/68.jpg', 'pandaset_0/023/camera/front_right_camera/69.jpg', 'pandaset_0/023/camera/front_right_camera/70.jpg', 'pandaset_0/023/camera/front_right_camera/71.jpg', 'pandaset_0/023/camera/front_right_camera/72.jpg', 'pandaset_0/023/camera/front_right_camera/73.jpg', 'pandaset_0/023/camera/front_right_camera/74.jpg', 'pandaset_0/023/camera/front_right_camera/75.jpg', 'pandaset_0/023/camera/front_right_camera/76.jpg', 'pandaset_0/023/camera/front_right_camera/77.jpg', 'pandaset_0/023/camera/front_right_camera/78.jpg', 'pandaset_0/023/camera/front_right_camera/79.jpg', 'pandaset_0/023/camera/left_camera/00.jpg', 'pandaset_0/023/camera/left_camera/01.jpg', 'pandaset_0/023/camera/left_camera/02.jpg', 'pandaset_0/023/camera/left_camera/03.jpg', 'pandaset_0/023/camera/left_camera/04.jpg', 'pandaset_0/023/camera/left_camera/05.jpg', 'pandaset_0/023/camera/left_camera/06.jpg', 'pandaset_0/023/camera/left_camera/07.jpg', 'pandaset_0/023/camera/left_camera/08.jpg', 'pandaset_0/023/camera/left_camera/09.jpg', 'pandaset_0/023/camera/left_camera/10.jpg', 'pandaset_0/023/camera/left_camera/11.jpg', 'pandaset_0/023/camera/left_camera/12.jpg', 'pandaset_0/023/camera/left_camera/13.jpg', 'pandaset_0/023/camera/left_camera/14.jpg', 'pandaset_0/023/camera/left_camera/15.jpg', 'pandaset_0/023/camera/left_camera/16.jpg', 'pandaset_0/023/camera/left_camera/17.jpg', 'pandaset_0/023/camera/left_camera/18.jpg', 'pandaset_0/023/camera/left_camera/19.jpg', 'pandaset_0/023/camera/left_camera/20.jpg', 'pandaset_0/023/camera/left_camera/21.jpg', 'pandaset_0/023/camera/left_camera/22.jpg', 'pandaset_0/023/camera/left_camera/23.jpg', 'pandaset_0/023/camera/left_camera/24.jpg', 'pandaset_0/023/camera/left_camera/25.jpg', 'pandaset_0/023/camera/left_camera/26.jpg', 'pandaset_0/023/camera/left_camera/27.jpg', 'pandaset_0/023/camera/left_camera/28.jpg', 'pandaset_0/023/camera/left_camera/29.jpg', 'pandaset_0/023/camera/left_camera/30.jpg', 'pandaset_0/023/camera/left_camera/31.jpg', 'pandaset_0/023/camera/left_camera/32.jpg', 'pandaset_0/023/camera/left_camera/33.jpg', 'pandaset_0/023/camera/left_camera/34.jpg', 'pandaset_0/023/camera/left_camera/35.jpg', 'pandaset_0/023/camera/left_camera/36.jpg', 'pandaset_0/023/camera/left_camera/37.jpg', 'pandaset_0/023/camera/left_camera/38.jpg', 'pandaset_0/023/camera/left_camera/39.jpg', 'pandaset_0/023/camera/left_camera/40.jpg', 'pandaset_0/023/camera/left_camera/41.jpg', 'pandaset_0/023/camera/left_camera/42.jpg', 'pandaset_0/023/camera/left_camera/43.jpg', 'pandaset_0/023/camera/left_camera/44.jpg', 'pandaset_0/023/camera/left_camera/45.jpg', 'pandaset_0/023/camera/left_camera/46.jpg', 'pandaset_0/023/camera/left_camera/47.jpg', 'pandaset_0/023/camera/left_camera/48.jpg', 'pandaset_0/023/camera/left_camera/49.jpg', 'pandaset_0/023/camera/left_camera/50.jpg', 'pandaset_0/023/camera/left_camera/51.jpg', 'pandaset_0/023/camera/left_camera/52.jpg', 'pandaset_0/023/camera/left_camera/53.jpg', 'pandaset_0/023/camera/left_camera/54.jpg', 'pandaset_0/023/camera/left_camera/55.jpg', 'pandaset_0/023/camera/left_camera/56.jpg', 'pandaset_0/023/camera/left_camera/57.jpg', 'pandaset_0/023/camera/left_camera/58.jpg', 'pandaset_0/023/camera/left_camera/59.jpg', 'pandaset_0/023/camera/left_camera/60.jpg', 'pandaset_0/023/camera/left_camera/61.jpg', 'pandaset_0/023/camera/left_camera/62.jpg', 'pandaset_0/023/camera/left_camera/63.jpg', 'pandaset_0/023/camera/left_camera/64.jpg', 'pandaset_0/023/camera/left_camera/65.jpg', 'pandaset_0/023/camera/left_camera/66.jpg', 'pandaset_0/023/camera/left_camera/67.jpg', 'pandaset_0/023/camera/left_camera/68.jpg', 'pandaset_0/023/camera/left_camera/69.jpg', 'pandaset_0/023/camera/left_camera/70.jpg', 'pandaset_0/023/camera/left_camera/71.jpg', 'pandaset_0/023/camera/left_camera/72.jpg', 'pandaset_0/023/camera/left_camera/73.jpg', 'pandaset_0/023/camera/left_camera/74.jpg', 'pandaset_0/023/camera/left_camera/75.jpg', 'pandaset_0/023/camera/left_camera/76.jpg', 'pandaset_0/023/camera/left_camera/77.jpg', 'pandaset_0/023/camera/left_camera/78.jpg', 'pandaset_0/023/camera/left_camera/79.jpg', 'pandaset_0/023/camera/right_camera/00.jpg', 'pandaset_0/023/camera/right_camera/01.jpg', 'pandaset_0/023/camera/right_camera/02.jpg', 'pandaset_0/023/camera/right_camera/03.jpg', 'pandaset_0/023/camera/right_camera/04.jpg', 'pandaset_0/023/camera/right_camera/05.jpg', 'pandaset_0/023/camera/right_camera/06.jpg', 'pandaset_0/023/camera/right_camera/07.jpg', 'pandaset_0/023/camera/right_camera/08.jpg', 'pandaset_0/023/camera/right_camera/09.jpg', 'pandaset_0/023/camera/right_camera/10.jpg', 'pandaset_0/023/camera/right_camera/11.jpg', 'pandaset_0/023/camera/right_camera/12.jpg', 'pandaset_0/023/camera/right_camera/13.jpg', 'pandaset_0/023/camera/right_camera/14.jpg', 'pandaset_0/023/camera/right_camera/15.jpg', 'pandaset_0/023/camera/right_camera/16.jpg', 'pandaset_0/023/camera/right_camera/17.jpg', 'pandaset_0/023/camera/right_camera/18.jpg', 'pandaset_0/023/camera/right_camera/19.jpg', 'pandaset_0/023/camera/right_camera/20.jpg', 'pandaset_0/023/camera/right_camera/21.jpg', 'pandaset_0/023/camera/right_camera/22.jpg', 'pandaset_0/023/camera/right_camera/23.jpg', 'pandaset_0/023/camera/right_camera/24.jpg', 'pandaset_0/023/camera/right_camera/25.jpg', 'pandaset_0/023/camera/right_camera/26.jpg', 'pandaset_0/023/camera/right_camera/27.jpg', 'pandaset_0/023/camera/right_camera/28.jpg', 'pandaset_0/023/camera/right_camera/29.jpg', 'pandaset_0/023/camera/right_camera/30.jpg', 'pandaset_0/023/camera/right_camera/31.jpg', 'pandaset_0/023/camera/right_camera/32.jpg', 'pandaset_0/023/camera/right_camera/33.jpg', 'pandaset_0/023/camera/right_camera/34.jpg', 'pandaset_0/023/camera/right_camera/35.jpg', 'pandaset_0/023/camera/right_camera/36.jpg', 'pandaset_0/023/camera/right_camera/37.jpg', 'pandaset_0/023/camera/right_camera/38.jpg', 'pandaset_0/023/camera/right_camera/39.jpg', 'pandaset_0/023/camera/right_camera/40.jpg', 'pandaset_0/023/camera/right_camera/41.jpg', 'pandaset_0/023/camera/right_camera/42.jpg', 'pandaset_0/023/camera/right_camera/43.jpg', 'pandaset_0/023/camera/right_camera/44.jpg', 'pandaset_0/023/camera/right_camera/45.jpg', 'pandaset_0/023/camera/right_camera/46.jpg', 'pandaset_0/023/camera/right_camera/47.jpg', 'pandaset_0/023/camera/right_camera/48.jpg', 'pandaset_0/023/camera/right_camera/49.jpg', 'pandaset_0/023/camera/right_camera/50.jpg', 'pandaset_0/023/camera/right_camera/51.jpg', 'pandaset_0/023/camera/right_camera/52.jpg', 'pandaset_0/023/camera/right_camera/53.jpg', 'pandaset_0/023/camera/right_camera/54.jpg', 'pandaset_0/023/camera/right_camera/55.jpg', 'pandaset_0/023/camera/right_camera/56.jpg', 'pandaset_0/023/camera/right_camera/57.jpg', 'pandaset_0/023/camera/right_camera/58.jpg', 'pandaset_0/023/camera/right_camera/59.jpg', 'pandaset_0/023/camera/right_camera/60.jpg', 'pandaset_0/023/camera/right_camera/61.jpg', 'pandaset_0/023/camera/right_camera/62.jpg', 'pandaset_0/023/camera/right_camera/63.jpg', 'pandaset_0/023/camera/right_camera/64.jpg', 'pandaset_0/023/camera/right_camera/65.jpg', 'pandaset_0/023/camera/right_camera/66.jpg', 'pandaset_0/023/camera/right_camera/67.jpg', 'pandaset_0/023/camera/right_camera/68.jpg', 'pandaset_0/023/camera/right_camera/69.jpg', 'pandaset_0/023/camera/right_camera/70.jpg', 'pandaset_0/023/camera/right_camera/71.jpg', 'pandaset_0/023/camera/right_camera/72.jpg', 'pandaset_0/023/camera/right_camera/73.jpg', 'pandaset_0/023/camera/right_camera/74.jpg', 'pandaset_0/023/camera/right_camera/75.jpg', 'pandaset_0/023/camera/right_camera/76.jpg', 'pandaset_0/023/camera/right_camera/77.jpg', 'pandaset_0/023/camera/right_camera/78.jpg', 'pandaset_0/023/camera/right_camera/79.jpg']\n",
      "['pandaset_0/001/lidar/00.json', 'pandaset_0/001/lidar/01.json', 'pandaset_0/001/lidar/02.json', 'pandaset_0/001/lidar/03.json', 'pandaset_0/001/lidar/04.json', 'pandaset_0/001/lidar/05.json', 'pandaset_0/001/lidar/06.json', 'pandaset_0/001/lidar/07.json', 'pandaset_0/001/lidar/08.json', 'pandaset_0/001/lidar/09.json', 'pandaset_0/001/lidar/10.json', 'pandaset_0/001/lidar/11.json', 'pandaset_0/001/lidar/12.json', 'pandaset_0/001/lidar/13.json', 'pandaset_0/001/lidar/14.json', 'pandaset_0/001/lidar/15.json', 'pandaset_0/001/lidar/16.json', 'pandaset_0/001/lidar/17.json', 'pandaset_0/001/lidar/18.json', 'pandaset_0/001/lidar/19.json', 'pandaset_0/001/lidar/20.json', 'pandaset_0/001/lidar/21.json', 'pandaset_0/001/lidar/22.json', 'pandaset_0/001/lidar/23.json', 'pandaset_0/001/lidar/24.json', 'pandaset_0/001/lidar/25.json', 'pandaset_0/001/lidar/26.json', 'pandaset_0/001/lidar/27.json', 'pandaset_0/001/lidar/28.json', 'pandaset_0/001/lidar/29.json', 'pandaset_0/001/lidar/30.json', 'pandaset_0/001/lidar/31.json', 'pandaset_0/001/lidar/32.json', 'pandaset_0/001/lidar/33.json', 'pandaset_0/001/lidar/34.json', 'pandaset_0/001/lidar/35.json', 'pandaset_0/001/lidar/36.json', 'pandaset_0/001/lidar/37.json', 'pandaset_0/001/lidar/38.json', 'pandaset_0/001/lidar/39.json', 'pandaset_0/001/lidar/40.json', 'pandaset_0/001/lidar/41.json', 'pandaset_0/001/lidar/42.json', 'pandaset_0/001/lidar/43.json', 'pandaset_0/001/lidar/44.json', 'pandaset_0/001/lidar/45.json', 'pandaset_0/001/lidar/46.json', 'pandaset_0/001/lidar/47.json', 'pandaset_0/001/lidar/48.json', 'pandaset_0/001/lidar/49.json', 'pandaset_0/001/lidar/50.json', 'pandaset_0/001/lidar/51.json', 'pandaset_0/001/lidar/52.json', 'pandaset_0/001/lidar/53.json', 'pandaset_0/001/lidar/54.json', 'pandaset_0/001/lidar/55.json', 'pandaset_0/001/lidar/56.json', 'pandaset_0/001/lidar/57.json', 'pandaset_0/001/lidar/58.json', 'pandaset_0/001/lidar/59.json', 'pandaset_0/001/lidar/60.json', 'pandaset_0/001/lidar/61.json', 'pandaset_0/001/lidar/62.json', 'pandaset_0/001/lidar/63.json', 'pandaset_0/001/lidar/64.json', 'pandaset_0/001/lidar/65.json', 'pandaset_0/001/lidar/66.json', 'pandaset_0/001/lidar/67.json', 'pandaset_0/001/lidar/68.json', 'pandaset_0/001/lidar/69.json', 'pandaset_0/001/lidar/70.json', 'pandaset_0/001/lidar/71.json', 'pandaset_0/001/lidar/72.json', 'pandaset_0/001/lidar/73.json', 'pandaset_0/001/lidar/74.json', 'pandaset_0/001/lidar/75.json', 'pandaset_0/001/lidar/76.json', 'pandaset_0/001/lidar/77.json', 'pandaset_0/001/lidar/78.json', 'pandaset_0/001/lidar/79.json', 'pandaset_0/006/lidar/00.json', 'pandaset_0/006/lidar/01.json', 'pandaset_0/006/lidar/02.json', 'pandaset_0/006/lidar/03.json', 'pandaset_0/006/lidar/04.json', 'pandaset_0/006/lidar/05.json', 'pandaset_0/006/lidar/06.json', 'pandaset_0/006/lidar/07.json', 'pandaset_0/006/lidar/08.json', 'pandaset_0/006/lidar/09.json', 'pandaset_0/006/lidar/10.json', 'pandaset_0/006/lidar/11.json', 'pandaset_0/006/lidar/12.json', 'pandaset_0/006/lidar/13.json', 'pandaset_0/006/lidar/14.json', 'pandaset_0/006/lidar/15.json', 'pandaset_0/006/lidar/16.json', 'pandaset_0/006/lidar/17.json', 'pandaset_0/006/lidar/18.json', 'pandaset_0/006/lidar/19.json', 'pandaset_0/006/lidar/20.json', 'pandaset_0/006/lidar/21.json', 'pandaset_0/006/lidar/22.json', 'pandaset_0/006/lidar/23.json', 'pandaset_0/006/lidar/24.json', 'pandaset_0/006/lidar/25.json', 'pandaset_0/006/lidar/26.json', 'pandaset_0/006/lidar/27.json', 'pandaset_0/006/lidar/28.json', 'pandaset_0/006/lidar/29.json', 'pandaset_0/006/lidar/30.json', 'pandaset_0/006/lidar/31.json', 'pandaset_0/006/lidar/32.json', 'pandaset_0/006/lidar/33.json', 'pandaset_0/006/lidar/34.json', 'pandaset_0/006/lidar/35.json', 'pandaset_0/006/lidar/36.json', 'pandaset_0/006/lidar/37.json', 'pandaset_0/006/lidar/38.json', 'pandaset_0/006/lidar/39.json', 'pandaset_0/006/lidar/40.json', 'pandaset_0/006/lidar/41.json', 'pandaset_0/006/lidar/42.json', 'pandaset_0/006/lidar/43.json', 'pandaset_0/006/lidar/44.json', 'pandaset_0/006/lidar/45.json', 'pandaset_0/006/lidar/46.json', 'pandaset_0/006/lidar/47.json', 'pandaset_0/006/lidar/48.json', 'pandaset_0/006/lidar/49.json', 'pandaset_0/006/lidar/50.json', 'pandaset_0/006/lidar/51.json', 'pandaset_0/006/lidar/52.json', 'pandaset_0/006/lidar/53.json', 'pandaset_0/006/lidar/54.json', 'pandaset_0/006/lidar/55.json', 'pandaset_0/006/lidar/56.json', 'pandaset_0/006/lidar/57.json', 'pandaset_0/006/lidar/58.json', 'pandaset_0/006/lidar/59.json', 'pandaset_0/006/lidar/60.json', 'pandaset_0/006/lidar/61.json', 'pandaset_0/006/lidar/62.json', 'pandaset_0/006/lidar/63.json', 'pandaset_0/006/lidar/64.json', 'pandaset_0/006/lidar/65.json', 'pandaset_0/006/lidar/66.json', 'pandaset_0/006/lidar/67.json', 'pandaset_0/006/lidar/68.json', 'pandaset_0/006/lidar/69.json', 'pandaset_0/006/lidar/70.json', 'pandaset_0/006/lidar/71.json', 'pandaset_0/006/lidar/72.json', 'pandaset_0/006/lidar/73.json', 'pandaset_0/006/lidar/74.json', 'pandaset_0/006/lidar/75.json', 'pandaset_0/006/lidar/76.json', 'pandaset_0/006/lidar/77.json', 'pandaset_0/006/lidar/78.json', 'pandaset_0/006/lidar/79.json', 'pandaset_0/008/lidar/00.json', 'pandaset_0/008/lidar/01.json', 'pandaset_0/008/lidar/02.json', 'pandaset_0/008/lidar/03.json', 'pandaset_0/008/lidar/04.json', 'pandaset_0/008/lidar/05.json', 'pandaset_0/008/lidar/06.json', 'pandaset_0/008/lidar/07.json', 'pandaset_0/008/lidar/08.json', 'pandaset_0/008/lidar/09.json', 'pandaset_0/008/lidar/10.json', 'pandaset_0/008/lidar/11.json', 'pandaset_0/008/lidar/12.json', 'pandaset_0/008/lidar/13.json', 'pandaset_0/008/lidar/14.json', 'pandaset_0/008/lidar/15.json', 'pandaset_0/008/lidar/16.json', 'pandaset_0/008/lidar/17.json', 'pandaset_0/008/lidar/18.json', 'pandaset_0/008/lidar/19.json', 'pandaset_0/008/lidar/20.json', 'pandaset_0/008/lidar/21.json', 'pandaset_0/008/lidar/22.json', 'pandaset_0/008/lidar/23.json', 'pandaset_0/008/lidar/24.json', 'pandaset_0/008/lidar/25.json', 'pandaset_0/008/lidar/26.json', 'pandaset_0/008/lidar/27.json', 'pandaset_0/008/lidar/28.json', 'pandaset_0/008/lidar/29.json', 'pandaset_0/008/lidar/30.json', 'pandaset_0/008/lidar/31.json', 'pandaset_0/008/lidar/32.json', 'pandaset_0/008/lidar/33.json', 'pandaset_0/008/lidar/34.json', 'pandaset_0/008/lidar/35.json', 'pandaset_0/008/lidar/36.json', 'pandaset_0/008/lidar/37.json', 'pandaset_0/008/lidar/38.json', 'pandaset_0/008/lidar/39.json', 'pandaset_0/008/lidar/40.json', 'pandaset_0/008/lidar/41.json', 'pandaset_0/008/lidar/42.json', 'pandaset_0/008/lidar/43.json', 'pandaset_0/008/lidar/44.json', 'pandaset_0/008/lidar/45.json', 'pandaset_0/008/lidar/46.json', 'pandaset_0/008/lidar/47.json', 'pandaset_0/008/lidar/48.json', 'pandaset_0/008/lidar/49.json', 'pandaset_0/008/lidar/50.json', 'pandaset_0/008/lidar/51.json', 'pandaset_0/008/lidar/52.json', 'pandaset_0/008/lidar/53.json', 'pandaset_0/008/lidar/54.json', 'pandaset_0/008/lidar/55.json', 'pandaset_0/008/lidar/56.json', 'pandaset_0/008/lidar/57.json', 'pandaset_0/008/lidar/58.json', 'pandaset_0/008/lidar/59.json', 'pandaset_0/008/lidar/60.json', 'pandaset_0/008/lidar/61.json', 'pandaset_0/008/lidar/62.json', 'pandaset_0/008/lidar/63.json', 'pandaset_0/008/lidar/64.json', 'pandaset_0/008/lidar/65.json', 'pandaset_0/008/lidar/66.json', 'pandaset_0/008/lidar/67.json', 'pandaset_0/008/lidar/68.json', 'pandaset_0/008/lidar/69.json', 'pandaset_0/008/lidar/70.json', 'pandaset_0/008/lidar/71.json', 'pandaset_0/008/lidar/72.json', 'pandaset_0/008/lidar/73.json', 'pandaset_0/008/lidar/74.json', 'pandaset_0/008/lidar/75.json', 'pandaset_0/008/lidar/76.json', 'pandaset_0/008/lidar/77.json', 'pandaset_0/008/lidar/78.json', 'pandaset_0/008/lidar/79.json', 'pandaset_0/011/lidar/00.json', 'pandaset_0/011/lidar/01.json', 'pandaset_0/011/lidar/02.json', 'pandaset_0/011/lidar/03.json', 'pandaset_0/011/lidar/04.json', 'pandaset_0/011/lidar/05.json', 'pandaset_0/011/lidar/06.json', 'pandaset_0/011/lidar/07.json', 'pandaset_0/011/lidar/08.json', 'pandaset_0/011/lidar/09.json', 'pandaset_0/011/lidar/10.json', 'pandaset_0/011/lidar/11.json', 'pandaset_0/011/lidar/12.json', 'pandaset_0/011/lidar/13.json', 'pandaset_0/011/lidar/14.json', 'pandaset_0/011/lidar/15.json', 'pandaset_0/011/lidar/16.json', 'pandaset_0/011/lidar/17.json', 'pandaset_0/011/lidar/18.json', 'pandaset_0/011/lidar/19.json', 'pandaset_0/011/lidar/20.json', 'pandaset_0/011/lidar/21.json', 'pandaset_0/011/lidar/22.json', 'pandaset_0/011/lidar/23.json', 'pandaset_0/011/lidar/24.json', 'pandaset_0/011/lidar/25.json', 'pandaset_0/011/lidar/26.json', 'pandaset_0/011/lidar/27.json', 'pandaset_0/011/lidar/28.json', 'pandaset_0/011/lidar/29.json', 'pandaset_0/011/lidar/30.json', 'pandaset_0/011/lidar/31.json', 'pandaset_0/011/lidar/32.json', 'pandaset_0/011/lidar/33.json', 'pandaset_0/011/lidar/34.json', 'pandaset_0/011/lidar/35.json', 'pandaset_0/011/lidar/36.json', 'pandaset_0/011/lidar/37.json', 'pandaset_0/011/lidar/38.json', 'pandaset_0/011/lidar/39.json', 'pandaset_0/011/lidar/40.json', 'pandaset_0/011/lidar/41.json', 'pandaset_0/011/lidar/42.json', 'pandaset_0/011/lidar/43.json', 'pandaset_0/011/lidar/44.json', 'pandaset_0/011/lidar/45.json', 'pandaset_0/011/lidar/46.json', 'pandaset_0/011/lidar/47.json', 'pandaset_0/011/lidar/48.json', 'pandaset_0/011/lidar/49.json', 'pandaset_0/011/lidar/50.json', 'pandaset_0/011/lidar/51.json', 'pandaset_0/011/lidar/52.json', 'pandaset_0/011/lidar/53.json', 'pandaset_0/011/lidar/54.json', 'pandaset_0/011/lidar/55.json', 'pandaset_0/011/lidar/56.json', 'pandaset_0/011/lidar/57.json', 'pandaset_0/011/lidar/58.json', 'pandaset_0/011/lidar/59.json', 'pandaset_0/011/lidar/60.json', 'pandaset_0/011/lidar/61.json', 'pandaset_0/011/lidar/62.json', 'pandaset_0/011/lidar/63.json', 'pandaset_0/011/lidar/64.json', 'pandaset_0/011/lidar/65.json', 'pandaset_0/011/lidar/66.json', 'pandaset_0/011/lidar/67.json', 'pandaset_0/011/lidar/68.json', 'pandaset_0/011/lidar/69.json', 'pandaset_0/011/lidar/70.json', 'pandaset_0/011/lidar/71.json', 'pandaset_0/011/lidar/72.json', 'pandaset_0/011/lidar/73.json', 'pandaset_0/011/lidar/74.json', 'pandaset_0/011/lidar/75.json', 'pandaset_0/011/lidar/76.json', 'pandaset_0/011/lidar/77.json', 'pandaset_0/011/lidar/78.json', 'pandaset_0/011/lidar/79.json', 'pandaset_0/012/lidar/00.json', 'pandaset_0/012/lidar/01.json', 'pandaset_0/012/lidar/02.json', 'pandaset_0/012/lidar/03.json', 'pandaset_0/012/lidar/04.json', 'pandaset_0/012/lidar/05.json', 'pandaset_0/012/lidar/06.json', 'pandaset_0/012/lidar/07.json', 'pandaset_0/012/lidar/08.json', 'pandaset_0/012/lidar/09.json', 'pandaset_0/012/lidar/10.json', 'pandaset_0/012/lidar/11.json', 'pandaset_0/012/lidar/12.json', 'pandaset_0/012/lidar/13.json', 'pandaset_0/012/lidar/14.json', 'pandaset_0/012/lidar/15.json', 'pandaset_0/012/lidar/16.json', 'pandaset_0/012/lidar/17.json', 'pandaset_0/012/lidar/18.json', 'pandaset_0/012/lidar/19.json', 'pandaset_0/012/lidar/20.json', 'pandaset_0/012/lidar/21.json', 'pandaset_0/012/lidar/22.json', 'pandaset_0/012/lidar/23.json', 'pandaset_0/012/lidar/24.json', 'pandaset_0/012/lidar/25.json', 'pandaset_0/012/lidar/26.json', 'pandaset_0/012/lidar/27.json', 'pandaset_0/012/lidar/28.json', 'pandaset_0/012/lidar/29.json', 'pandaset_0/012/lidar/30.json', 'pandaset_0/012/lidar/31.json', 'pandaset_0/012/lidar/32.json', 'pandaset_0/012/lidar/33.json', 'pandaset_0/012/lidar/34.json', 'pandaset_0/012/lidar/35.json', 'pandaset_0/012/lidar/36.json', 'pandaset_0/012/lidar/37.json', 'pandaset_0/012/lidar/38.json', 'pandaset_0/012/lidar/39.json', 'pandaset_0/012/lidar/40.json', 'pandaset_0/012/lidar/41.json', 'pandaset_0/012/lidar/42.json', 'pandaset_0/012/lidar/43.json', 'pandaset_0/012/lidar/44.json', 'pandaset_0/012/lidar/45.json', 'pandaset_0/012/lidar/46.json', 'pandaset_0/012/lidar/47.json', 'pandaset_0/012/lidar/48.json', 'pandaset_0/012/lidar/49.json', 'pandaset_0/012/lidar/50.json', 'pandaset_0/012/lidar/51.json', 'pandaset_0/012/lidar/52.json', 'pandaset_0/012/lidar/53.json', 'pandaset_0/012/lidar/54.json', 'pandaset_0/012/lidar/55.json', 'pandaset_0/012/lidar/56.json', 'pandaset_0/012/lidar/57.json', 'pandaset_0/012/lidar/58.json', 'pandaset_0/012/lidar/59.json', 'pandaset_0/012/lidar/60.json', 'pandaset_0/012/lidar/61.json', 'pandaset_0/012/lidar/62.json', 'pandaset_0/012/lidar/63.json', 'pandaset_0/012/lidar/64.json', 'pandaset_0/012/lidar/65.json', 'pandaset_0/012/lidar/66.json', 'pandaset_0/012/lidar/67.json', 'pandaset_0/012/lidar/68.json', 'pandaset_0/012/lidar/69.json', 'pandaset_0/012/lidar/70.json', 'pandaset_0/012/lidar/71.json', 'pandaset_0/012/lidar/72.json', 'pandaset_0/012/lidar/73.json', 'pandaset_0/012/lidar/74.json', 'pandaset_0/012/lidar/75.json', 'pandaset_0/012/lidar/76.json', 'pandaset_0/012/lidar/77.json', 'pandaset_0/012/lidar/78.json', 'pandaset_0/012/lidar/79.json', 'pandaset_0/013/lidar/00.json', 'pandaset_0/013/lidar/01.json', 'pandaset_0/013/lidar/02.json', 'pandaset_0/013/lidar/03.json', 'pandaset_0/013/lidar/04.json', 'pandaset_0/013/lidar/05.json', 'pandaset_0/013/lidar/06.json', 'pandaset_0/013/lidar/07.json', 'pandaset_0/013/lidar/08.json', 'pandaset_0/013/lidar/09.json', 'pandaset_0/013/lidar/10.json', 'pandaset_0/013/lidar/11.json', 'pandaset_0/013/lidar/12.json', 'pandaset_0/013/lidar/13.json', 'pandaset_0/013/lidar/14.json', 'pandaset_0/013/lidar/15.json', 'pandaset_0/013/lidar/16.json', 'pandaset_0/013/lidar/17.json', 'pandaset_0/013/lidar/18.json', 'pandaset_0/013/lidar/19.json', 'pandaset_0/013/lidar/20.json', 'pandaset_0/013/lidar/21.json', 'pandaset_0/013/lidar/22.json', 'pandaset_0/013/lidar/23.json', 'pandaset_0/013/lidar/24.json', 'pandaset_0/013/lidar/25.json', 'pandaset_0/013/lidar/26.json', 'pandaset_0/013/lidar/27.json', 'pandaset_0/013/lidar/28.json', 'pandaset_0/013/lidar/29.json', 'pandaset_0/013/lidar/30.json', 'pandaset_0/013/lidar/31.json', 'pandaset_0/013/lidar/32.json', 'pandaset_0/013/lidar/33.json', 'pandaset_0/013/lidar/34.json', 'pandaset_0/013/lidar/35.json', 'pandaset_0/013/lidar/36.json', 'pandaset_0/013/lidar/37.json', 'pandaset_0/013/lidar/38.json', 'pandaset_0/013/lidar/39.json', 'pandaset_0/013/lidar/40.json', 'pandaset_0/013/lidar/41.json', 'pandaset_0/013/lidar/42.json', 'pandaset_0/013/lidar/43.json', 'pandaset_0/013/lidar/44.json', 'pandaset_0/013/lidar/45.json', 'pandaset_0/013/lidar/46.json', 'pandaset_0/013/lidar/47.json', 'pandaset_0/013/lidar/48.json', 'pandaset_0/013/lidar/49.json', 'pandaset_0/013/lidar/50.json', 'pandaset_0/013/lidar/51.json', 'pandaset_0/013/lidar/52.json', 'pandaset_0/013/lidar/53.json', 'pandaset_0/013/lidar/54.json', 'pandaset_0/013/lidar/55.json', 'pandaset_0/013/lidar/56.json', 'pandaset_0/013/lidar/57.json', 'pandaset_0/013/lidar/58.json', 'pandaset_0/013/lidar/59.json', 'pandaset_0/013/lidar/60.json', 'pandaset_0/013/lidar/61.json', 'pandaset_0/013/lidar/62.json', 'pandaset_0/013/lidar/63.json', 'pandaset_0/013/lidar/64.json', 'pandaset_0/013/lidar/65.json', 'pandaset_0/013/lidar/66.json', 'pandaset_0/013/lidar/67.json', 'pandaset_0/013/lidar/68.json', 'pandaset_0/013/lidar/69.json', 'pandaset_0/013/lidar/70.json', 'pandaset_0/013/lidar/71.json', 'pandaset_0/013/lidar/72.json', 'pandaset_0/013/lidar/73.json', 'pandaset_0/013/lidar/74.json', 'pandaset_0/013/lidar/75.json', 'pandaset_0/013/lidar/76.json', 'pandaset_0/013/lidar/77.json', 'pandaset_0/013/lidar/78.json', 'pandaset_0/013/lidar/79.json', 'pandaset_0/014/lidar/00.json', 'pandaset_0/014/lidar/01.json', 'pandaset_0/014/lidar/02.json', 'pandaset_0/014/lidar/03.json', 'pandaset_0/014/lidar/04.json', 'pandaset_0/014/lidar/05.json', 'pandaset_0/014/lidar/06.json', 'pandaset_0/014/lidar/07.json', 'pandaset_0/014/lidar/08.json', 'pandaset_0/014/lidar/09.json', 'pandaset_0/014/lidar/10.json', 'pandaset_0/014/lidar/11.json', 'pandaset_0/014/lidar/12.json', 'pandaset_0/014/lidar/13.json', 'pandaset_0/014/lidar/14.json', 'pandaset_0/014/lidar/15.json', 'pandaset_0/014/lidar/16.json', 'pandaset_0/014/lidar/17.json', 'pandaset_0/014/lidar/18.json', 'pandaset_0/014/lidar/19.json', 'pandaset_0/014/lidar/20.json', 'pandaset_0/014/lidar/21.json', 'pandaset_0/014/lidar/22.json', 'pandaset_0/014/lidar/23.json', 'pandaset_0/014/lidar/24.json', 'pandaset_0/014/lidar/25.json', 'pandaset_0/014/lidar/26.json', 'pandaset_0/014/lidar/27.json', 'pandaset_0/014/lidar/28.json', 'pandaset_0/014/lidar/29.json', 'pandaset_0/014/lidar/30.json', 'pandaset_0/014/lidar/31.json', 'pandaset_0/014/lidar/32.json', 'pandaset_0/014/lidar/33.json', 'pandaset_0/014/lidar/34.json', 'pandaset_0/014/lidar/35.json', 'pandaset_0/014/lidar/36.json', 'pandaset_0/014/lidar/37.json', 'pandaset_0/014/lidar/38.json', 'pandaset_0/014/lidar/39.json', 'pandaset_0/014/lidar/40.json', 'pandaset_0/014/lidar/41.json', 'pandaset_0/014/lidar/42.json', 'pandaset_0/014/lidar/43.json', 'pandaset_0/014/lidar/44.json', 'pandaset_0/014/lidar/45.json', 'pandaset_0/014/lidar/46.json', 'pandaset_0/014/lidar/47.json', 'pandaset_0/014/lidar/48.json', 'pandaset_0/014/lidar/49.json', 'pandaset_0/014/lidar/50.json', 'pandaset_0/014/lidar/51.json', 'pandaset_0/014/lidar/52.json', 'pandaset_0/014/lidar/53.json', 'pandaset_0/014/lidar/54.json', 'pandaset_0/014/lidar/55.json', 'pandaset_0/014/lidar/56.json', 'pandaset_0/014/lidar/57.json', 'pandaset_0/014/lidar/58.json', 'pandaset_0/014/lidar/59.json', 'pandaset_0/014/lidar/60.json', 'pandaset_0/014/lidar/61.json', 'pandaset_0/014/lidar/62.json', 'pandaset_0/014/lidar/63.json', 'pandaset_0/014/lidar/64.json', 'pandaset_0/014/lidar/65.json', 'pandaset_0/014/lidar/66.json', 'pandaset_0/014/lidar/67.json', 'pandaset_0/014/lidar/68.json', 'pandaset_0/014/lidar/69.json', 'pandaset_0/014/lidar/70.json', 'pandaset_0/014/lidar/71.json', 'pandaset_0/014/lidar/72.json', 'pandaset_0/014/lidar/73.json', 'pandaset_0/014/lidar/74.json', 'pandaset_0/014/lidar/75.json', 'pandaset_0/014/lidar/76.json', 'pandaset_0/014/lidar/77.json', 'pandaset_0/014/lidar/78.json', 'pandaset_0/014/lidar/79.json', 'pandaset_0/015/lidar/00.json', 'pandaset_0/015/lidar/01.json', 'pandaset_0/015/lidar/02.json', 'pandaset_0/015/lidar/03.json', 'pandaset_0/015/lidar/04.json', 'pandaset_0/015/lidar/05.json', 'pandaset_0/015/lidar/06.json', 'pandaset_0/015/lidar/07.json', 'pandaset_0/015/lidar/08.json', 'pandaset_0/015/lidar/09.json', 'pandaset_0/015/lidar/10.json', 'pandaset_0/015/lidar/11.json', 'pandaset_0/015/lidar/12.json', 'pandaset_0/015/lidar/13.json', 'pandaset_0/015/lidar/14.json', 'pandaset_0/015/lidar/15.json', 'pandaset_0/015/lidar/16.json', 'pandaset_0/015/lidar/17.json', 'pandaset_0/015/lidar/18.json', 'pandaset_0/015/lidar/19.json', 'pandaset_0/015/lidar/20.json', 'pandaset_0/015/lidar/21.json', 'pandaset_0/015/lidar/22.json', 'pandaset_0/015/lidar/23.json', 'pandaset_0/015/lidar/24.json', 'pandaset_0/015/lidar/25.json', 'pandaset_0/015/lidar/26.json', 'pandaset_0/015/lidar/27.json', 'pandaset_0/015/lidar/28.json', 'pandaset_0/015/lidar/29.json', 'pandaset_0/015/lidar/30.json', 'pandaset_0/015/lidar/31.json', 'pandaset_0/015/lidar/32.json', 'pandaset_0/015/lidar/33.json', 'pandaset_0/015/lidar/34.json', 'pandaset_0/015/lidar/35.json', 'pandaset_0/015/lidar/36.json', 'pandaset_0/015/lidar/37.json', 'pandaset_0/015/lidar/38.json', 'pandaset_0/015/lidar/39.json', 'pandaset_0/015/lidar/40.json', 'pandaset_0/015/lidar/41.json', 'pandaset_0/015/lidar/42.json', 'pandaset_0/015/lidar/43.json', 'pandaset_0/015/lidar/44.json', 'pandaset_0/015/lidar/45.json', 'pandaset_0/015/lidar/46.json', 'pandaset_0/015/lidar/47.json', 'pandaset_0/015/lidar/48.json', 'pandaset_0/015/lidar/49.json', 'pandaset_0/015/lidar/50.json', 'pandaset_0/015/lidar/51.json', 'pandaset_0/015/lidar/52.json', 'pandaset_0/015/lidar/53.json', 'pandaset_0/015/lidar/54.json', 'pandaset_0/015/lidar/55.json', 'pandaset_0/015/lidar/56.json', 'pandaset_0/015/lidar/57.json', 'pandaset_0/015/lidar/58.json', 'pandaset_0/015/lidar/59.json', 'pandaset_0/015/lidar/60.json', 'pandaset_0/015/lidar/61.json', 'pandaset_0/015/lidar/62.json', 'pandaset_0/015/lidar/63.json', 'pandaset_0/015/lidar/64.json', 'pandaset_0/015/lidar/65.json', 'pandaset_0/015/lidar/66.json', 'pandaset_0/015/lidar/67.json', 'pandaset_0/015/lidar/68.json', 'pandaset_0/015/lidar/69.json', 'pandaset_0/015/lidar/70.json', 'pandaset_0/015/lidar/71.json', 'pandaset_0/015/lidar/72.json', 'pandaset_0/015/lidar/73.json', 'pandaset_0/015/lidar/74.json', 'pandaset_0/015/lidar/75.json', 'pandaset_0/015/lidar/76.json', 'pandaset_0/015/lidar/77.json', 'pandaset_0/015/lidar/78.json', 'pandaset_0/015/lidar/79.json', 'pandaset_0/016/lidar/00.json', 'pandaset_0/016/lidar/01.json', 'pandaset_0/016/lidar/02.json', 'pandaset_0/016/lidar/03.json', 'pandaset_0/016/lidar/04.json', 'pandaset_0/016/lidar/05.json', 'pandaset_0/016/lidar/06.json', 'pandaset_0/016/lidar/07.json', 'pandaset_0/016/lidar/08.json', 'pandaset_0/016/lidar/09.json', 'pandaset_0/016/lidar/10.json', 'pandaset_0/016/lidar/11.json', 'pandaset_0/016/lidar/12.json', 'pandaset_0/016/lidar/13.json', 'pandaset_0/016/lidar/14.json', 'pandaset_0/016/lidar/15.json', 'pandaset_0/016/lidar/16.json', 'pandaset_0/016/lidar/17.json', 'pandaset_0/016/lidar/18.json', 'pandaset_0/016/lidar/19.json', 'pandaset_0/016/lidar/20.json', 'pandaset_0/016/lidar/21.json', 'pandaset_0/016/lidar/22.json', 'pandaset_0/016/lidar/23.json', 'pandaset_0/016/lidar/24.json', 'pandaset_0/016/lidar/25.json', 'pandaset_0/016/lidar/26.json', 'pandaset_0/016/lidar/27.json', 'pandaset_0/016/lidar/28.json', 'pandaset_0/016/lidar/29.json', 'pandaset_0/016/lidar/30.json', 'pandaset_0/016/lidar/31.json', 'pandaset_0/016/lidar/32.json', 'pandaset_0/016/lidar/33.json', 'pandaset_0/016/lidar/34.json', 'pandaset_0/016/lidar/35.json', 'pandaset_0/016/lidar/36.json', 'pandaset_0/016/lidar/37.json', 'pandaset_0/016/lidar/38.json', 'pandaset_0/016/lidar/39.json', 'pandaset_0/016/lidar/40.json', 'pandaset_0/016/lidar/41.json', 'pandaset_0/016/lidar/42.json', 'pandaset_0/016/lidar/43.json', 'pandaset_0/016/lidar/44.json', 'pandaset_0/016/lidar/45.json', 'pandaset_0/016/lidar/46.json', 'pandaset_0/016/lidar/47.json', 'pandaset_0/016/lidar/48.json', 'pandaset_0/016/lidar/49.json', 'pandaset_0/016/lidar/50.json', 'pandaset_0/016/lidar/51.json', 'pandaset_0/016/lidar/52.json', 'pandaset_0/016/lidar/53.json', 'pandaset_0/016/lidar/54.json', 'pandaset_0/016/lidar/55.json', 'pandaset_0/016/lidar/56.json', 'pandaset_0/016/lidar/57.json', 'pandaset_0/016/lidar/58.json', 'pandaset_0/016/lidar/59.json', 'pandaset_0/016/lidar/60.json', 'pandaset_0/016/lidar/61.json', 'pandaset_0/016/lidar/62.json', 'pandaset_0/016/lidar/63.json', 'pandaset_0/016/lidar/64.json', 'pandaset_0/016/lidar/65.json', 'pandaset_0/016/lidar/66.json', 'pandaset_0/016/lidar/67.json', 'pandaset_0/016/lidar/68.json', 'pandaset_0/016/lidar/69.json', 'pandaset_0/016/lidar/70.json', 'pandaset_0/016/lidar/71.json', 'pandaset_0/016/lidar/72.json', 'pandaset_0/016/lidar/73.json', 'pandaset_0/016/lidar/74.json', 'pandaset_0/016/lidar/75.json', 'pandaset_0/016/lidar/76.json', 'pandaset_0/016/lidar/77.json', 'pandaset_0/016/lidar/78.json', 'pandaset_0/016/lidar/79.json', 'pandaset_0/017/lidar/00.json', 'pandaset_0/017/lidar/01.json', 'pandaset_0/017/lidar/02.json', 'pandaset_0/017/lidar/03.json', 'pandaset_0/017/lidar/04.json', 'pandaset_0/017/lidar/05.json', 'pandaset_0/017/lidar/06.json', 'pandaset_0/017/lidar/07.json', 'pandaset_0/017/lidar/08.json', 'pandaset_0/017/lidar/09.json', 'pandaset_0/017/lidar/10.json', 'pandaset_0/017/lidar/11.json', 'pandaset_0/017/lidar/12.json', 'pandaset_0/017/lidar/14.json', 'pandaset_0/017/lidar/15.json', 'pandaset_0/017/lidar/17.json', 'pandaset_0/023/lidar/00.json', 'pandaset_0/023/lidar/01.json', 'pandaset_0/023/lidar/02.json', 'pandaset_0/023/lidar/03.json', 'pandaset_0/023/lidar/04.json', 'pandaset_0/023/lidar/05.json', 'pandaset_0/023/lidar/06.json', 'pandaset_0/023/lidar/07.json', 'pandaset_0/023/lidar/08.json', 'pandaset_0/023/lidar/09.json', 'pandaset_0/023/lidar/10.json', 'pandaset_0/023/lidar/11.json', 'pandaset_0/023/lidar/12.json', 'pandaset_0/023/lidar/13.json', 'pandaset_0/023/lidar/14.json', 'pandaset_0/023/lidar/15.json', 'pandaset_0/023/lidar/16.json', 'pandaset_0/023/lidar/17.json', 'pandaset_0/023/lidar/18.json', 'pandaset_0/023/lidar/19.json', 'pandaset_0/023/lidar/20.json', 'pandaset_0/023/lidar/21.json', 'pandaset_0/023/lidar/22.json', 'pandaset_0/023/lidar/23.json', 'pandaset_0/023/lidar/24.json', 'pandaset_0/023/lidar/25.json', 'pandaset_0/023/lidar/26.json', 'pandaset_0/023/lidar/27.json', 'pandaset_0/023/lidar/28.json', 'pandaset_0/023/lidar/29.json', 'pandaset_0/023/lidar/30.json', 'pandaset_0/023/lidar/31.json', 'pandaset_0/023/lidar/32.json', 'pandaset_0/023/lidar/33.json', 'pandaset_0/023/lidar/34.json', 'pandaset_0/023/lidar/35.json', 'pandaset_0/023/lidar/36.json', 'pandaset_0/023/lidar/37.json', 'pandaset_0/023/lidar/38.json', 'pandaset_0/023/lidar/39.json', 'pandaset_0/023/lidar/40.json', 'pandaset_0/023/lidar/41.json', 'pandaset_0/023/lidar/42.json', 'pandaset_0/023/lidar/43.json', 'pandaset_0/023/lidar/44.json', 'pandaset_0/023/lidar/45.json', 'pandaset_0/023/lidar/46.json', 'pandaset_0/023/lidar/47.json', 'pandaset_0/023/lidar/48.json', 'pandaset_0/023/lidar/49.json', 'pandaset_0/023/lidar/50.json', 'pandaset_0/023/lidar/51.json', 'pandaset_0/023/lidar/52.json', 'pandaset_0/023/lidar/53.json', 'pandaset_0/023/lidar/54.json', 'pandaset_0/023/lidar/55.json', 'pandaset_0/023/lidar/56.json', 'pandaset_0/023/lidar/57.json', 'pandaset_0/023/lidar/58.json', 'pandaset_0/023/lidar/59.json', 'pandaset_0/023/lidar/60.json', 'pandaset_0/023/lidar/61.json', 'pandaset_0/023/lidar/62.json', 'pandaset_0/023/lidar/63.json', 'pandaset_0/023/lidar/64.json', 'pandaset_0/023/lidar/65.json', 'pandaset_0/023/lidar/66.json', 'pandaset_0/023/lidar/67.json', 'pandaset_0/023/lidar/68.json', 'pandaset_0/023/lidar/69.json', 'pandaset_0/023/lidar/70.json', 'pandaset_0/023/lidar/71.json', 'pandaset_0/023/lidar/72.json', 'pandaset_0/023/lidar/73.json', 'pandaset_0/023/lidar/74.json', 'pandaset_0/023/lidar/75.json', 'pandaset_0/023/lidar/76.json', 'pandaset_0/023/lidar/77.json', 'pandaset_0/023/lidar/78.json', 'pandaset_0/023/lidar/79.json']\n",
      "['pandaset_0/001/annotations/cuboids/00.json', 'pandaset_0/001/annotations/cuboids/01.json', 'pandaset_0/001/annotations/cuboids/02.json', 'pandaset_0/001/annotations/cuboids/03.json', 'pandaset_0/001/annotations/cuboids/04.json', 'pandaset_0/001/annotations/cuboids/05.json', 'pandaset_0/001/annotations/cuboids/06.json', 'pandaset_0/001/annotations/cuboids/07.json', 'pandaset_0/001/annotations/cuboids/08.json', 'pandaset_0/001/annotations/cuboids/09.json', 'pandaset_0/001/annotations/cuboids/10.json', 'pandaset_0/001/annotations/cuboids/11.json', 'pandaset_0/001/annotations/cuboids/12.json', 'pandaset_0/001/annotations/cuboids/13.json', 'pandaset_0/001/annotations/cuboids/14.json', 'pandaset_0/001/annotations/cuboids/15.json', 'pandaset_0/001/annotations/cuboids/16.json', 'pandaset_0/001/annotations/cuboids/17.json', 'pandaset_0/001/annotations/cuboids/18.json', 'pandaset_0/001/annotations/cuboids/19.json', 'pandaset_0/001/annotations/cuboids/20.json', 'pandaset_0/001/annotations/cuboids/21.json', 'pandaset_0/001/annotations/cuboids/22.json', 'pandaset_0/001/annotations/cuboids/23.json', 'pandaset_0/001/annotations/cuboids/24.json', 'pandaset_0/001/annotations/cuboids/25.json', 'pandaset_0/001/annotations/cuboids/26.json', 'pandaset_0/001/annotations/cuboids/27.json', 'pandaset_0/001/annotations/cuboids/28.json', 'pandaset_0/001/annotations/cuboids/29.json', 'pandaset_0/001/annotations/cuboids/30.json', 'pandaset_0/001/annotations/cuboids/31.json', 'pandaset_0/001/annotations/cuboids/32.json', 'pandaset_0/001/annotations/cuboids/33.json', 'pandaset_0/001/annotations/cuboids/34.json', 'pandaset_0/001/annotations/cuboids/35.json', 'pandaset_0/001/annotations/cuboids/36.json', 'pandaset_0/001/annotations/cuboids/37.json', 'pandaset_0/001/annotations/cuboids/38.json', 'pandaset_0/001/annotations/cuboids/39.json', 'pandaset_0/001/annotations/cuboids/40.json', 'pandaset_0/001/annotations/cuboids/41.json', 'pandaset_0/001/annotations/cuboids/42.json', 'pandaset_0/001/annotations/cuboids/43.json', 'pandaset_0/001/annotations/cuboids/44.json', 'pandaset_0/001/annotations/cuboids/45.json', 'pandaset_0/001/annotations/cuboids/46.json', 'pandaset_0/001/annotations/cuboids/47.json', 'pandaset_0/001/annotations/cuboids/48.json', 'pandaset_0/001/annotations/cuboids/49.json', 'pandaset_0/001/annotations/cuboids/50.json', 'pandaset_0/001/annotations/cuboids/51.json', 'pandaset_0/001/annotations/cuboids/52.json', 'pandaset_0/001/annotations/cuboids/53.json', 'pandaset_0/001/annotations/cuboids/54.json', 'pandaset_0/001/annotations/cuboids/55.json', 'pandaset_0/001/annotations/cuboids/56.json', 'pandaset_0/001/annotations/cuboids/57.json', 'pandaset_0/001/annotations/cuboids/58.json', 'pandaset_0/001/annotations/cuboids/59.json', 'pandaset_0/001/annotations/cuboids/60.json', 'pandaset_0/001/annotations/cuboids/61.json', 'pandaset_0/001/annotations/cuboids/62.json', 'pandaset_0/001/annotations/cuboids/63.json', 'pandaset_0/001/annotations/cuboids/64.json', 'pandaset_0/001/annotations/cuboids/65.json', 'pandaset_0/001/annotations/cuboids/66.json', 'pandaset_0/001/annotations/cuboids/67.json', 'pandaset_0/001/annotations/cuboids/68.json', 'pandaset_0/001/annotations/cuboids/69.json', 'pandaset_0/001/annotations/cuboids/70.json', 'pandaset_0/001/annotations/cuboids/71.json', 'pandaset_0/001/annotations/cuboids/72.json', 'pandaset_0/001/annotations/cuboids/73.json', 'pandaset_0/001/annotations/cuboids/74.json', 'pandaset_0/001/annotations/cuboids/75.json', 'pandaset_0/001/annotations/cuboids/76.json', 'pandaset_0/001/annotations/cuboids/77.json', 'pandaset_0/001/annotations/cuboids/78.json', 'pandaset_0/001/annotations/cuboids/79.json', 'pandaset_0/006/annotations/cuboids/00.json', 'pandaset_0/006/annotations/cuboids/01.json', 'pandaset_0/006/annotations/cuboids/02.json', 'pandaset_0/006/annotations/cuboids/03.json', 'pandaset_0/006/annotations/cuboids/04.json', 'pandaset_0/006/annotations/cuboids/05.json', 'pandaset_0/006/annotations/cuboids/06.json', 'pandaset_0/006/annotations/cuboids/07.json', 'pandaset_0/006/annotations/cuboids/08.json', 'pandaset_0/006/annotations/cuboids/09.json', 'pandaset_0/006/annotations/cuboids/10.json', 'pandaset_0/006/annotations/cuboids/11.json', 'pandaset_0/006/annotations/cuboids/12.json', 'pandaset_0/006/annotations/cuboids/13.json', 'pandaset_0/006/annotations/cuboids/14.json', 'pandaset_0/006/annotations/cuboids/15.json', 'pandaset_0/006/annotations/cuboids/16.json', 'pandaset_0/006/annotations/cuboids/17.json', 'pandaset_0/006/annotations/cuboids/18.json', 'pandaset_0/006/annotations/cuboids/19.json', 'pandaset_0/006/annotations/cuboids/20.json', 'pandaset_0/006/annotations/cuboids/21.json', 'pandaset_0/006/annotations/cuboids/22.json', 'pandaset_0/006/annotations/cuboids/23.json', 'pandaset_0/006/annotations/cuboids/24.json', 'pandaset_0/006/annotations/cuboids/25.json', 'pandaset_0/006/annotations/cuboids/26.json', 'pandaset_0/006/annotations/cuboids/27.json', 'pandaset_0/006/annotations/cuboids/28.json', 'pandaset_0/006/annotations/cuboids/29.json', 'pandaset_0/006/annotations/cuboids/30.json', 'pandaset_0/006/annotations/cuboids/31.json', 'pandaset_0/006/annotations/cuboids/32.json', 'pandaset_0/006/annotations/cuboids/33.json', 'pandaset_0/006/annotations/cuboids/34.json', 'pandaset_0/006/annotations/cuboids/35.json', 'pandaset_0/006/annotations/cuboids/36.json', 'pandaset_0/006/annotations/cuboids/37.json', 'pandaset_0/006/annotations/cuboids/38.json', 'pandaset_0/006/annotations/cuboids/39.json', 'pandaset_0/006/annotations/cuboids/40.json', 'pandaset_0/006/annotations/cuboids/41.json', 'pandaset_0/006/annotations/cuboids/42.json', 'pandaset_0/006/annotations/cuboids/43.json', 'pandaset_0/006/annotations/cuboids/44.json', 'pandaset_0/006/annotations/cuboids/45.json', 'pandaset_0/006/annotations/cuboids/46.json', 'pandaset_0/006/annotations/cuboids/47.json', 'pandaset_0/006/annotations/cuboids/48.json', 'pandaset_0/006/annotations/cuboids/49.json', 'pandaset_0/006/annotations/cuboids/50.json', 'pandaset_0/006/annotations/cuboids/51.json', 'pandaset_0/006/annotations/cuboids/52.json', 'pandaset_0/006/annotations/cuboids/53.json', 'pandaset_0/006/annotations/cuboids/54.json', 'pandaset_0/006/annotations/cuboids/55.json', 'pandaset_0/006/annotations/cuboids/56.json', 'pandaset_0/006/annotations/cuboids/57.json', 'pandaset_0/006/annotations/cuboids/58.json', 'pandaset_0/006/annotations/cuboids/59.json', 'pandaset_0/006/annotations/cuboids/60.json', 'pandaset_0/006/annotations/cuboids/61.json', 'pandaset_0/006/annotations/cuboids/62.json', 'pandaset_0/006/annotations/cuboids/63.json', 'pandaset_0/006/annotations/cuboids/64.json', 'pandaset_0/006/annotations/cuboids/65.json', 'pandaset_0/006/annotations/cuboids/66.json', 'pandaset_0/006/annotations/cuboids/67.json', 'pandaset_0/006/annotations/cuboids/68.json', 'pandaset_0/006/annotations/cuboids/69.json', 'pandaset_0/006/annotations/cuboids/70.json', 'pandaset_0/006/annotations/cuboids/71.json', 'pandaset_0/006/annotations/cuboids/72.json', 'pandaset_0/006/annotations/cuboids/73.json', 'pandaset_0/006/annotations/cuboids/74.json', 'pandaset_0/006/annotations/cuboids/75.json', 'pandaset_0/006/annotations/cuboids/76.json', 'pandaset_0/006/annotations/cuboids/77.json', 'pandaset_0/006/annotations/cuboids/78.json', 'pandaset_0/006/annotations/cuboids/79.json', 'pandaset_0/023/annotations/cuboids/00.json', 'pandaset_0/023/annotations/cuboids/01.json', 'pandaset_0/023/annotations/cuboids/02.json', 'pandaset_0/023/annotations/cuboids/03.json', 'pandaset_0/023/annotations/cuboids/04.json', 'pandaset_0/023/annotations/cuboids/05.json', 'pandaset_0/023/annotations/cuboids/06.json', 'pandaset_0/023/annotations/cuboids/07.json', 'pandaset_0/023/annotations/cuboids/08.json', 'pandaset_0/023/annotations/cuboids/09.json', 'pandaset_0/023/annotations/cuboids/10.json', 'pandaset_0/023/annotations/cuboids/11.json', 'pandaset_0/023/annotations/cuboids/12.json', 'pandaset_0/023/annotations/cuboids/13.json', 'pandaset_0/023/annotations/cuboids/14.json', 'pandaset_0/023/annotations/cuboids/15.json', 'pandaset_0/023/annotations/cuboids/16.json', 'pandaset_0/023/annotations/cuboids/17.json', 'pandaset_0/023/annotations/cuboids/18.json', 'pandaset_0/023/annotations/cuboids/19.json', 'pandaset_0/023/annotations/cuboids/20.json', 'pandaset_0/023/annotations/cuboids/21.json', 'pandaset_0/023/annotations/cuboids/22.json', 'pandaset_0/023/annotations/cuboids/23.json', 'pandaset_0/023/annotations/cuboids/24.json', 'pandaset_0/023/annotations/cuboids/25.json', 'pandaset_0/023/annotations/cuboids/26.json', 'pandaset_0/023/annotations/cuboids/27.json', 'pandaset_0/023/annotations/cuboids/28.json', 'pandaset_0/023/annotations/cuboids/29.json', 'pandaset_0/023/annotations/cuboids/30.json', 'pandaset_0/023/annotations/cuboids/31.json', 'pandaset_0/023/annotations/cuboids/32.json', 'pandaset_0/023/annotations/cuboids/33.json', 'pandaset_0/023/annotations/cuboids/34.json', 'pandaset_0/023/annotations/cuboids/35.json', 'pandaset_0/023/annotations/cuboids/36.json', 'pandaset_0/023/annotations/cuboids/37.json', 'pandaset_0/023/annotations/cuboids/38.json', 'pandaset_0/023/annotations/cuboids/39.json', 'pandaset_0/023/annotations/cuboids/40.json', 'pandaset_0/023/annotations/cuboids/41.json', 'pandaset_0/023/annotations/cuboids/42.json', 'pandaset_0/023/annotations/cuboids/43.json', 'pandaset_0/023/annotations/cuboids/44.json', 'pandaset_0/023/annotations/cuboids/45.json', 'pandaset_0/023/annotations/cuboids/46.json', 'pandaset_0/023/annotations/cuboids/47.json', 'pandaset_0/023/annotations/cuboids/48.json', 'pandaset_0/023/annotations/cuboids/49.json', 'pandaset_0/023/annotations/cuboids/50.json', 'pandaset_0/023/annotations/cuboids/51.json', 'pandaset_0/023/annotations/cuboids/52.json', 'pandaset_0/023/annotations/cuboids/53.json', 'pandaset_0/023/annotations/cuboids/54.json', 'pandaset_0/023/annotations/cuboids/55.json', 'pandaset_0/023/annotations/cuboids/56.json', 'pandaset_0/023/annotations/cuboids/57.json', 'pandaset_0/023/annotations/cuboids/58.json', 'pandaset_0/023/annotations/cuboids/59.json', 'pandaset_0/023/annotations/cuboids/60.json', 'pandaset_0/023/annotations/cuboids/61.json', 'pandaset_0/023/annotations/cuboids/62.json', 'pandaset_0/023/annotations/cuboids/63.json', 'pandaset_0/023/annotations/cuboids/64.json', 'pandaset_0/023/annotations/cuboids/65.json', 'pandaset_0/023/annotations/cuboids/66.json', 'pandaset_0/023/annotations/cuboids/67.json', 'pandaset_0/023/annotations/cuboids/68.json', 'pandaset_0/023/annotations/cuboids/69.json', 'pandaset_0/023/annotations/cuboids/70.json', 'pandaset_0/023/annotations/cuboids/71.json', 'pandaset_0/023/annotations/cuboids/72.json', 'pandaset_0/023/annotations/cuboids/73.json', 'pandaset_0/023/annotations/cuboids/74.json', 'pandaset_0/023/annotations/cuboids/75.json', 'pandaset_0/023/annotations/cuboids/76.json', 'pandaset_0/023/annotations/cuboids/77.json', 'pandaset_0/023/annotations/cuboids/78.json', 'pandaset_0/023/annotations/cuboids/79.json']\n"
     ]
    }
   ],
   "source": [
    "print(image_paths)\n",
    "print(pointcloud_paths)\n",
    "print(cuboid_paths)"
   ]
  },
  {
   "cell_type": "markdown",
   "id": "90c15ac8",
   "metadata": {},
   "source": [
    "### Step 3: Construct LidarScenes\n",
    "\n"
   ]
  },
  {
   "cell_type": "code",
   "execution_count": 36,
   "id": "c039fc4a",
   "metadata": {},
   "outputs": [],
   "source": [
    "BUCKET = \"pandaset-public\"\n",
    "S3_BUCKET = \"s3://pandaset-public\"\n",
    "\n",
    "LIDAR_SENSOR = \"lidar\"\n",
    "CAMERA_SENSORS = [\"back_camera\", \"front_camera\", \"front_left_camera\", \"front_right_camera\", \"left_camera\", \"right_camera\"]"
   ]
  },
  {
   "cell_type": "code",
   "execution_count": 45,
   "id": "1983c2c1-14c7-465b-adcf-6fd57eb5eec2",
   "metadata": {},
   "outputs": [],
   "source": [
    "# Define some more helper functions\n",
    "\n",
    "def get_paths_for_scene(paths: List[str], scene_dir: str):\n",
    "    return [path for path in paths if f\"{scene_dir}/\" in path]\n",
    "\n",
    "def extract_sensor_and_frame_from_path(path: str):\n",
    "    tokens = re.split('/|\\.', path) # split on / and . in file path\n",
    "    sensor_name = tokens[-3]\n",
    "    frame_index = int(tokens[-2])\n",
    "    \n",
    "    return sensor_name, frame_index\n",
    "\n",
    "def gen_item_url(item_path: str):\n",
    "    return os.path.join(S3_BUCKET, item_path)\n",
    "\n",
    "def gen_item_reference_id(scene_id: str, frame_index: int, sensor_name: str):\n",
    "    return f\"scene-{scene_id}-frame-{frame_index}-{sensor_name}\"\n",
    "\n",
    "def gen_scene_reference_id(scene_id: str):\n",
    "    return f\"scene-{scene_id}\""
   ]
  },
  {
   "cell_type": "code",
   "execution_count": 37,
   "id": "455664bf-0fe6-4671-9815-4666a83d6582",
   "metadata": {},
   "outputs": [],
   "source": [
    "def construct_camera_params(scene_dir: str, sensor: str):\n",
    "    base_path = f\"pandaset_0/{scene_dir}/camera/{sensor}/\"\n",
    "    intrinsics_path = os.path.join(base_path, 'intrinsics.json')\n",
    "    poses_path = os.path.join(base_path, 'poses.json')\n",
    "    \n",
    "    intrinsics = read_json(intrinsics_path)\n",
    "    poses = read_json(poses_path)\n",
    "    camera_params = {\"intrinsics\": intrinsics, \"poses\": poses}\n",
    "    \n",
    "    return camera_params\n",
    "\n",
    "def construct_camera_params_dict(scene_dir: str):\n",
    "    \"\"\"\n",
    "    Constructs a dictionary of camera parameters (fx, fy, cx, cy, position, heading) for each camera sensor.\n",
    "    Returns a dictionary mapping camera sensor to camera parameters.\n",
    "    \n",
    "    Parameters\n",
    "    ----------\n",
    "    scene_dir: The name of the directory containing the scene\n",
    "\n",
    "    Returns\n",
    "    -------\n",
    "    Dict[str, dict]: A dictionary from camera sensor name to camera parameters dictionary\n",
    "    \"\"\"\n",
    "    camera_sensor_to_params = {}\n",
    "    for sensor in CAMERA_SENSORS:\n",
    "        camera_params = construct_camera_params(scene_dir, sensor)\n",
    "        camera_sensor_to_params[sensor] = camera_params\n",
    "    \n",
    "    return camera_sensor_to_params"
   ]
  },
  {
   "cell_type": "code",
   "execution_count": 41,
   "id": "e7d20843-5ad2-46fb-9d6f-0c9269ff8aee",
   "metadata": {},
   "outputs": [],
   "source": [
    "def construct_image_item(image_path: str, sensor_name: str, frame_index: int, scene_id: str, camera_sensor_to_params: dict):\n",
    "    \"\"\"\n",
    "    Constructs an image DatasetItem from the image stored at image_path.\n",
    "    \n",
    "    Parameters\n",
    "    ----------\n",
    "    image_path: The path of the image in S3\n",
    "    sensor_name: The name of the sensor associated with the image\n",
    "    frame_index: The index of the frame associated with the image\n",
    "    scene_id: The name of the scene that includes the image\n",
    "    camera_sensors_to_params: A dictionary from camera sensor to params\n",
    "\n",
    "    Returns\n",
    "    -------\n",
    "    DatasetItem: The image DatasetItem to be added to the scene\n",
    "    \"\"\"\n",
    "    image_url = gen_item_url(image_path)\n",
    "    reference_id = gen_item_reference_id(scene_id, frame_index, sensor_name)\n",
    "    \n",
    "    params = camera_sensor_to_params[sensor_name]\n",
    "    pose = params[\"poses\"][frame_index]\n",
    "    camera_params = {**params[\"intrinsics\"], **pose}\n",
    "    metadata = {\"camera_params\": camera_params}\n",
    "    \n",
    "    return DatasetItem(image_location=image_url, reference_id=reference_id, metadata=metadata)\n",
    "\n",
    "def construct_pointcloud_item(pointcloud_path: str, sensor_name: str, frame_index: int, scene_id: str):\n",
    "    \"\"\"\n",
    "    Constructs a pointcloud DatasetItem from the pointcloud stored at pointcloud_path.\n",
    "    \n",
    "    Parameters\n",
    "    ----------\n",
    "    pointcloud_path: The path of the pointcloud in S3\n",
    "    sensor_name: The name of the lidar sensor associated with the pointcloud\n",
    "    frame_index: The index of the frame associated with the pointcloud\n",
    "    scene_id: The name of the scene that includes the pointcloud\n",
    "\n",
    "    Returns\n",
    "    -------\n",
    "    DatasetItem: The pointcloud DatasetItem to be added to the scene\n",
    "    \"\"\"\n",
    "    pointcloud_url = gen_item_url(pointcloud_path)\n",
    "    reference_id = gen_item_reference_id(scene_id, frame_index, sensor_name)\n",
    "    \n",
    "    return DatasetItem(pointcloud_location=pointcloud_url, reference_id=reference_id)"
   ]
  },
  {
   "cell_type": "code",
   "execution_count": 30,
   "id": "eb662d94",
   "metadata": {},
   "outputs": [],
   "source": [
    "def construct_scene(scene_id: str):\n",
    "    \"\"\"\n",
    "    Constructs a LidarScene from the images and pointclouds of a scene in PandaSet.\n",
    "    \n",
    "    Parameters\n",
    "    ----------\n",
    "    scene_id: The name of the scene from PandaSet\n",
    "\n",
    "    Returns\n",
    "    -------\n",
    "    LidarScene: A LidarScene containing a sequence of frames corresponding to the sensor data of a PandaSet scene\n",
    "    \"\"\"\n",
    "    scene_reference_id = gen_scene_reference_id(scene_id)\n",
    "    scene = LidarScene(scene_reference_id)\n",
    "\n",
    "    # Construct dictionary of camera params for each camera sensor\n",
    "    camera_sensor_to_params = construct_camera_params_dict(scene_id)\n",
    "\n",
    "    # Construct image DatasetItems and add to scene\n",
    "    image_paths_in_scene = get_paths_for_scene(image_paths, scene_id)\n",
    "    for image_path in image_paths_in_scene:\n",
    "        sensor_name, frame_index = extract_sensor_and_frame_from_path(image_path)\n",
    "        image_item = construct_image_item(image_path, sensor_name, frame_index, scene_id, camera_sensor_to_params)\n",
    "        scene.add_item(frame_index, sensor_name, image_item)\n",
    "    \n",
    "    # Construct pointcloud DatasetItems and add to scene\n",
    "    pointcloud_paths_in_scene = get_paths_for_scene(pointcloud_paths, scene_id)\n",
    "    for pointcloud_path in pointcloud_paths_in_scene:\n",
    "        sensor_name, frame_index = extract_sensor_and_frame_from_path(pointcloud_path)\n",
    "        pointcloud_item = construct_pointcloud_item(pointcloud_path, sensor_name, frame_index, scene_id)\n",
    "        scene.add_item(frame_index, sensor_name, pointcloud_item)\n",
    "    \n",
    "    return scene\n",
    "\n",
    "def construct_pandaset_scenes(scene_ids: List[str]):\n",
    "    scenes = []\n",
    "    for scene_id in scene_ids:\n",
    "        scene = construct_scene(scene_id)\n",
    "        scenes.append(scene)\n",
    "\n",
    "    return scenes"
   ]
  },
  {
   "cell_type": "code",
   "execution_count": 31,
   "id": "ff48204e-05b5-4ef3-9105-5a06893a96a3",
   "metadata": {},
   "outputs": [],
   "source": [
    "# For this demo, we will upload scenes 001, 006, and 023 from PandaSet\n",
    "SCENE_IDS = [\"001\", \"006\", \"023\"]\n",
    "scenes = construct_pandaset_scenes(SCENE_IDS)"
   ]
  },
  {
   "cell_type": "code",
   "execution_count": 32,
   "id": "4d69537a",
   "metadata": {},
   "outputs": [
    {
     "name": "stdout",
     "output_type": "stream",
     "text": [
      "number of lidar DatasetItems: 80\n",
      "number of DatasetItems: 560\n",
      "number of frames: 80\n",
      "number of sensors: 7\n",
      "sensors: ['left_camera', 'back_camera', 'front_right_camera', 'front_left_camera', 'right_camera', 'front_camera', 'lidar']\n"
     ]
    }
   ],
   "source": [
    "scene_1 = scenes[0]\n",
    "print(\"number of lidar DatasetItems:\", len(scene_1.get_items_from_sensor(\"lidar\")))\n",
    "print(\"number of DatasetItems:\", len(scene_1.get_items()))\n",
    "print(\"number of frames:\", scene_1.length)\n",
    "print(\"number of sensors:\", scene_1.num_sensors)\n",
    "print(\"sensors:\", scene_1.get_sensors())"
   ]
  },
  {
   "cell_type": "markdown",
   "id": "acdb6df2",
   "metadata": {},
   "source": [
    "### Step 4: Append Scenes to Dataset"
   ]
  },
  {
   "cell_type": "code",
   "execution_count": 34,
   "id": "80a4a835",
   "metadata": {},
   "outputs": [],
   "source": [
    "API_KEY = \"live_318209d04e3746dbafbe1f195a4a1872\" # YOUR API KEY HERE\n",
    "TEST_DATASET_NAME = \"pandaset_3d\""
   ]
  },
  {
   "cell_type": "code",
   "execution_count": 53,
   "id": "d201a34d",
   "metadata": {},
   "outputs": [],
   "source": [
    "client = NucleusClient(API_KEY, use_notebook=True)\n",
    "dataset = client.create_dataset(TEST_DATASET_NAME)"
   ]
  },
  {
   "cell_type": "code",
   "execution_count": 51,
   "id": "36c94a6a",
   "metadata": {},
   "outputs": [
    {
     "name": "stdout",
     "output_type": "stream",
     "text": [
      "AsyncJob(job_id='job_c4dkzmp81a5007g8t6r0', job_last_known_status='Running', job_type='uploadLidarScene', job_creation_time='2021-08-17T04:49:22.405Z', client=NucleusClient(api_key='live_318209d04e3746dbafbe1f195a4a1872', use_notebook=False, endpoint='https://api.scale.com/v1/nucleus'))\n"
     ]
    }
   ],
   "source": [
    "append_job = dataset.append(scenes, asynchronous=True)\n",
    "print(append_job)"
   ]
  },
  {
   "cell_type": "code",
   "execution_count": 52,
   "id": "38bed801",
   "metadata": {
    "collapsed": true,
    "jupyter": {
     "outputs_hidden": true
    },
    "tags": []
   },
   "outputs": [
    {
     "name": "stdout",
     "output_type": "stream",
     "text": [
      "Status at Mon Aug 16 21:49:27 2021: {'job_id': 'job_c4dkzmp81a5007g8t6r0', 'status': 'Running', 'message': {}, 'job_progress': 'NaN', 'completed_steps': 0, 'total_steps': 0}\n",
      "Status at Mon Aug 16 21:49:32 2021: {'job_id': 'job_c4dkzmp81a5007g8t6r0', 'status': 'Running', 'message': {}, 'job_progress': 'NaN', 'completed_steps': 0, 'total_steps': 0}\n",
      "Status at Mon Aug 16 21:49:38 2021: {'job_id': 'job_c4dkzmp81a5007g8t6r0', 'status': 'Running', 'message': {}, 'job_progress': 'NaN', 'completed_steps': 0, 'total_steps': 0}\n",
      "Status at Mon Aug 16 21:49:43 2021: {'job_id': 'job_c4dkzmp81a5007g8t6r0', 'status': 'Running', 'message': {}, 'job_progress': 'NaN', 'completed_steps': 0, 'total_steps': 0}\n",
      "Status at Mon Aug 16 21:49:48 2021: {'job_id': 'job_c4dkzmp81a5007g8t6r0', 'status': 'Running', 'message': {}, 'job_progress': 'NaN', 'completed_steps': 0, 'total_steps': 0}\n",
      "Status at Mon Aug 16 21:49:53 2021: {'job_id': 'job_c4dkzmp81a5007g8t6r0', 'status': 'Running', 'message': {}, 'job_progress': 'NaN', 'completed_steps': 0, 'total_steps': 0}\n",
      "Status at Mon Aug 16 21:49:58 2021: {'job_id': 'job_c4dkzmp81a5007g8t6r0', 'status': 'Running', 'message': {}, 'job_progress': 'NaN', 'completed_steps': 0, 'total_steps': 0}\n",
      "Status at Mon Aug 16 21:50:04 2021: {'job_id': 'job_c4dkzmp81a5007g8t6r0', 'status': 'Running', 'message': {}, 'job_progress': 'NaN', 'completed_steps': 0, 'total_steps': 0}\n",
      "Status at Mon Aug 16 21:50:09 2021: {'job_id': 'job_c4dkzmp81a5007g8t6r0', 'status': 'Running', 'message': {}, 'job_progress': 'NaN', 'completed_steps': 0, 'total_steps': 0}\n",
      "Status at Mon Aug 16 21:50:14 2021: {'job_id': 'job_c4dkzmp81a5007g8t6r0', 'status': 'Running', 'message': {}, 'job_progress': 'NaN', 'completed_steps': 0, 'total_steps': 0}\n",
      "Status at Mon Aug 16 21:50:19 2021: {'job_id': 'job_c4dkzmp81a5007g8t6r0', 'status': 'Running', 'message': {}, 'job_progress': 'NaN', 'completed_steps': 0, 'total_steps': 0}\n",
      "Status at Mon Aug 16 21:50:25 2021: {'job_id': 'job_c4dkzmp81a5007g8t6r0', 'status': 'Running', 'message': {}, 'job_progress': 'NaN', 'completed_steps': 0, 'total_steps': 0}\n",
      "Status at Mon Aug 16 21:50:30 2021: {'job_id': 'job_c4dkzmp81a5007g8t6r0', 'status': 'Running', 'message': {}, 'job_progress': 'NaN', 'completed_steps': 0, 'total_steps': 0}\n",
      "Status at Mon Aug 16 21:50:35 2021: {'job_id': 'job_c4dkzmp81a5007g8t6r0', 'status': 'Running', 'message': {}, 'job_progress': 'NaN', 'completed_steps': 0, 'total_steps': 0}\n",
      "Status at Mon Aug 16 21:50:40 2021: {'job_id': 'job_c4dkzmp81a5007g8t6r0', 'status': 'Running', 'message': {}, 'job_progress': 'NaN', 'completed_steps': 0, 'total_steps': 0}\n",
      "Status at Mon Aug 16 21:50:45 2021: {'job_id': 'job_c4dkzmp81a5007g8t6r0', 'status': 'Running', 'message': {}, 'job_progress': 'NaN', 'completed_steps': 0, 'total_steps': 0}\n",
      "Status at Mon Aug 16 21:50:51 2021: {'job_id': 'job_c4dkzmp81a5007g8t6r0', 'status': 'Running', 'message': {}, 'job_progress': 'NaN', 'completed_steps': 0, 'total_steps': 0}\n",
      "Status at Mon Aug 16 21:50:56 2021: {'job_id': 'job_c4dkzmp81a5007g8t6r0', 'status': 'Running', 'message': {}, 'job_progress': 'NaN', 'completed_steps': 0, 'total_steps': 0}\n",
      "Status at Mon Aug 16 21:51:01 2021: {'job_id': 'job_c4dkzmp81a5007g8t6r0', 'status': 'Running', 'message': {}, 'job_progress': 'NaN', 'completed_steps': 0, 'total_steps': 0}\n",
      "Status at Mon Aug 16 21:51:06 2021: {'job_id': 'job_c4dkzmp81a5007g8t6r0', 'status': 'Running', 'message': {}, 'job_progress': 'NaN', 'completed_steps': 0, 'total_steps': 0}\n",
      "Status at Mon Aug 16 21:51:11 2021: {'job_id': 'job_c4dkzmp81a5007g8t6r0', 'status': 'Completed', 'message': {}, 'job_progress': 'NaN', 'completed_steps': 0, 'total_steps': 0}\n",
      "{'job_id': 'job_c4dkzmp81a5007g8t6r0', 'status': 'Completed', 'message': {}, 'job_progress': 'NaN', 'completed_steps': 0, 'total_steps': 0}\n"
     ]
    }
   ],
   "source": [
    "append_job.sleep_until_complete()\n",
    "print(append_job.status())"
   ]
  },
  {
   "cell_type": "markdown",
   "id": "eb293493",
   "metadata": {},
   "source": [
    "### Step 5: Upload Annotations"
   ]
  },
  {
   "cell_type": "code",
   "execution_count": 50,
   "id": "073ec976-af25-4982-95d3-17d7f996708f",
   "metadata": {},
   "outputs": [],
   "source": [
    "def construct_cuboid_annotation(cuboid: dict, reference_id: str):\n",
    "    \"\"\"\n",
    "    Constructs a CuboidAnnotation from a dictionary representation of a cuboid. \n",
    "    \n",
    "    Parameters\n",
    "    ----------\n",
    "    cuboid: Dictionary containing label, position, dimensions, yaw, annotation_id, and metadata\n",
    "    reference_id: User-defined identifier of the DatasetItem to associate this annotation with\n",
    "\n",
    "    Returns\n",
    "    -------\n",
    "    CuboidAnnotation: A CuboidAnnotation corresponding to the DatasetItem referenced by reference_id\n",
    "    \"\"\"\n",
    "    position_json = cuboid[\"geometry\"][\"position\"]\n",
    "    position = Point3D(position_json[\"x\"], position_json[\"y\"], position_json[\"z\"])\n",
    "    \n",
    "    dimensions_json = cuboid[\"geometry\"][\"dimensions\"]\n",
    "    dimensions = Point3D(dimensions_json[\"x\"], dimensions_json[\"y\"], dimensions_json[\"z\"])\n",
    "    \n",
    "    yaw = cuboid[\"geometry\"][\"yaw\"]\n",
    "    \n",
    "    return CuboidAnnotation(\n",
    "        label=cuboid[\"label\"],\n",
    "        position=position,\n",
    "        dimensions=dimensions,\n",
    "        yaw=yaw,\n",
    "        reference_id=reference_id,\n",
    "        annotation_id=cuboid[\"annotation_id\"],\n",
    "        metadata=cuboid[\"metadata\"]\n",
    "    )\n",
    "\n",
    "def construct_cuboid_annotations_per_frame(cuboids_per_frame_path: str):\n",
    "    \"\"\"\n",
    "    Constructs a list of CuboidAnnotations corresponding to the pointcloud at a given frame in the scene.\n",
    "    \n",
    "    Parameters\n",
    "    ----------\n",
    "    cuboids_per_frame_path: Path to a list of cuboids for a given lidar pointcloud\n",
    "\n",
    "    Returns\n",
    "    -------\n",
    "    List[CuboidAnnotation]: A list of CuboidAnnotations representing all annotations for a pointcloud\n",
    "    \"\"\"\n",
    "    _, frame_index = extract_sensor_and_frame_from_path(cuboids_per_frame_path) # ignore sensor since path to annotations is different\n",
    "    reference_id = gen_item_reference_id(SCENE_ID, frame_index, LIDAR_SENSOR)\n",
    "    cuboids_per_frame = read_json(cuboids_per_frame_path)\n",
    "    \n",
    "    return [construct_cuboid_annotation(cuboid, reference_id) for cuboid in cuboids_per_frame]"
   ]
  },
  {
   "cell_type": "code",
   "execution_count": 38,
   "id": "2fbdef70",
   "metadata": {},
   "outputs": [],
   "source": [
    "def construct_cuboid_annotations_per_scene(scene_id: str):\n",
    "    cuboid_annotations = []\n",
    "    cuboid_paths_in_scene = get_paths_for_scene(cuboid_paths, scene_id)\n",
    "    for cuboids_per_frame_path in cuboid_paths_in_scene:\n",
    "        cuboid_annotations_per_frame = construct_cuboid_annotations_per_frame(cuboids_per_frame_path)\n",
    "        cuboid_annotations.extend(cuboid_annotations_per_frame)\n",
    "    \n",
    "    return cuboid_annotations"
   ]
  },
  {
   "cell_type": "code",
   "execution_count": 39,
   "id": "d2bf75ef-1cb8-4416-8b73-ad5b9ad646ff",
   "metadata": {},
   "outputs": [],
   "source": [
    "# Let's upload cuboid annotations for scene 23\n",
    "SCENE_ID = \"023\"\n",
    "annotations = construct_cuboid_annotations_per_scene(SCENE_ID)"
   ]
  },
  {
   "cell_type": "code",
   "execution_count": 56,
   "id": "f779b5c4-1342-4522-ad0a-2d88016ff640",
   "metadata": {},
   "outputs": [
    {
     "name": "stdout",
     "output_type": "stream",
     "text": [
      "12637\n",
      "CuboidAnnotation(label='Car', position=Point3D(x=-22.581, y=-35.652, z=0.776), dimensions=Point3D(x=1.935, y=4.858, z=1.851), yaw=-0.9474790371, reference_id='scene-023-frame-0-lidar', item_id=None, annotation_id='a494348f-26f4-4559-a0ae-132d4d753159', metadata={'stationary': True, 'camera_used': 5, 'attributes.object_motion': 'Parked', 'cuboids.sibling_id': '-', 'cuboids.sensor_id': -1, 'attributes.pedestrian_behavior': None, 'attributes.pedestrian_age': None, 'attributes.rider_status': None})\n"
     ]
    }
   ],
   "source": [
    "print(len(annotations))\n",
    "ann = annotations[0]\n",
    "print(ann)"
   ]
  },
  {
   "cell_type": "code",
   "execution_count": 55,
   "id": "c4655236",
   "metadata": {},
   "outputs": [
    {
     "name": "stderr",
     "output_type": "stream",
     "text": [
      "  0%|          | 0/3 [00:00<?, ?it/s]\n",
      "  0%|          | 0/3 [00:00<?, ?it/s]\u001b[A\n",
      " 33%|███▎      | 1/3 [00:08<00:17,  8.68s/it]\u001b[A\n",
      " 67%|██████▋   | 2/3 [00:10<00:04,  4.78s/it]\u001b[A\n",
      "100%|██████████| 3/3 [00:12<00:00,  4.09s/it]\u001b[A\n",
      "100%|██████████| 3/3 [00:12<00:00,  4.09s/it]"
     ]
    },
    {
     "name": "stdout",
     "output_type": "stream",
     "text": [
      "{'dataset_id': 'ds_c4dkzky5vjbg0d1m6fpg', 'annotations_processed': 1685, 'annotations_ignored': 0}\n"
     ]
    },
    {
     "name": "stderr",
     "output_type": "stream",
     "text": [
      "\n"
     ]
    }
   ],
   "source": [
    "annotate_job = dataset.annotate(annotations, asynchronous=True)\n",
    "print(annotate_job)"
   ]
  },
  {
   "cell_type": "code",
   "execution_count": 22,
   "id": "8ac9efc6-49a7-49d1-9473-8f539d2c6145",
   "metadata": {},
   "outputs": [
    {
     "name": "stdout",
     "output_type": "stream",
     "text": [
      "Status at Mon Aug 16 17:57:26 2021: {'job_id': 'job_c4detm2tt8400bh67d30', 'status': 'Running', 'message': {}, 'job_progress': 'NaN', 'completed_steps': 0, 'total_steps': 0}\n",
      "Status at Mon Aug 16 17:57:31 2021: {'job_id': 'job_c4detm2tt8400bh67d30', 'status': 'Completed', 'message': {}, 'job_progress': 'NaN', 'completed_steps': 0, 'total_steps': 0}\n",
      "{'job_id': 'job_c4detm2tt8400bh67d30', 'status': 'Completed', 'message': {}, 'job_progress': 'NaN', 'completed_steps': 0, 'total_steps': 0}\n"
     ]
    }
   ],
   "source": [
    "annotate_job.sleep_until_complete()\n",
    "print(annotate_job.status())"
   ]
  },
  {
   "cell_type": "markdown",
   "id": "a988ca13-2524-4794-b960-542102c0f281",
   "metadata": {},
   "source": []
  }
 ],
 "metadata": {
  "kernelspec": {
   "display_name": "Python 3",
   "language": "python",
   "name": "python3"
  },
  "language_info": {
   "codemirror_mode": {
    "name": "ipython",
    "version": 3
   },
   "file_extension": ".py",
   "mimetype": "text/x-python",
   "name": "python",
   "nbconvert_exporter": "python",
   "pygments_lexer": "ipython3",
   "version": "3.8.10"
  }
 },
 "nbformat": 4,
 "nbformat_minor": 5
}
