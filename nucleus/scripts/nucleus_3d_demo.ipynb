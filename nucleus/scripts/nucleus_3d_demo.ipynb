{
 "cells": [
  {
   "cell_type": "code",
   "execution_count": 53,
   "id": "b43c248d-7d1c-42ab-b638-047781f3f51b",
   "metadata": {},
   "outputs": [],
   "source": [
    "import nucleus\n",
    "from nucleus import Scene, LidarScene, SceneDatasetItem, NucleusClient"
   ]
  },
  {
   "cell_type": "code",
   "execution_count": 54,
   "id": "3c286c56-ff5e-4062-a62b-cbe6a549c57a",
   "metadata": {},
   "outputs": [],
   "source": [
    "BUCKET = \"scale-ml\"\n",
    "S3_BUCKET = \"s3://scale-ml/\"\n",
    "OBJECT_PATH = \"pandaset/023/\"\n",
    "SCENE_URL = \"s3://scale-ml/pandaset/023/\"\n",
    "\n",
    "IMAGE_TYPE = \"image\"\n",
    "POINTCLOUD_TYPE = \"pointcloud\""
   ]
  },
  {
   "cell_type": "code",
   "execution_count": 3,
   "id": "53def4f6-ece4-450a-9aed-300ab97d9531",
   "metadata": {},
   "outputs": [
    {
     "name": "stdout",
     "output_type": "stream",
     "text": [
      "Requirement already satisfied: boto3 in /Users/drewkaul/Library/Caches/pypoetry/virtualenvs/scale-nucleus-nqXix_D8-py3.8/lib/python3.8/site-packages (1.18.19)\n",
      "Requirement already satisfied: jmespath<1.0.0,>=0.7.1 in /Users/drewkaul/Library/Caches/pypoetry/virtualenvs/scale-nucleus-nqXix_D8-py3.8/lib/python3.8/site-packages (from boto3) (0.10.0)\n",
      "Requirement already satisfied: s3transfer<0.6.0,>=0.5.0 in /Users/drewkaul/Library/Caches/pypoetry/virtualenvs/scale-nucleus-nqXix_D8-py3.8/lib/python3.8/site-packages (from boto3) (0.5.0)\n",
      "Requirement already satisfied: botocore<1.22.0,>=1.21.19 in /Users/drewkaul/Library/Caches/pypoetry/virtualenvs/scale-nucleus-nqXix_D8-py3.8/lib/python3.8/site-packages (from boto3) (1.21.19)\n",
      "Requirement already satisfied: urllib3<1.27,>=1.25.4 in /Users/drewkaul/Library/Caches/pypoetry/virtualenvs/scale-nucleus-nqXix_D8-py3.8/lib/python3.8/site-packages (from botocore<1.22.0,>=1.21.19->boto3) (1.26.5)\n",
      "Requirement already satisfied: python-dateutil<3.0.0,>=2.1 in /Users/drewkaul/Library/Caches/pypoetry/virtualenvs/scale-nucleus-nqXix_D8-py3.8/lib/python3.8/site-packages (from botocore<1.22.0,>=1.21.19->boto3) (2.8.2)\n",
      "Requirement already satisfied: six>=1.5 in /Users/drewkaul/Library/Caches/pypoetry/virtualenvs/scale-nucleus-nqXix_D8-py3.8/lib/python3.8/site-packages (from python-dateutil<3.0.0,>=2.1->botocore<1.22.0,>=1.21.19->boto3) (1.16.0)\n",
      "\u001b[33mWARNING: You are using pip version 21.1.2; however, version 21.2.3 is available.\n",
      "You should consider upgrading via the '/Users/drewkaul/Library/Caches/pypoetry/virtualenvs/scale-nucleus-nqXix_D8-py3.8/bin/python -m pip install --upgrade pip' command.\u001b[0m\n"
     ]
    }
   ],
   "source": [
    "import sys\n",
    "!{sys.executable} -m pip install boto3"
   ]
  },
  {
   "cell_type": "code",
   "execution_count": 4,
   "id": "eedb5ce4-5a66-4191-9ac1-053d07d9a4e6",
   "metadata": {},
   "outputs": [],
   "source": [
    "import boto3\n",
    "\n",
    "client = boto3.client('s3')\n",
    "paginator = client.get_paginator('list_objects_v2')\n",
    "result = paginator.paginate(Bucket=BUCKET, Prefix=OBJECT_PATH, StartAfter=OBJECT_PATH)"
   ]
  },
  {
   "cell_type": "code",
   "execution_count": 6,
   "id": "e2e17e26-a067-4872-ad65-4cc8f7e06396",
   "metadata": {},
   "outputs": [],
   "source": [
    "image_paths = []\n",
    "pointcloud_paths = []\n",
    "\n",
    "def is_image_path(object_path):\n",
    "    return \"camera/\" in object_path and \".jpg\" in object_path\n",
    "\n",
    "def is_pointcloud_path(object_path):\n",
    "    return \"lidar/\" in object_path and \".json\" in object_path\n",
    "\n",
    "for page in result:\n",
    "    if \"Contents\" in page:\n",
    "        for key in page[\"Contents\"]:\n",
    "            object_path = key[\"Key\"]\n",
    "            \n",
    "            if is_image_path(object_path):\n",
    "                image_paths.append(object_path)\n",
    "            \n",
    "            if is_pointcloud_path(object_path):\n",
    "                pointcloud_paths.append(object_path)"
   ]
  },
  {
   "cell_type": "code",
   "execution_count": 10,
   "id": "d737b210-17a4-4fe8-b736-6a110d51052d",
   "metadata": {},
   "outputs": [
    {
     "name": "stdout",
     "output_type": "stream",
     "text": [
      "480\n",
      "pandaset/023/camera/back_camera/00.jpg\n",
      "80\n",
      "pandaset/023/lidar/00.json\n"
     ]
    }
   ],
   "source": [
    "print(len(image_paths))\n",
    "print(image_paths[0])\n",
    "# print(image_paths)\n",
    "\n",
    "print(len(pointcloud_paths))\n",
    "print(pointcloud_paths[0])\n",
    "# print(pointcloud_paths)"
   ]
  },
  {
   "cell_type": "code",
   "execution_count": 67,
   "id": "feb19a94-66bd-479e-a9af-5e1b19713ea2",
   "metadata": {},
   "outputs": [],
   "source": [
    "import os\n",
    "import re\n",
    "\n",
    "scene_number = re.split('/', OBJECT_PATH)[1]\n",
    "scene_ref_id = f\"scene-{scene_number}\"\n",
    "scene = LidarScene(scene_ref_id)\n",
    "\n",
    "for image_path in image_paths:\n",
    "    image_url = os.path.join(S3_BUCKET, image_path)\n",
    "    \n",
    "    tokens = re.split('/|\\.', image_path)\n",
    "    frame_idx = int(tokens[-2])\n",
    "    sensor_name = tokens[-3]\n",
    "    reference_id = f\"scene-{scene_number}-frame-{frame_idx}-{sensor_name}\"\n",
    "    \n",
    "    item = SceneDatasetItem(image_url, IMAGE_TYPE, reference_id)\n",
    "    scene.add_item(frame_idx, sensor_name, item)\n",
    "\n",
    "for pointcloud_path in pointcloud_paths:\n",
    "    pointcloud_url = os.path.join(S3_BUCKET, pointcloud_path)\n",
    "    \n",
    "    tokens = re.split('/|\\.', pointcloud_path)\n",
    "    frame_idx = int(tokens[-2])\n",
    "    sensor_name = tokens[-3]\n",
    "    reference_id = f\"scene-{scene_number}-frame-{frame_idx}-{sensor_name}\"\n",
    "    \n",
    "    item = SceneDatasetItem(pointcloud_url, POINTCLOUD_TYPE, reference_id)\n",
    "    scene.add_item(frame_idx, sensor_name, item)\n",
    "    "
   ]
  },
  {
   "cell_type": "code",
   "execution_count": 68,
   "id": "2988a36d-d304-43be-943b-261344f21260",
   "metadata": {},
   "outputs": [
    {
     "name": "stdout",
     "output_type": "stream",
     "text": [
      "number of frames: 80\n",
      "number of sensors per frame: 7\n",
      "Frame(items={'back_camera': SceneDatasetItem(url='s3://scale-ml/pandaset/023/camera/back_camera/00.jpg', type='image', reference_id='scene-023-frame-0-back_camera', metadata=None, camera_params=None), 'front_camera': SceneDatasetItem(url='s3://scale-ml/pandaset/023/camera/front_camera/00.jpg', type='image', reference_id='scene-023-frame-0-front_camera', metadata=None, camera_params=None), 'front_left_camera': SceneDatasetItem(url='s3://scale-ml/pandaset/023/camera/front_left_camera/00.jpg', type='image', reference_id='scene-023-frame-0-front_left_camera', metadata=None, camera_params=None), 'front_right_camera': SceneDatasetItem(url='s3://scale-ml/pandaset/023/camera/front_right_camera/00.jpg', type='image', reference_id='scene-023-frame-0-front_right_camera', metadata=None, camera_params=None), 'left_camera': SceneDatasetItem(url='s3://scale-ml/pandaset/023/camera/left_camera/00.jpg', type='image', reference_id='scene-023-frame-0-left_camera', metadata=None, camera_params=None), 'right_camera': SceneDatasetItem(url='s3://scale-ml/pandaset/023/camera/right_camera/00.jpg', type='image', reference_id='scene-023-frame-0-right_camera', metadata=None, camera_params=None), 'lidar': SceneDatasetItem(url='s3://scale-ml/pandaset/023/lidar/00.json', type='pointcloud', reference_id='scene-023-frame-0-lidar', metadata=None, camera_params=None)}, index=0)\n"
     ]
    }
   ],
   "source": [
    "print(\"number of frames:\", len(scene.frames_dict))\n",
    "frame_0 = scene.frames_dict[0]\n",
    "print(\"number of sensors per frame:\", len(frame_0.items.values()))\n",
    "print(frame_0)"
   ]
  },
  {
   "cell_type": "code",
   "execution_count": 55,
   "id": "3891ca83-fb61-4c2b-aff6-b477203256ec",
   "metadata": {},
   "outputs": [],
   "source": [
    "API_KEY = \"live_318209d04e3746dbafbe1f195a4a1872\"\n",
    "TEST_DATASET_NAME = \"test_dataset_3d\""
   ]
  },
  {
   "cell_type": "code",
   "execution_count": 70,
   "id": "3e9e2cdd-44b2-4500-bec7-d40df07bb5ef",
   "metadata": {},
   "outputs": [],
   "source": [
    "# new_pointcloud_url = \"s3://scale-ml/pandaset/023/lidar_frame_0.json\"\n",
    "# for frame in scene.frames:\n",
    "#     for sensor, item in frame.items.items():\n",
    "#         if item.type == \"pointcloud\":\n",
    "#             new_item = SceneDatasetItem(new_pointcloud_url, item.type, item.reference_id)\n",
    "#             frame.items[sensor] = new_item"
   ]
  },
  {
   "cell_type": "code",
   "execution_count": 69,
   "id": "5c374bbc-f244-4998-9312-cc34a742a40c",
   "metadata": {},
   "outputs": [
    {
     "name": "stdout",
     "output_type": "stream",
     "text": [
      "{'dataset_id': 'ds_c4ack3wpfpd5q3w8rbn0', 'new_scenes': 0, 'ignored_scenes': 0, 'scenes_errored': 1, 'errors': ['Error: The resource at s3://scale-ml/pandaset/023/lidar/04.json could not be downloaded: Status code 403']}\n"
     ]
    }
   ],
   "source": [
    "client = NucleusClient(API_KEY)\n",
    "dataset = client.create_dataset(TEST_DATASET_NAME)\n",
    "\n",
    "scenes = [scene]\n",
    "response = dataset.append(scenes)\n",
    "print(response)"
   ]
  },
  {
   "cell_type": "code",
   "execution_count": null,
   "id": "41ae04ec-599b-4d92-9470-876c304a8bd6",
   "metadata": {},
   "outputs": [],
   "source": [
    "# read in annotations from local dir\n",
    "# upload cuboid annotations\n",
    "dataset.annotate(annotations)"
   ]
  },
  {
   "cell_type": "code",
   "execution_count": null,
   "id": "0bc9bb65-9e88-4f28-a84a-53e5ee6fff77",
   "metadata": {},
   "outputs": [],
   "source": [
    "# fn to construct Frame\n",
    "# call scene.add_frame\n",
    "# call frame.add_item\n"
   ]
  }
 ],
 "metadata": {
  "kernelspec": {
   "display_name": "Python 3",
   "language": "python",
   "name": "python3"
  },
  "language_info": {
   "codemirror_mode": {
    "name": "ipython",
    "version": 3
   },
   "file_extension": ".py",
   "mimetype": "text/x-python",
   "name": "python",
   "nbconvert_exporter": "python",
   "pygments_lexer": "ipython3",
   "version": "3.8.10"
  }
 },
 "nbformat": 4,
 "nbformat_minor": 5
}
