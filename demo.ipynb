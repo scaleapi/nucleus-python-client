{
 "cells": [
  {
   "cell_type": "code",
   "execution_count": 1,
   "metadata": {},
   "outputs": [
    {
     "data": {
      "text/html": [
       "<style>.container { width:100% !important; }</style>"
      ],
      "text/plain": [
       "<IPython.core.display.HTML object>"
      ]
     },
     "metadata": {},
     "output_type": "display_data"
    }
   ],
   "source": [
    "%load_ext autoreload\n",
    "%autoreload 2\n",
    "from IPython.core.display import display, HTML\n",
    "display(HTML(\"<style>.container { width:100% !important; }</style>\"))\n",
    "\n",
    "import os\n",
    "import nucleus\n",
    "\n",
    "client = nucleus.NucleusClient(os.environ[\"NUCLEUS_API_KEY\"], endpoint=\"http://localhost:3000/v1/nucleus\")"
   ]
  },
  {
   "cell_type": "code",
   "execution_count": 2,
   "metadata": {},
   "outputs": [
    {
     "name": "stdout",
     "output_type": "stream",
     "text": [
      "-------------------------------------  -------------------  ------------------  ------------------  ------------------\n",
      "Fixture name                           PolygonIOU           PolygonPrecision    PolygonRecall       Your custom metric\n",
      "many_images_many_fps_box.json          0.4255035644058599   0.5021834061135371  0.9663865546218487  20.529411764705884\n",
      "many_images_mediocre_matches_box.json  0.4699543977744903   0.6                 0.5                 0.5\n",
      "single_image_many_fps_box.json         0.29066466713084466  0.3333333333333333  0.9999999999999998  4.0\n",
      "single_image_missing_gt_box.json       0.0                  0.0                 0.0                 0.0\n",
      "single_image_missing_preds_box.json    0.0                  0.0                 0.0                 1.0\n",
      "single_image_perfect_match_box.json    1.0                  1.0                 1.0                 0.0\n",
      "-------------------------------------  -------------------  ------------------  ------------------  ------------------\n"
     ]
    }
   ],
   "source": [
    "from nucleus.metrics import Metric, MetricResult\n",
    "from nucleus.annotation import AnnotationList\n",
    "from nucleus.prediction import PredictionList\n",
    "\n",
    "\n",
    "class MyMetric(Metric):\n",
    "    def __call__(\n",
    "        self, annotations: AnnotationList, predictions: PredictionList\n",
    "    ) -> MetricResult:\n",
    "        value = (len(annotations) - len(predictions)) ** 2\n",
    "        weight = len(annotations)\n",
    "        return MetricResult(value, weight)\n",
    "\n",
    "eval_func = client.modelci.upload_eval_function(MyMetric(), \"my_metric\")"
   ]
  },
  {
   "cell_type": "code",
   "execution_count": null,
   "metadata": {},
   "outputs": [],
   "source": [
    "from nucleus import BoxAnnotation\n",
    "from nucleus.metrics import MetricResult, PolygonMetric\n",
    "from nucleus.metrics.polygon_utils import BoxOrPolygonAnnotation, BoxOrPolygonPrediction, iou_assignments\n",
    "\n",
    "class MyPolygonMetric(PolygonMetric):\n",
    "    def eval(\n",
    "        self,\n",
    "        annotations: List[BoxOrPolygonAnnotation],\n",
    "        predictions: List[BoxOrPolygonPrediction],\n",
    "    ) -> MetricResult:\n",
    "        iou_assigns = iou_assignments(\n",
    "            annotations, predictions, self.iou_threshold\n",
    "        )\n",
    "        value = 0.0 # TODO\n",
    "        weight = 0.0 # TODO\n",
    "        return MetricResult(value, weight)\n"
   ]
  },
  {
   "cell_type": "code",
   "execution_count": 3,
   "metadata": {},
   "outputs": [
    {
     "name": "stderr",
     "output_type": "stream",
     "text": [
      "WARNING:nucleus.logger:Standard function cat_f1 not implemented as an attribute on AvailableEvalFunctions\n"
     ]
    },
    {
     "data": {
      "text/plain": [
       "{'my_metric': <EvalFunction: name=my_metric, id=ef_c7qexkyvshg2w8199p10>}"
      ]
     },
     "execution_count": 3,
     "metadata": {},
     "output_type": "execute_result"
    }
   ],
   "source": [
    "client.modelci.eval_functions.private_functions"
   ]
  },
  {
   "cell_type": "code",
   "execution_count": null,
   "metadata": {},
   "outputs": [],
   "source": [
    "client.modelci.delete_eval_function(eval_func.id)"
   ]
  },
  {
   "cell_type": "code",
   "execution_count": null,
   "metadata": {},
   "outputs": [],
   "source": [
    "# TODO\n",
    "# If an eval fn is deleted and results in unit test with 0 metrics, maybe warn / error?"
   ]
  }
 ],
 "metadata": {
  "kernelspec": {
   "display_name": "Python 3",
   "language": "python",
   "name": "python3"
  },
  "language_info": {
   "codemirror_mode": {
    "name": "ipython",
    "version": 3
   },
   "file_extension": ".py",
   "mimetype": "text/x-python",
   "name": "python",
   "nbconvert_exporter": "python",
   "pygments_lexer": "ipython3",
   "version": "3.8.12"
  }
 },
 "nbformat": 4,
 "nbformat_minor": 2
}
