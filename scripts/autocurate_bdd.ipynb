{
 "cells": [
  {
   "cell_type": "code",
   "execution_count": 6,
   "metadata": {},
   "outputs": [],
   "source": [
    "import nucleus\n",
    "import nucleus.autocurate"
   ]
  },
  {
   "cell_type": "code",
   "execution_count": 2,
   "metadata": {},
   "outputs": [],
   "source": [
    "API_KEY = '' # Vinjai's API key\n",
    "client = nucleus.NucleusClient(API_KEY)"
   ]
  },
  {
   "cell_type": "code",
   "execution_count": 115,
   "metadata": {},
   "outputs": [],
   "source": [
    "run = client.get_model_run(model_run_id='run_c4s9crbjwjzg0b9g3200', dataset_id='ds_c4s5prvm7v0007rf4vag')"
   ]
  },
  {
   "cell_type": "code",
   "execution_count": null,
   "metadata": {},
   "outputs": [],
   "source": []
  },
  {
   "cell_type": "code",
   "execution_count": 116,
   "metadata": {},
   "outputs": [],
   "source": [
    "job = nucleus.autocurate.entropy(\"Mean Entropy (with Nones)\", [run], client)"
   ]
  },
  {
   "cell_type": "code",
   "execution_count": 117,
   "metadata": {},
   "outputs": [
    {
     "data": {
      "text/plain": [
       "{'job_id': 'job_c4s9n7wwm9105t7g22bg',\n",
       " 'status': 'Completed',\n",
       " 'message': {'status_log': 'No additional information can be provided at this time.'},\n",
       " 'job_progress': '0.00',\n",
       " 'completed_steps': 0,\n",
       " 'total_steps': 0}"
      ]
     },
     "execution_count": 117,
     "metadata": {},
     "output_type": "execute_result"
    }
   ],
   "source": [
    "job.status()"
   ]
  },
  {
   "cell_type": "code",
   "execution_count": null,
   "metadata": {},
   "outputs": [],
   "source": []
  },
  {
   "cell_type": "code",
   "execution_count": null,
   "metadata": {},
   "outputs": [],
   "source": []
  },
  {
   "cell_type": "code",
   "execution_count": 93,
   "metadata": {},
   "outputs": [],
   "source": [
    "dataset = client.get_dataset('ds_c4s4cx39h33g09hm2hh0')\n",
    "model = client.get_model('prj_c4s4ent9m78g099966j0')"
   ]
  },
  {
   "cell_type": "code",
   "execution_count": 94,
   "metadata": {},
   "outputs": [
    {
     "name": "stderr",
     "output_type": "stream",
     "text": [
      "0it [00:00, ?it/s]\n"
     ]
    }
   ],
   "source": [
    "run = model.create_run(name='test', dataset=dataset, predictions=[])"
   ]
  },
  {
   "cell_type": "code",
   "execution_count": 95,
   "metadata": {},
   "outputs": [],
   "source": [
    "pred = [nucleus.BoxPrediction(label='traffic sign', x=690, y=337, width=96, height=40, reference_id='34f3e55f-9919bb47.jpg', class_pdf={'person': 0.00022668440182883353,\n",
    " 'rider': 0.00012657202022136208,\n",
    " 'car': 0.001457674309916847,\n",
    " 'truck': 0.004805948302644584,\n",
    " 'bus': 0.015461443014798156,\n",
    " 'train': 0.0003142998148843214,\n",
    " 'motor': 0.00019848517426185146,\n",
    " 'bike': 0.0002754959884690579,\n",
    " 'traffic light': 0.0006128712862352474,\n",
    " 'traffic sign': 0.9765205256867397}, confidence=0.9765205256867397)]"
   ]
  },
  {
   "cell_type": "code",
   "execution_count": 97,
   "metadata": {},
   "outputs": [
    {
     "name": "stderr",
     "output_type": "stream",
     "text": [
      "100%|██████████| 1/1 [00:04<00:00,  4.73s/it]\n"
     ]
    },
    {
     "data": {
      "text/plain": [
       "{'model_run_id': 'run_c4s4ktqwm91bgxksm0e0',\n",
       " 'predictions_processed': 1,\n",
       " 'predictions_ignored': 0}"
      ]
     },
     "execution_count": 97,
     "metadata": {},
     "output_type": "execute_result"
    }
   ],
   "source": [
    "run.predict(pred)"
   ]
  },
  {
   "cell_type": "code",
   "execution_count": 100,
   "metadata": {},
   "outputs": [
    {
     "data": {
      "text/plain": [
       "{'person': 0.00022668440182883353,\n",
       " 'rider': 0.00012657202022136208,\n",
       " 'car': 0.001457674309916847,\n",
       " 'truck': 0.004805948302644584,\n",
       " 'bus': 0.015461443014798156,\n",
       " 'train': 0.0003142998148843214,\n",
       " 'motor': 0.00019848517426185146,\n",
       " 'bike': 0.0002754959884690579,\n",
       " 'traffic light': 0.0006128712862352474,\n",
       " 'traffic sign': 0.9765205256867397}"
      ]
     },
     "execution_count": 100,
     "metadata": {},
     "output_type": "execute_result"
    }
   ],
   "source": [
    "run.ungrouped_export()['box'][0].class_pdf"
   ]
  },
  {
   "cell_type": "code",
   "execution_count": null,
   "metadata": {},
   "outputs": [],
   "source": []
  }
 ],
 "metadata": {
  "kernelspec": {
   "display_name": "Python 3",
   "language": "python",
   "name": "python3"
  },
  "language_info": {
   "codemirror_mode": {
    "name": "ipython",
    "version": 3
   },
   "file_extension": ".py",
   "mimetype": "text/x-python",
   "name": "python",
   "nbconvert_exporter": "python",
   "pygments_lexer": "ipython3",
   "version": "3.8.10"
  }
 },
 "nbformat": 4,
 "nbformat_minor": 5
}