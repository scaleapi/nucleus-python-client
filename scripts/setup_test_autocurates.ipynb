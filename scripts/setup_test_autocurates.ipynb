{
 "cells": [
  {
   "cell_type": "code",
   "execution_count": 59,
   "metadata": {},
   "outputs": [],
   "source": [
    "import nucleus\n",
    "from pathlib import Path\n",
    "import nucleus.autocurate\n",
    "import numpy as np\n",
    "import scipy.stats"
   ]
  },
  {
   "cell_type": "code",
   "execution_count": 2,
   "metadata": {},
   "outputs": [],
   "source": [
    "API_KEY = 'test_47f6394c4822426389461f36334a45ff' # Vinjai's API key\n",
    "client = nucleus.NucleusClient(API_KEY)"
   ]
  },
  {
   "cell_type": "code",
   "execution_count": 3,
   "metadata": {},
   "outputs": [],
   "source": [
    "dataset = client.create_dataset(\"Test Autocurate\")\n",
    "DATASET_ID = dataset.info()['dataset_id']"
   ]
  },
  {
   "cell_type": "code",
   "execution_count": 4,
   "metadata": {},
   "outputs": [],
   "source": [
    "TEST_IMG_URLS = [\n",
    "    \"https://github.com/scaleapi/nucleus-python-client/raw/master/tests/testdata/airplane.jpeg\",\n",
    "    \"https://github.com/scaleapi/nucleus-python-client/raw/master/tests/testdata/arctichare.jpeg\",\n",
    "    \"https://github.com/scaleapi/nucleus-python-client/raw/master/tests/testdata/baboon.jpeg\",\n",
    "    \"https://github.com/scaleapi/nucleus-python-client/raw/master/tests/testdata/barbara.jpeg\",\n",
    "    \"https://github.com/scaleapi/nucleus-python-client/raw/master/tests/testdata/cat.jpeg\",\n",
    "]"
   ]
  },
  {
   "cell_type": "code",
   "execution_count": 8,
   "metadata": {},
   "outputs": [
    {
     "name": "stderr",
     "output_type": "stream",
     "text": [
      "Remote file batches: 100%|██████████| 1/1 [00:08<00:00,  8.40s/it]\n"
     ]
    }
   ],
   "source": [
    "ds_items = []\n",
    "for url in TEST_IMG_URLS:\n",
    "    ds_items.append(nucleus.DatasetItem(image_location=url, reference_id=Path(url).name))\n",
    "response = dataset.append(ds_items)"
   ]
  },
  {
   "cell_type": "code",
   "execution_count": 10,
   "metadata": {},
   "outputs": [],
   "source": [
    "model = client.add_model(name=\"Test Model\", reference_id=\"test-model\")"
   ]
  },
  {
   "cell_type": "code",
   "execution_count": 46,
   "metadata": {},
   "outputs": [
    {
     "name": "stderr",
     "output_type": "stream",
     "text": [
      "0it [00:00, ?it/s]\n"
     ]
    }
   ],
   "source": [
    "run = model.create_run(name=\"Test Model Run 2\", dataset=dataset, predictions=[])"
   ]
  },
  {
   "cell_type": "code",
   "execution_count": 47,
   "metadata": {},
   "outputs": [],
   "source": [
    "num_predictions_per_img = [2, 1, 3, 0, 2]\n",
    "predictions = [\n",
    "    nucleus.BoxPrediction(\n",
    "        label=f\"Test Prediction {j}-{i}\",\n",
    "        x=60+i*10+n*10,\n",
    "        y=50+i*10+n*10,\n",
    "        width=80+i*10+n*10,\n",
    "        height=70+i*10+n*10,\n",
    "        reference_id=Path(TEST_IMG_URLS[j]).name,\n",
    "        class_pdf={\"label_A\": i*0.05+n*0.05, \"label_B\": 0.1+i*0.02+n*0.02, \"label_C\": 0.9-i*0.07-n*0.07},\n",
    "        confidence=max(i*0.05+n*0.05, 0.1+i*0.02+n*0.02, 0.9-i*0.07-n*0.07),\n",
    "    )\n",
    "    for j, n in enumerate(num_predictions_per_img) for i in range(n)\n",
    "]"
   ]
  },
  {
   "cell_type": "code",
   "execution_count": 48,
   "metadata": {},
   "outputs": [
    {
     "data": {
      "text/plain": [
       "[BoxPrediction(label='Test Prediction 0-0', x=80, y=70, width=100, height=90, reference_id='airplane.jpeg', item_id=None, annotation_id=None, metadata={}),\n",
       " BoxPrediction(label='Test Prediction 0-1', x=90, y=80, width=110, height=100, reference_id='airplane.jpeg', item_id=None, annotation_id=None, metadata={}),\n",
       " BoxPrediction(label='Test Prediction 1-0', x=70, y=60, width=90, height=80, reference_id='arctichare.jpeg', item_id=None, annotation_id=None, metadata={}),\n",
       " BoxPrediction(label='Test Prediction 2-0', x=90, y=80, width=110, height=100, reference_id='baboon.jpeg', item_id=None, annotation_id=None, metadata={}),\n",
       " BoxPrediction(label='Test Prediction 2-1', x=100, y=90, width=120, height=110, reference_id='baboon.jpeg', item_id=None, annotation_id=None, metadata={}),\n",
       " BoxPrediction(label='Test Prediction 2-2', x=110, y=100, width=130, height=120, reference_id='baboon.jpeg', item_id=None, annotation_id=None, metadata={}),\n",
       " BoxPrediction(label='Test Prediction 4-0', x=80, y=70, width=100, height=90, reference_id='cat.jpeg', item_id=None, annotation_id=None, metadata={}),\n",
       " BoxPrediction(label='Test Prediction 4-1', x=90, y=80, width=110, height=100, reference_id='cat.jpeg', item_id=None, annotation_id=None, metadata={})]"
      ]
     },
     "execution_count": 48,
     "metadata": {},
     "output_type": "execute_result"
    }
   ],
   "source": [
    "predictions"
   ]
  },
  {
   "cell_type": "code",
   "execution_count": 49,
   "metadata": {},
   "outputs": [
    {
     "name": "stderr",
     "output_type": "stream",
     "text": [
      "100%|██████████| 1/1 [00:01<00:00,  1.81s/it]\n"
     ]
    },
    {
     "data": {
      "text/plain": [
       "{'model_run_id': 'run_c4rhn9dwm91873cjtar0',\n",
       " 'predictions_processed': 8,\n",
       " 'predictions_ignored': 0}"
      ]
     },
     "execution_count": 49,
     "metadata": {},
     "output_type": "execute_result"
    }
   ],
   "source": [
    "run.predict(predictions)"
   ]
  },
  {
   "cell_type": "code",
   "execution_count": 50,
   "metadata": {},
   "outputs": [
    {
     "data": {
      "text/plain": [
       "{'model_run_id': 'run_c4rhn9dwm91873cjtar0'}"
      ]
     },
     "execution_count": 50,
     "metadata": {},
     "output_type": "execute_result"
    }
   ],
   "source": [
    "run.commit()"
   ]
  },
  {
   "cell_type": "code",
   "execution_count": 66,
   "metadata": {},
   "outputs": [
    {
     "data": {
      "text/plain": [
       "AsyncJob(job_id='job_c4rmxenwm91adf5m2wgg', job_last_known_status='Started', job_type='autocurateEntropy', job_creation_time='2021-09-02T18:22:51.550Z', client=NucleusClient(api_key='test_47f6394c4822426389461f36334a45ff', use_notebook=False, endpoint='http://localhost:3000/v1/nucleus'))"
      ]
     },
     "execution_count": 66,
     "metadata": {},
     "output_type": "execute_result"
    }
   ],
   "source": [
    "nucleus.autocurate.entropy(\"Mean Entropy Autocurate\", [run], client)"
   ]
  },
  {
   "cell_type": "code",
   "execution_count": 56,
   "metadata": {},
   "outputs": [],
   "source": [
    "taxonomy = ['label_A', 'label_B', 'label_C']\n",
    "entropies_per_pred = [scipy.stats.entropy([pred.class_pdf[c] for c in taxonomy]) for pred in predictions]"
   ]
  },
  {
   "cell_type": "code",
   "execution_count": 62,
   "metadata": {},
   "outputs": [],
   "source": [
    "def mean(slice):\n",
    "    if len(slice) == 0:\n",
    "        return 0\n",
    "    return np.mean(slice)\n",
    "entropies_per_image = [mean(entropies_per_pred[sum(num_predictions_per_img[:i]):sum(num_predictions_per_img[:i+1])]) for i in range(len(num_predictions_per_img))]"
   ]
  },
  {
   "cell_type": "code",
   "execution_count": 68,
   "metadata": {},
   "outputs": [
    {
     "data": {
      "text/plain": [
       "[(0.9193399971342323, 'baboon.jpeg'),\n",
       " (0.7739506420086124, 'cat.jpeg'),\n",
       " (0.7739506420086124, 'airplane.jpeg'),\n",
       " (0.5588717879206501, 'arctichare.jpeg'),\n",
       " (0, 'barbara.jpeg')]"
      ]
     },
     "execution_count": 68,
     "metadata": {},
     "output_type": "execute_result"
    }
   ],
   "source": [
    "list(sorted(zip(entropies_per_image, [Path(url).name for url in TEST_IMG_URLS]), reverse=True))"
   ]
  },
  {
   "cell_type": "code",
   "execution_count": null,
   "metadata": {},
   "outputs": [],
   "source": []
  }
 ],
 "metadata": {
  "kernelspec": {
   "display_name": "Python 3",
   "language": "python",
   "name": "python3"
  },
  "language_info": {
   "codemirror_mode": {
    "name": "ipython",
    "version": 3
   },
   "file_extension": ".py",
   "mimetype": "text/x-python",
   "name": "python",
   "nbconvert_exporter": "python",
   "pygments_lexer": "ipython3",
   "version": "3.8.10"
  }
 },
 "nbformat": 4,
 "nbformat_minor": 5
}